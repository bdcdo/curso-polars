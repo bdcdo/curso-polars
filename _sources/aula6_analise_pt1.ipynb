{
 "cells": [
  {
   "cell_type": "markdown",
   "id": "21389f7e",
   "metadata": {},
   "source": [
    "# 6. Análise dos dados - Parte 1"
   ]
  },
  {
   "cell_type": "code",
   "execution_count": 1,
   "id": "144782e7",
   "metadata": {},
   "outputs": [
    {
     "data": {
      "text/plain": [
       "['N. Processo',\n",
       " 'Título (Português)',\n",
       " 'Título (Inglês)',\n",
       " 'Beneficiário',\n",
       " 'Instituição',\n",
       " 'Cidade Instituição',\n",
       " 'Instituição Parceira',\n",
       " 'Pesquisador Responsável',\n",
       " 'Local de Pesquisa',\n",
       " 'Modalidade de apoio',\n",
       " 'Grande Área do Conhecimento',\n",
       " 'Área do Conhecimento',\n",
       " 'Subárea do Conhecimento',\n",
       " 'Assuntos',\n",
       " 'Data de Início',\n",
       " 'Data de Término',\n",
       " 'Acordo(s)/Convênio(s) de Cooperação com a FAPESP',\n",
       " 'Instituições no Exterior',\n",
       " 'Pais de Origem',\n",
       " 'Pesquisador responsável no exterior',\n",
       " 'Resumo (Português)',\n",
       " 'Resumo (Inglês)',\n",
       " 'Processos Vinculados']"
      ]
     },
     "execution_count": 1,
     "metadata": {},
     "output_type": "execute_result"
    }
   ],
   "source": [
    "import polars as pl\n",
    "df = pl.read_csv('base_fapesp_tratada.csv')\n",
    "df.columns"
   ]
  },
  {
   "cell_type": "markdown",
   "id": "e9baab99",
   "metadata": {},
   "source": [
    "Vamos começar então a responder a perguntas que fizemos no tópico anterior:\n",
    "\n",
    "## Quais são as cidades que mais recebem financiamento da FAPESP?\n",
    "\n",
    "Para responder a essa pergunta, como vimos, a coluna relevante é Cidade Instituição. Para responder essa pergunta, é extremamente simples, basta contarmos os valores desta coluna."
   ]
  },
  {
   "cell_type": "code",
   "execution_count": 2,
   "id": "992197ca",
   "metadata": {},
   "outputs": [
    {
     "data": {
      "text/html": [
       "<div><style>\n",
       ".dataframe > thead > tr,\n",
       ".dataframe > tbody > tr {\n",
       "  text-align: right;\n",
       "  white-space: pre-wrap;\n",
       "}\n",
       "</style>\n",
       "<small>shape: (125, 2)</small><table border=\"1\" class=\"dataframe\"><thead><tr><th>Cidade Instituição</th><th>count</th></tr><tr><td>str</td><td>u32</td></tr></thead><tbody><tr><td>&quot;São Paulo&quot;</td><td>49279</td></tr><tr><td>&quot;Campinas&quot;</td><td>22621</td></tr><tr><td>&quot;São Carlos&quot;</td><td>14888</td></tr><tr><td>&quot;Ribeirão Preto&quot;</td><td>10875</td></tr><tr><td>&quot;Botucatu&quot;</td><td>6299</td></tr><tr><td>&hellip;</td><td>&hellip;</td></tr><tr><td>&quot;Guarujá&quot;</td><td>1</td></tr><tr><td>&quot;Espírito Santo do Pinhal&quot;</td><td>1</td></tr><tr><td>&quot;Agudos&quot;</td><td>1</td></tr><tr><td>&quot;Batatais&quot;</td><td>1</td></tr><tr><td>&quot;Mirassol&quot;</td><td>1</td></tr></tbody></table></div>"
      ],
      "text/plain": [
       "shape: (125, 2)\n",
       "┌──────────────────────────┬───────┐\n",
       "│ Cidade Instituição       ┆ count │\n",
       "│ ---                      ┆ ---   │\n",
       "│ str                      ┆ u32   │\n",
       "╞══════════════════════════╪═══════╡\n",
       "│ São Paulo                ┆ 49279 │\n",
       "│ Campinas                 ┆ 22621 │\n",
       "│ São Carlos               ┆ 14888 │\n",
       "│ Ribeirão Preto           ┆ 10875 │\n",
       "│ Botucatu                 ┆ 6299  │\n",
       "│ …                        ┆ …     │\n",
       "│ Guarujá                  ┆ 1     │\n",
       "│ Espírito Santo do Pinhal ┆ 1     │\n",
       "│ Agudos                   ┆ 1     │\n",
       "│ Batatais                 ┆ 1     │\n",
       "│ Mirassol                 ┆ 1     │\n",
       "└──────────────────────────┴───────┘"
      ]
     },
     "execution_count": 2,
     "metadata": {},
     "output_type": "execute_result"
    }
   ],
   "source": [
    "df['Cidade Instituição'].value_counts(sort=True)"
   ]
  },
  {
   "cell_type": "markdown",
   "id": "751fe078",
   "metadata": {},
   "source": [
    "Podemos focar nas cidades que mais recebem financiamento:"
   ]
  },
  {
   "cell_type": "code",
   "execution_count": 3,
   "id": "a45cba5a",
   "metadata": {},
   "outputs": [
    {
     "data": {
      "text/html": [
       "<div><style>\n",
       ".dataframe > thead > tr,\n",
       ".dataframe > tbody > tr {\n",
       "  text-align: right;\n",
       "  white-space: pre-wrap;\n",
       "}\n",
       "</style>\n",
       "<small>shape: (10, 2)</small><table border=\"1\" class=\"dataframe\"><thead><tr><th>Cidade Instituição</th><th>count</th></tr><tr><td>str</td><td>u32</td></tr></thead><tbody><tr><td>&quot;São Paulo&quot;</td><td>49279</td></tr><tr><td>&quot;Campinas&quot;</td><td>22621</td></tr><tr><td>&quot;São Carlos&quot;</td><td>14888</td></tr><tr><td>&quot;Ribeirão Preto&quot;</td><td>10875</td></tr><tr><td>&quot;Botucatu&quot;</td><td>6299</td></tr><tr><td>&quot;Piracicaba&quot;</td><td>5966</td></tr><tr><td>null</td><td>5703</td></tr><tr><td>&quot;Araraquara&quot;</td><td>4316</td></tr><tr><td>&quot;Bauru&quot;</td><td>4003</td></tr><tr><td>&quot;Jaboticabal&quot;</td><td>3667</td></tr></tbody></table></div>"
      ],
      "text/plain": [
       "shape: (10, 2)\n",
       "┌────────────────────┬───────┐\n",
       "│ Cidade Instituição ┆ count │\n",
       "│ ---                ┆ ---   │\n",
       "│ str                ┆ u32   │\n",
       "╞════════════════════╪═══════╡\n",
       "│ São Paulo          ┆ 49279 │\n",
       "│ Campinas           ┆ 22621 │\n",
       "│ São Carlos         ┆ 14888 │\n",
       "│ Ribeirão Preto     ┆ 10875 │\n",
       "│ Botucatu           ┆ 6299  │\n",
       "│ Piracicaba         ┆ 5966  │\n",
       "│ null               ┆ 5703  │\n",
       "│ Araraquara         ┆ 4316  │\n",
       "│ Bauru              ┆ 4003  │\n",
       "│ Jaboticabal        ┆ 3667  │\n",
       "└────────────────────┴───────┘"
      ]
     },
     "execution_count": 3,
     "metadata": {},
     "output_type": "execute_result"
    }
   ],
   "source": [
    "df['Cidade Instituição'].value_counts(sort=True).head(10)"
   ]
  },
  {
   "cell_type": "markdown",
   "id": "d086410d",
   "metadata": {},
   "source": [
    "Ou salvar o resultado completo como uma planilha no excel para utilizar esses dados em nosso artigo científico."
   ]
  },
  {
   "cell_type": "code",
   "execution_count": 10,
   "id": "62919835",
   "metadata": {},
   "outputs": [
    {
     "data": {
      "text/plain": [
       "<xlsxwriter.workbook.Workbook at 0x74b4888d14f0>"
      ]
     },
     "execution_count": 10,
     "metadata": {},
     "output_type": "execute_result"
    }
   ],
   "source": [
    "df['Cidade Instituição'].value_counts(sort=True).write_excel('fapesp_cidades.xlsx')"
   ]
  },
  {
   "cell_type": "markdown",
   "id": "1028517c",
   "metadata": {},
   "source": [
    "Bastante simples, certo? Isso não é tão diferente de gerar uma tabela dinâmica no excel, mas o polars te permite maior precisão e velocidade na manipulação dos dados, além de tornar possível compartilhar exatamente o que você fez para gerar cada conjunto de dados incluído no seu artigo."
   ]
  },
  {
   "cell_type": "markdown",
   "id": "3ce94602",
   "metadata": {},
   "source": [
    "## Quais são as principais áreas do conhecimento e como elas se dividem entre as grandes áreas?\n",
    "Para responder essas perguntas, duas colunas principais importam: Grande Área do Conhecimento e Área do Conhecimento."
   ]
  },
  {
   "cell_type": "code",
   "execution_count": 5,
   "id": "d366081b",
   "metadata": {},
   "outputs": [
    {
     "data": {
      "text/html": [
       "<div><style>\n",
       ".dataframe > thead > tr,\n",
       ".dataframe > tbody > tr {\n",
       "  text-align: right;\n",
       "  white-space: pre-wrap;\n",
       "}\n",
       "</style>\n",
       "<small>shape: (9, 2)</small><table border=\"1\" class=\"dataframe\"><thead><tr><th>Grande Área do Conhecimento</th><th>count</th></tr><tr><td>str</td><td>u32</td></tr></thead><tbody><tr><td>&quot;Ciências Biológicas&quot;</td><td>34201</td></tr><tr><td>&quot;Ciências da Saúde&quot;</td><td>26943</td></tr><tr><td>&quot;Ciências Exatas e da Terra&quot;</td><td>26081</td></tr><tr><td>&quot;Ciências Agrárias&quot;</td><td>19452</td></tr><tr><td>&quot;Engenharias&quot;</td><td>17002</td></tr><tr><td>&quot;Ciências Humanas&quot;</td><td>16937</td></tr><tr><td>&quot;Ciências Sociais Aplicadas&quot;</td><td>7284</td></tr><tr><td>&quot;Linguística, Letras e Artes&quot;</td><td>6190</td></tr><tr><td>&quot;Interdisciplinar&quot;</td><td>1677</td></tr></tbody></table></div>"
      ],
      "text/plain": [
       "shape: (9, 2)\n",
       "┌─────────────────────────────┬───────┐\n",
       "│ Grande Área do Conhecimento ┆ count │\n",
       "│ ---                         ┆ ---   │\n",
       "│ str                         ┆ u32   │\n",
       "╞═════════════════════════════╪═══════╡\n",
       "│ Ciências Biológicas         ┆ 34201 │\n",
       "│ Ciências da Saúde           ┆ 26943 │\n",
       "│ Ciências Exatas e da Terra  ┆ 26081 │\n",
       "│ Ciências Agrárias           ┆ 19452 │\n",
       "│ Engenharias                 ┆ 17002 │\n",
       "│ Ciências Humanas            ┆ 16937 │\n",
       "│ Ciências Sociais Aplicadas  ┆ 7284  │\n",
       "│ Linguística, Letras e Artes ┆ 6190  │\n",
       "│ Interdisciplinar            ┆ 1677  │\n",
       "└─────────────────────────────┴───────┘"
      ]
     },
     "execution_count": 5,
     "metadata": {},
     "output_type": "execute_result"
    }
   ],
   "source": [
    "df['Grande Área do Conhecimento'].value_counts(sort=True)"
   ]
  },
  {
   "cell_type": "code",
   "execution_count": 6,
   "id": "b3979474",
   "metadata": {},
   "outputs": [
    {
     "data": {
      "text/html": [
       "<div><style>\n",
       ".dataframe > thead > tr,\n",
       ".dataframe > tbody > tr {\n",
       "  text-align: right;\n",
       "  white-space: pre-wrap;\n",
       "}\n",
       "</style>\n",
       "<small>shape: (77, 2)</small><table border=\"1\" class=\"dataframe\"><thead><tr><th>Área do Conhecimento</th><th>count</th></tr><tr><td>str</td><td>u32</td></tr></thead><tbody><tr><td>&quot;Medicina&quot;</td><td>9868</td></tr><tr><td>&quot;Química&quot;</td><td>7974</td></tr><tr><td>&quot;Odontologia&quot;</td><td>7032</td></tr><tr><td>&quot;Medicina Veterinária&quot;</td><td>6111</td></tr><tr><td>&quot;Física&quot;</td><td>5580</td></tr><tr><td>&hellip;</td><td>&hellip;</td></tr><tr><td>&quot;Engenharia de Minas&quot;</td><td>92</td></tr><tr><td>&quot;Demografia&quot;</td><td>91</td></tr><tr><td>&quot;Teologia&quot;</td><td>45</td></tr><tr><td>&quot;Museologia&quot;</td><td>42</td></tr><tr><td>&quot;Economia Doméstica&quot;</td><td>1</td></tr></tbody></table></div>"
      ],
      "text/plain": [
       "shape: (77, 2)\n",
       "┌──────────────────────┬───────┐\n",
       "│ Área do Conhecimento ┆ count │\n",
       "│ ---                  ┆ ---   │\n",
       "│ str                  ┆ u32   │\n",
       "╞══════════════════════╪═══════╡\n",
       "│ Medicina             ┆ 9868  │\n",
       "│ Química              ┆ 7974  │\n",
       "│ Odontologia          ┆ 7032  │\n",
       "│ Medicina Veterinária ┆ 6111  │\n",
       "│ Física               ┆ 5580  │\n",
       "│ …                    ┆ …     │\n",
       "│ Engenharia de Minas  ┆ 92    │\n",
       "│ Demografia           ┆ 91    │\n",
       "│ Teologia             ┆ 45    │\n",
       "│ Museologia           ┆ 42    │\n",
       "│ Economia Doméstica   ┆ 1     │\n",
       "└──────────────────────┴───────┘"
      ]
     },
     "execution_count": 6,
     "metadata": {},
     "output_type": "execute_result"
    }
   ],
   "source": [
    "df['Área do Conhecimento'].value_counts(sort=True)"
   ]
  },
  {
   "cell_type": "markdown",
   "id": "bb253561",
   "metadata": {},
   "source": [
    "Analisar esses dados separadamente é fácil e nós já sabemos como fazer isso, mas e analisar as duas colunas em conjunto?\n",
    "\n",
    "Para isso, precisamos agrupar os dados de uma coluna a partir dos dados da outra. Isso pode ser feito usando o `.group_by()`."
   ]
  },
  {
   "cell_type": "code",
   "execution_count": 7,
   "id": "5e0a293d",
   "metadata": {},
   "outputs": [
    {
     "data": {
      "text/html": [
       "<div><style>\n",
       ".dataframe > thead > tr,\n",
       ".dataframe > tbody > tr {\n",
       "  text-align: right;\n",
       "  white-space: pre-wrap;\n",
       "}\n",
       "</style>\n",
       "<small>shape: (10, 3)</small><table border=\"1\" class=\"dataframe\"><thead><tr><th>Grande Área do Conhecimento</th><th>Área do Conhecimento</th><th>count</th></tr><tr><td>str</td><td>str</td><td>u32</td></tr></thead><tbody><tr><td>&quot;Ciências da Saúde&quot;</td><td>&quot;Medicina&quot;</td><td>9868</td></tr><tr><td>&quot;Ciências Exatas e da Terra&quot;</td><td>&quot;Química&quot;</td><td>7974</td></tr><tr><td>&quot;Ciências da Saúde&quot;</td><td>&quot;Odontologia&quot;</td><td>7032</td></tr><tr><td>&quot;Ciências Agrárias&quot;</td><td>&quot;Medicina Veterinária&quot;</td><td>6111</td></tr><tr><td>&quot;Ciências Exatas e da Terra&quot;</td><td>&quot;Física&quot;</td><td>5579</td></tr><tr><td>&quot;Ciências Biológicas&quot;</td><td>&quot;Bioquímica&quot;</td><td>5399</td></tr><tr><td>&quot;Ciências Agrárias&quot;</td><td>&quot;Agronomia&quot;</td><td>5357</td></tr><tr><td>&quot;Ciências Biológicas&quot;</td><td>&quot;Genética&quot;</td><td>4610</td></tr><tr><td>&quot;Ciências Exatas e da Terra&quot;</td><td>&quot;Ciência da Computação&quot;</td><td>4593</td></tr><tr><td>&quot;Ciências Biológicas&quot;</td><td>&quot;Fisiologia&quot;</td><td>3550</td></tr></tbody></table></div>"
      ],
      "text/plain": [
       "shape: (10, 3)\n",
       "┌─────────────────────────────┬───────────────────────┬───────┐\n",
       "│ Grande Área do Conhecimento ┆ Área do Conhecimento  ┆ count │\n",
       "│ ---                         ┆ ---                   ┆ ---   │\n",
       "│ str                         ┆ str                   ┆ u32   │\n",
       "╞═════════════════════════════╪═══════════════════════╪═══════╡\n",
       "│ Ciências da Saúde           ┆ Medicina              ┆ 9868  │\n",
       "│ Ciências Exatas e da Terra  ┆ Química               ┆ 7974  │\n",
       "│ Ciências da Saúde           ┆ Odontologia           ┆ 7032  │\n",
       "│ Ciências Agrárias           ┆ Medicina Veterinária  ┆ 6111  │\n",
       "│ Ciências Exatas e da Terra  ┆ Física                ┆ 5579  │\n",
       "│ Ciências Biológicas         ┆ Bioquímica            ┆ 5399  │\n",
       "│ Ciências Agrárias           ┆ Agronomia             ┆ 5357  │\n",
       "│ Ciências Biológicas         ┆ Genética              ┆ 4610  │\n",
       "│ Ciências Exatas e da Terra  ┆ Ciência da Computação ┆ 4593  │\n",
       "│ Ciências Biológicas         ┆ Fisiologia            ┆ 3550  │\n",
       "└─────────────────────────────┴───────────────────────┴───────┘"
      ]
     },
     "execution_count": 7,
     "metadata": {},
     "output_type": "execute_result"
    }
   ],
   "source": [
    "(\n",
    "    df\n",
    "    .group_by(['Grande Área do Conhecimento', 'Área do Conhecimento'])\n",
    "    .agg(pl.len().alias('count'))\n",
    "    .sort('count', descending=True)\n",
    "    .head(10)\n",
    ")"
   ]
  },
  {
   "cell_type": "markdown",
   "id": "73f767c1",
   "metadata": {},
   "source": [
    "Vamos entender esse código:\n",
    "\n",
    "`(df`: Abrimos o parenteses para indicar que tudo que vem a seguir é uma só operação e declaramos que queremos trabalhar com `df`.\n",
    "\n",
    "`.group_by(['Grande Área do Conhecimento', 'Área do Conhecimento'])`: agrupamos df por estas duas colunas.\n",
    "\n",
    "`.agg(pl.len().alias('count'))`: contamos qual o tamanho (length, por isso len()) de cada subconjunto dessas duas e salvamos esse resultado em uma coluna que irá se chamar \"count\".\n",
    "\n",
    "`.head(10)`: selecionamos apenas os 10 primeiros resultados.\n",
    "\n",
    "Com essa operação, pudemos ver que as áreas do conhecimento que mais recebem bolsas da fapesp são principalmente áreas ligadas a ciências da saúde e biológicas."
   ]
  },
  {
   "cell_type": "markdown",
   "id": "24ed703d",
   "metadata": {},
   "source": [
    "Mas e se, por exemplo, quisessemos na verdade todos os resultados e que, para cada grande área, tivessemos o ranking do maior ao menor?"
   ]
  },
  {
   "cell_type": "code",
   "execution_count": 8,
   "id": "d25c3568",
   "metadata": {},
   "outputs": [
    {
     "data": {
      "text/html": [
       "<div><style>\n",
       ".dataframe > thead > tr,\n",
       ".dataframe > tbody > tr {\n",
       "  text-align: right;\n",
       "  white-space: pre-wrap;\n",
       "}\n",
       "</style>\n",
       "<small>shape: (78, 3)</small><table border=\"1\" class=\"dataframe\"><thead><tr><th>Grande Área do Conhecimento</th><th>Área do Conhecimento</th><th>count</th></tr><tr><td>str</td><td>str</td><td>u32</td></tr></thead><tbody><tr><td>&quot;Ciências Agrárias&quot;</td><td>&quot;Medicina Veterinária&quot;</td><td>6111</td></tr><tr><td>&quot;Ciências Agrárias&quot;</td><td>&quot;Agronomia&quot;</td><td>5357</td></tr><tr><td>&quot;Ciências Agrárias&quot;</td><td>&quot;Zootecnia&quot;</td><td>2980</td></tr><tr><td>&quot;Ciências Agrárias&quot;</td><td>&quot;Ciência e Tecnologia de Alimen…</td><td>2773</td></tr><tr><td>&quot;Ciências Agrárias&quot;</td><td>&quot;Recursos Pesqueiros e Engenhar…</td><td>848</td></tr><tr><td>&hellip;</td><td>&hellip;</td><td>&hellip;</td></tr><tr><td>&quot;Interdisciplinar&quot;</td><td>null</td><td>1676</td></tr><tr><td>&quot;Interdisciplinar&quot;</td><td>&quot;Física&quot;</td><td>1</td></tr><tr><td>&quot;Linguística, Letras e Artes&quot;</td><td>&quot;Letras&quot;</td><td>2352</td></tr><tr><td>&quot;Linguística, Letras e Artes&quot;</td><td>&quot;Artes&quot;</td><td>2190</td></tr><tr><td>&quot;Linguística, Letras e Artes&quot;</td><td>&quot;Linguística&quot;</td><td>1648</td></tr></tbody></table></div>"
      ],
      "text/plain": [
       "shape: (78, 3)\n",
       "┌─────────────────────────────┬─────────────────────────────────┬───────┐\n",
       "│ Grande Área do Conhecimento ┆ Área do Conhecimento            ┆ count │\n",
       "│ ---                         ┆ ---                             ┆ ---   │\n",
       "│ str                         ┆ str                             ┆ u32   │\n",
       "╞═════════════════════════════╪═════════════════════════════════╪═══════╡\n",
       "│ Ciências Agrárias           ┆ Medicina Veterinária            ┆ 6111  │\n",
       "│ Ciências Agrárias           ┆ Agronomia                       ┆ 5357  │\n",
       "│ Ciências Agrárias           ┆ Zootecnia                       ┆ 2980  │\n",
       "│ Ciências Agrárias           ┆ Ciência e Tecnologia de Alimen… ┆ 2773  │\n",
       "│ Ciências Agrárias           ┆ Recursos Pesqueiros e Engenhar… ┆ 848   │\n",
       "│ …                           ┆ …                               ┆ …     │\n",
       "│ Interdisciplinar            ┆ null                            ┆ 1676  │\n",
       "│ Interdisciplinar            ┆ Física                          ┆ 1     │\n",
       "│ Linguística, Letras e Artes ┆ Letras                          ┆ 2352  │\n",
       "│ Linguística, Letras e Artes ┆ Artes                           ┆ 2190  │\n",
       "│ Linguística, Letras e Artes ┆ Linguística                     ┆ 1648  │\n",
       "└─────────────────────────────┴─────────────────────────────────┴───────┘"
      ]
     },
     "execution_count": 8,
     "metadata": {},
     "output_type": "execute_result"
    }
   ],
   "source": [
    "(\n",
    "    df\n",
    "    .group_by(['Grande Área do Conhecimento', 'Área do Conhecimento'])\n",
    "    .agg(pl.len().alias('count'))\n",
    "    .sort(['Grande Área do Conhecimento', 'count'], descending=[False, True])\n",
    ")"
   ]
  },
  {
   "cell_type": "markdown",
   "id": "ef2310cc",
   "metadata": {},
   "source": [
    "Para isso, tiramos o `.head(10)` e acrescentamos:\n",
    "\n",
    "`.sort(['Grande Área do Conhecimento', 'count'], descending=[False, True])` : ordenamos Grande Área do Conhecimento em ordem alfabética e, dentro de cada grande área, mostramos do maior para o menor a partir da contagem.\n",
    "\n",
    "\n",
    "\n",
    "\n",
    "\"Mas poxa, Bruno, na verdade eu só me interesso por ciências sociais aplicadas e elas nem aparecem direito nesses rankings.\"\n",
    "\n",
    "Podemos olhar especificamente para esse subconjunto de casos:"
   ]
  },
  {
   "cell_type": "code",
   "execution_count": 9,
   "id": "2ec8322e",
   "metadata": {},
   "outputs": [
    {
     "data": {
      "text/html": [
       "<div><style>\n",
       ".dataframe > thead > tr,\n",
       ".dataframe > tbody > tr {\n",
       "  text-align: right;\n",
       "  white-space: pre-wrap;\n",
       "}\n",
       "</style>\n",
       "<small>shape: (10, 2)</small><table border=\"1\" class=\"dataframe\"><thead><tr><th>Área do Conhecimento</th><th>count</th></tr><tr><td>str</td><td>u32</td></tr></thead><tbody><tr><td>&quot;Arquitetura e Urbanismo&quot;</td><td>2086</td></tr><tr><td>&quot;Direito&quot;</td><td>1236</td></tr><tr><td>&quot;Economia&quot;</td><td>1019</td></tr><tr><td>&quot;Comunicação&quot;</td><td>990</td></tr><tr><td>&quot;Administração&quot;</td><td>504</td></tr><tr><td>&quot;Planejamento Urbano e Regional&quot;</td><td>474</td></tr><tr><td>&quot;Ciência da Informação&quot;</td><td>400</td></tr><tr><td>&quot;Desenho Industrial&quot;</td><td>189</td></tr><tr><td>&quot;Serviço Social&quot;</td><td>144</td></tr><tr><td>&quot;Turismo&quot;</td><td>108</td></tr></tbody></table></div>"
      ],
      "text/plain": [
       "shape: (10, 2)\n",
       "┌────────────────────────────────┬───────┐\n",
       "│ Área do Conhecimento           ┆ count │\n",
       "│ ---                            ┆ ---   │\n",
       "│ str                            ┆ u32   │\n",
       "╞════════════════════════════════╪═══════╡\n",
       "│ Arquitetura e Urbanismo        ┆ 2086  │\n",
       "│ Direito                        ┆ 1236  │\n",
       "│ Economia                       ┆ 1019  │\n",
       "│ Comunicação                    ┆ 990   │\n",
       "│ Administração                  ┆ 504   │\n",
       "│ Planejamento Urbano e Regional ┆ 474   │\n",
       "│ Ciência da Informação          ┆ 400   │\n",
       "│ Desenho Industrial             ┆ 189   │\n",
       "│ Serviço Social                 ┆ 144   │\n",
       "│ Turismo                        ┆ 108   │\n",
       "└────────────────────────────────┴───────┘"
      ]
     },
     "execution_count": 9,
     "metadata": {},
     "output_type": "execute_result"
    }
   ],
   "source": [
    "(\n",
    "    df\n",
    "    .filter(pl.col('Grande Área do Conhecimento') == 'Ciências Sociais Aplicadas')\n",
    "    ['Área do Conhecimento']\n",
    "    .value_counts(sort=True)\n",
    "    .head(10)\n",
    ")"
   ]
  },
  {
   "cell_type": "markdown",
   "id": "ab0b7ad2",
   "metadata": {},
   "source": [
    "Vejamos, depois de abrir parenteses, nós:\n",
    "\n",
    "`df`: indicamos que estamos trabalhando com `df`.\n",
    "\n",
    "`.filter(pl.col('Grande Área do Conhecimento') == 'Ciências Sociais Aplicadas')`: realizamos um filtro para selecionar apenas as linhas de `df` cujo conteúdo na coluna 'Grande Área do Conhecimento' é 'Ciências Sociais Aplicadas'.  \n",
    "OBS: note que foi utilizado \"==\" e não apenas \"=\". No python, \"==\" faz uma comparação - é igual ou não é? -, enquanto o \"=\" faz uma atribuição - a partir de agora, isso É isso.\n",
    "\n",
    "`['Área do Conhecimento']`: selecionamos a coluna que queremos observar.\n",
    "\n",
    "`.value_counts(sort=True)`: contamos os elementos dessa coluna e os ordenamos.\n",
    "\n",
    "`.head(10)`: identificamos os 10 primeiros itens resultantes da operação."
   ]
  },
  {
   "cell_type": "markdown",
   "id": "0c82a66a",
   "metadata": {},
   "source": [
    "Eu particularmente não esperaria que arquitetura e urbanismo estivesse a frente de direito e economia. Temos já aí um resultado potencialmente interessante."
   ]
  }
 ],
 "metadata": {
  "kernelspec": {
   "display_name": ".venv",
   "language": "python",
   "name": "python3"
  },
  "language_info": {
   "codemirror_mode": {
    "name": "ipython",
    "version": 3
   },
   "file_extension": ".py",
   "mimetype": "text/x-python",
   "name": "python",
   "nbconvert_exporter": "python",
   "pygments_lexer": "ipython3",
   "version": "3.12.3"
  }
 },
 "nbformat": 4,
 "nbformat_minor": 5
}
