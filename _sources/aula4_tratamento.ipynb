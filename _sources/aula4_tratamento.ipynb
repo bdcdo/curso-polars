{
 "cells": [
  {
   "cell_type": "markdown",
   "id": "93abd379",
   "metadata": {},
   "source": [
    "# 4. Tratamento e seleção de colunas"
   ]
  },
  {
   "cell_type": "code",
   "execution_count": 1,
   "id": "e7cfe764",
   "metadata": {},
   "outputs": [],
   "source": [
    "import polars as pl\n",
    "df = pl.read_csv('base_fapesp.csv')"
   ]
  },
  {
   "cell_type": "code",
   "execution_count": 2,
   "id": "e8650557",
   "metadata": {},
   "outputs": [
    {
     "data": {
      "text/html": [
       "<div><style>\n",
       ".dataframe > thead > tr,\n",
       ".dataframe > tbody > tr {\n",
       "  text-align: right;\n",
       "  white-space: pre-wrap;\n",
       "}\n",
       "</style>\n",
       "<small>shape: (5, 30)</small><table border=\"1\" class=\"dataframe\"><thead><tr><th>N. Processo</th><th>Título (Português)</th><th>Título (Inglês)</th><th>Beneficiário</th><th>Instituição</th><th>Cidade Instituição</th><th>Instituição Parceira</th><th>Empresa</th><th>Município</th><th>Pesquisador Responsável</th><th>Pesquisadores Principais</th><th>Pesquisadores Associados</th><th>Supervisor</th><th>Local de Pesquisa</th><th>Pesquisador Visitante</th><th>Instituição do Pesquisador Visitante</th><th>Modalidade de apoio</th><th>Grande Área do Conhecimento</th><th>Área do Conhecimento</th><th>Subárea do Conhecimento</th><th>Assuntos</th><th>Data de Início</th><th>Data de Término</th><th>Acordo(s)/Convênio(s) de Cooperação com a FAPESP</th><th>Instituições no Exterior</th><th>Pais de Origem</th><th>Pesquisador responsável no exterior</th><th>Resumo (Português)</th><th>Resumo (Inglês)</th><th>Processos Vinculados</th></tr><tr><td>str</td><td>str</td><td>str</td><td>str</td><td>str</td><td>str</td><td>str</td><td>str</td><td>str</td><td>str</td><td>str</td><td>str</td><td>str</td><td>str</td><td>str</td><td>str</td><td>str</td><td>str</td><td>str</td><td>str</td><td>str</td><td>str</td><td>str</td><td>str</td><td>str</td><td>str</td><td>str</td><td>str</td><td>str</td><td>str</td></tr></thead><tbody><tr><td>&quot;24/23715-0&quot;</td><td>&quot;Sensibilização, formação e mon…</td><td>&quot;Sensitization, training and mo…</td><td>&quot;Donina Cibelle de Lemos Rocha&quot;</td><td>&quot;Universidade de São Paulo (USP…</td><td>&quot;São Paulo&quot;</td><td>null</td><td>null</td><td>null</td><td>&quot;Vitor Souza Lima Blotta&quot;</td><td>null</td><td>null</td><td>null</td><td>null</td><td>null</td><td>null</td><td>&quot;Bolsas no Brasil - Programa Ca…</td><td>&quot;Ciências Humanas&quot;</td><td>&quot;Educação&quot;</td><td>&quot;Tópicos Específicos de Educaçã…</td><td>&quot;Educomunicação&quot;</td><td>&quot;2025-04-01&quot;</td><td>&quot;2025-04-30&quot;</td><td>null</td><td>null</td><td>null</td><td>null</td><td>&quot;Trabalho de educação em direit…</td><td>null</td><td>null</td></tr><tr><td>&quot;24/18372-6&quot;</td><td>&quot;Democracia e afetos: construin…</td><td>&quot;Democracy and affections: buil…</td><td>&quot;Yasmin Guerreiro Soares Freita…</td><td>&quot;Universidade de São Paulo (USP…</td><td>&quot;São Paulo&quot;</td><td>null</td><td>null</td><td>null</td><td>&quot;Renato Janine Ribeiro&quot;</td><td>null</td><td>null</td><td>null</td><td>null</td><td>null</td><td>null</td><td>&quot;Bolsas no Brasil - Programa Es…</td><td>&quot;Ciências Humanas&quot;</td><td>&quot;Filosofia&quot;</td><td>null</td><td>&quot;Direito:Democracia:Relações de…</td><td>&quot;2025-03-01&quot;</td><td>&quot;2025-04-06&quot;</td><td>null</td><td>null</td><td>null</td><td>null</td><td>&quot;O projeto tem como objetivo in…</td><td>&quot;The project aims to investigat…</td><td>null</td></tr><tr><td>&quot;24/18375-5&quot;</td><td>&quot;Influência da melanina na sens…</td><td>&quot;Influence of melanin on the se…</td><td>&quot;Isabella Bastos Reis&quot;</td><td>&quot;Universidade de São Paulo (USP…</td><td>&quot;São Carlos&quot;</td><td>null</td><td>null</td><td>null</td><td>&quot;Vanderlei Salvador Bagnato&quot;</td><td>null</td><td>null</td><td>null</td><td>null</td><td>null</td><td>null</td><td>&quot;Bolsas no Brasil - Programa Es…</td><td>&quot;Ciências Biológicas&quot;</td><td>&quot;Biofísica&quot;</td><td>&quot;Biofísica Celular&quot;</td><td>&quot;Células tumorais:Melaninas:Fen…</td><td>&quot;2025-02-24&quot;</td><td>&quot;2025-04-12&quot;</td><td>null</td><td>null</td><td>null</td><td>null</td><td>&quot;A terapia fotodinâmica (TFD) é…</td><td>&quot;Photodynamic therapy (PDT) is …</td><td>null</td></tr><tr><td>&quot;24/18254-3&quot;</td><td>&quot;Efeitos do ácido valproico na …</td><td>&quot;Effects of valproic acid in th…</td><td>&quot;Isadora Gonçalves Almeida&quot;</td><td>&quot;Universidade Federal do Rio de…</td><td>&quot;Rio de Janeiro&quot;</td><td>null</td><td>null</td><td>null</td><td>&quot;Adalberto Ramon Vieyra&quot;</td><td>null</td><td>null</td><td>null</td><td>null</td><td>null</td><td>null</td><td>&quot;Bolsas no Brasil - Programa Es…</td><td>&quot;Ciências Biológicas&quot;</td><td>&quot;Fisiologia&quot;</td><td>&quot;Fisiologia de Órgãos e Sistema…</td><td>&quot;Ácido valproico:Histona desace…</td><td>&quot;2025-02-17&quot;</td><td>&quot;2025-04-04&quot;</td><td>null</td><td>null</td><td>null</td><td>null</td><td>&quot;O processo de isquemia renal s…</td><td>&quot;The process of renal ischemia …</td><td>null</td></tr><tr><td>&quot;24/17879-0&quot;</td><td>&quot;Treinamento em manipulação e c…</td><td>&quot;Training in manipulation and c…</td><td>&quot;Mariana Eberle dos Santos&quot;</td><td>&quot;FIOCRUZ PARANA INSTITUTO CARLO…</td><td>null</td><td>null</td><td>null</td><td>null</td><td>&quot;Marcio Lourenço Rodrigues&quot;</td><td>null</td><td>null</td><td>null</td><td>null</td><td>null</td><td>null</td><td>&quot;Bolsas no Brasil - Programa Es…</td><td>&quot;Ciências Biológicas&quot;</td><td>&quot;Microbiologia&quot;</td><td>&quot;Biologia e Fisiologia dos Micr…</td><td>&quot;Micologia:Cryptococcus:Parede …</td><td>&quot;2025-02-17&quot;</td><td>&quot;2025-04-05&quot;</td><td>null</td><td>null</td><td>null</td><td>null</td><td>&quot;O projeto de iniciação científ…</td><td>&quot;The undergrad project of the s…</td><td>null</td></tr></tbody></table></div>"
      ],
      "text/plain": [
       "shape: (5, 30)\n",
       "┌───────────┬───────────┬───────────┬───────────┬───┬───────────┬───────────┬───────────┬──────────┐\n",
       "│ N.        ┆ Título    ┆ Título    ┆ Beneficiá ┆ … ┆ Pesquisad ┆ Resumo    ┆ Resumo    ┆ Processo │\n",
       "│ Processo  ┆ (Portuguê ┆ (Inglês)  ┆ rio       ┆   ┆ or respon ┆ (Portuguê ┆ (Inglês)  ┆ s Vincul │\n",
       "│ ---       ┆ s)        ┆ ---       ┆ ---       ┆   ┆ sável no  ┆ s)        ┆ ---       ┆ ados     │\n",
       "│ str       ┆ ---       ┆ str       ┆ str       ┆   ┆ ext…      ┆ ---       ┆ str       ┆ ---      │\n",
       "│           ┆ str       ┆           ┆           ┆   ┆ ---       ┆ str       ┆           ┆ str      │\n",
       "│           ┆           ┆           ┆           ┆   ┆ str       ┆           ┆           ┆          │\n",
       "╞═══════════╪═══════════╪═══════════╪═══════════╪═══╪═══════════╪═══════════╪═══════════╪══════════╡\n",
       "│ 24/23715- ┆ Sensibili ┆ Sensitiza ┆ Donina    ┆ … ┆ null      ┆ Trabalho  ┆ null      ┆ null     │\n",
       "│ 0         ┆ zação,    ┆ tion,     ┆ Cibelle   ┆   ┆           ┆ de        ┆           ┆          │\n",
       "│           ┆ formação  ┆ training  ┆ de Lemos  ┆   ┆           ┆ educação  ┆           ┆          │\n",
       "│           ┆ e mon…    ┆ and mo…   ┆ Rocha     ┆   ┆           ┆ em        ┆           ┆          │\n",
       "│           ┆           ┆           ┆           ┆   ┆           ┆ direit…   ┆           ┆          │\n",
       "│ 24/18372- ┆ Democraci ┆ Democracy ┆ Yasmin    ┆ … ┆ null      ┆ O projeto ┆ The       ┆ null     │\n",
       "│ 6         ┆ a e       ┆ and affec ┆ Guerreiro ┆   ┆           ┆ tem como  ┆ project   ┆          │\n",
       "│           ┆ afetos:   ┆ tions:    ┆ Soares    ┆   ┆           ┆ objetivo  ┆ aims to   ┆          │\n",
       "│           ┆ construin ┆ buil…     ┆ Freita…   ┆   ┆           ┆ in…       ┆ investiga ┆          │\n",
       "│           ┆ …         ┆           ┆           ┆   ┆           ┆           ┆ t…        ┆          │\n",
       "│ 24/18375- ┆ Influênci ┆ Influence ┆ Isabella  ┆ … ┆ null      ┆ A terapia ┆ Photodyna ┆ null     │\n",
       "│ 5         ┆ a da      ┆ of        ┆ Bastos    ┆   ┆           ┆ fotodinâm ┆ mic       ┆          │\n",
       "│           ┆ melanina  ┆ melanin   ┆ Reis      ┆   ┆           ┆ ica (TFD) ┆ therapy   ┆          │\n",
       "│           ┆ na sens…  ┆ on the    ┆           ┆   ┆           ┆ é…        ┆ (PDT) is  ┆          │\n",
       "│           ┆           ┆ se…       ┆           ┆   ┆           ┆           ┆ …         ┆          │\n",
       "│ 24/18254- ┆ Efeitos   ┆ Effects   ┆ Isadora   ┆ … ┆ null      ┆ O         ┆ The       ┆ null     │\n",
       "│ 3         ┆ do ácido  ┆ of        ┆ Gonçalves ┆   ┆           ┆ processo  ┆ process   ┆          │\n",
       "│           ┆ valproico ┆ valproic  ┆ Almeida   ┆   ┆           ┆ de        ┆ of renal  ┆          │\n",
       "│           ┆ na …      ┆ acid in   ┆           ┆   ┆           ┆ isquemia  ┆ ischemia  ┆          │\n",
       "│           ┆           ┆ th…       ┆           ┆   ┆           ┆ renal s…  ┆ …         ┆          │\n",
       "│ 24/17879- ┆ Treinamen ┆ Training  ┆ Mariana   ┆ … ┆ null      ┆ O projeto ┆ The       ┆ null     │\n",
       "│ 0         ┆ to em man ┆ in manipu ┆ Eberle    ┆   ┆           ┆ de        ┆ undergrad ┆          │\n",
       "│           ┆ ipulação  ┆ lation    ┆ dos       ┆   ┆           ┆ iniciação ┆ project   ┆          │\n",
       "│           ┆ e c…      ┆ and c…    ┆ Santos    ┆   ┆           ┆ científ…  ┆ of the s… ┆          │\n",
       "└───────────┴───────────┴───────────┴───────────┴───┴───────────┴───────────┴───────────┴──────────┘"
      ]
     },
     "execution_count": 2,
     "metadata": {},
     "output_type": "execute_result"
    }
   ],
   "source": [
    "df.head()"
   ]
  },
  {
   "cell_type": "markdown",
   "id": "da64820c",
   "metadata": {},
   "source": [
    "## Seleção de colunas\n",
    "\n",
    "Para selecionar uma coluna específica, fazemos como em um dicionário do python, indicando entre colchetes o nome da coluna:"
   ]
  },
  {
   "cell_type": "code",
   "execution_count": 3,
   "id": "ef0580ee",
   "metadata": {},
   "outputs": [
    {
     "data": {
      "text/html": [
       "<div><style>\n",
       ".dataframe > thead > tr,\n",
       ".dataframe > tbody > tr {\n",
       "  text-align: right;\n",
       "  white-space: pre-wrap;\n",
       "}\n",
       "</style>\n",
       "<small>shape: (155_773,)</small><table border=\"1\" class=\"dataframe\"><thead><tr><th>Instituição</th></tr><tr><td>str</td></tr></thead><tbody><tr><td>&quot;Universidade de São Paulo (USP…</td></tr><tr><td>&quot;Universidade de São Paulo (USP…</td></tr><tr><td>&quot;Universidade de São Paulo (USP…</td></tr><tr><td>&quot;Universidade Federal do Rio de…</td></tr><tr><td>&quot;FIOCRUZ PARANA INSTITUTO CARLO…</td></tr><tr><td>&hellip;</td></tr><tr><td>null</td></tr><tr><td>null</td></tr><tr><td>null</td></tr><tr><td>null</td></tr><tr><td>null</td></tr></tbody></table></div>"
      ],
      "text/plain": [
       "shape: (155_773,)\n",
       "Series: 'Instituição' [str]\n",
       "[\n",
       "\t\"Universidade de São Paulo (USP…\n",
       "\t\"Universidade de São Paulo (USP…\n",
       "\t\"Universidade de São Paulo (USP…\n",
       "\t\"Universidade Federal do Rio de…\n",
       "\t\"FIOCRUZ PARANA INSTITUTO CARLO…\n",
       "\t…\n",
       "\tnull\n",
       "\tnull\n",
       "\tnull\n",
       "\tnull\n",
       "\tnull\n",
       "]"
      ]
     },
     "execution_count": 3,
     "metadata": {},
     "output_type": "execute_result"
    }
   ],
   "source": [
    "df['Instituição']"
   ]
  },
  {
   "cell_type": "markdown",
   "id": "dd7aaf59",
   "metadata": {},
   "source": [
    "Podemos fazer isso com mais de uma coluna:"
   ]
  },
  {
   "cell_type": "code",
   "execution_count": 4,
   "id": "b417768f",
   "metadata": {},
   "outputs": [
    {
     "data": {
      "text/html": [
       "<div><style>\n",
       ".dataframe > thead > tr,\n",
       ".dataframe > tbody > tr {\n",
       "  text-align: right;\n",
       "  white-space: pre-wrap;\n",
       "}\n",
       "</style>\n",
       "<small>shape: (155_773, 2)</small><table border=\"1\" class=\"dataframe\"><thead><tr><th>Grande Área do Conhecimento</th><th>Área do Conhecimento</th></tr><tr><td>str</td><td>str</td></tr></thead><tbody><tr><td>&quot;Ciências Humanas&quot;</td><td>&quot;Educação&quot;</td></tr><tr><td>&quot;Ciências Humanas&quot;</td><td>&quot;Filosofia&quot;</td></tr><tr><td>&quot;Ciências Biológicas&quot;</td><td>&quot;Biofísica&quot;</td></tr><tr><td>&quot;Ciências Biológicas&quot;</td><td>&quot;Fisiologia&quot;</td></tr><tr><td>&quot;Ciências Biológicas&quot;</td><td>&quot;Microbiologia&quot;</td></tr><tr><td>&hellip;</td><td>&hellip;</td></tr><tr><td>null</td><td>null</td></tr><tr><td>null</td><td>null</td></tr><tr><td>null</td><td>null</td></tr><tr><td>null</td><td>null</td></tr><tr><td>null</td><td>null</td></tr></tbody></table></div>"
      ],
      "text/plain": [
       "shape: (155_773, 2)\n",
       "┌─────────────────────────────┬──────────────────────┐\n",
       "│ Grande Área do Conhecimento ┆ Área do Conhecimento │\n",
       "│ ---                         ┆ ---                  │\n",
       "│ str                         ┆ str                  │\n",
       "╞═════════════════════════════╪══════════════════════╡\n",
       "│ Ciências Humanas            ┆ Educação             │\n",
       "│ Ciências Humanas            ┆ Filosofia            │\n",
       "│ Ciências Biológicas         ┆ Biofísica            │\n",
       "│ Ciências Biológicas         ┆ Fisiologia           │\n",
       "│ Ciências Biológicas         ┆ Microbiologia        │\n",
       "│ …                           ┆ …                    │\n",
       "│ null                        ┆ null                 │\n",
       "│ null                        ┆ null                 │\n",
       "│ null                        ┆ null                 │\n",
       "│ null                        ┆ null                 │\n",
       "│ null                        ┆ null                 │\n",
       "└─────────────────────────────┴──────────────────────┘"
      ]
     },
     "execution_count": 4,
     "metadata": {},
     "output_type": "execute_result"
    }
   ],
   "source": [
    "df['Grande Área do Conhecimento', 'Área do Conhecimento']"
   ]
  },
  {
   "cell_type": "markdown",
   "id": "8647a99a",
   "metadata": {},
   "source": [
    "Poderíamos utilizar isso para excluir as linhas vazias: selecionamos apenas as colunas que queremos manter. No entanto, isso tende a ser perigoso: podemos esquecer de incluir algo sem querer e perder informações.\n",
    "\n",
    "Vamos tentar ser mais explícitos usando o `.drop()`.\n",
    "\n",
    "## Exclusão de colunas\n",
    "\n",
    "Como o `.drop()`, a coluna indicada é excluida"
   ]
  },
  {
   "cell_type": "code",
   "execution_count": 5,
   "id": "c8e714b8",
   "metadata": {},
   "outputs": [
    {
     "data": {
      "text/html": [
       "<div><style>\n",
       ".dataframe > thead > tr,\n",
       ".dataframe > tbody > tr {\n",
       "  text-align: right;\n",
       "  white-space: pre-wrap;\n",
       "}\n",
       "</style>\n",
       "<small>shape: (155_773, 29)</small><table border=\"1\" class=\"dataframe\"><thead><tr><th>Título (Português)</th><th>Título (Inglês)</th><th>Beneficiário</th><th>Instituição</th><th>Cidade Instituição</th><th>Instituição Parceira</th><th>Empresa</th><th>Município</th><th>Pesquisador Responsável</th><th>Pesquisadores Principais</th><th>Pesquisadores Associados</th><th>Supervisor</th><th>Local de Pesquisa</th><th>Pesquisador Visitante</th><th>Instituição do Pesquisador Visitante</th><th>Modalidade de apoio</th><th>Grande Área do Conhecimento</th><th>Área do Conhecimento</th><th>Subárea do Conhecimento</th><th>Assuntos</th><th>Data de Início</th><th>Data de Término</th><th>Acordo(s)/Convênio(s) de Cooperação com a FAPESP</th><th>Instituições no Exterior</th><th>Pais de Origem</th><th>Pesquisador responsável no exterior</th><th>Resumo (Português)</th><th>Resumo (Inglês)</th><th>Processos Vinculados</th></tr><tr><td>str</td><td>str</td><td>str</td><td>str</td><td>str</td><td>str</td><td>str</td><td>str</td><td>str</td><td>str</td><td>str</td><td>str</td><td>str</td><td>str</td><td>str</td><td>str</td><td>str</td><td>str</td><td>str</td><td>str</td><td>str</td><td>str</td><td>str</td><td>str</td><td>str</td><td>str</td><td>str</td><td>str</td><td>str</td></tr></thead><tbody><tr><td>&quot;Sensibilização, formação e mon…</td><td>&quot;Sensitization, training and mo…</td><td>&quot;Donina Cibelle de Lemos Rocha&quot;</td><td>&quot;Universidade de São Paulo (USP…</td><td>&quot;São Paulo&quot;</td><td>null</td><td>null</td><td>null</td><td>&quot;Vitor Souza Lima Blotta&quot;</td><td>null</td><td>null</td><td>null</td><td>null</td><td>null</td><td>null</td><td>&quot;Bolsas no Brasil - Programa Ca…</td><td>&quot;Ciências Humanas&quot;</td><td>&quot;Educação&quot;</td><td>&quot;Tópicos Específicos de Educaçã…</td><td>&quot;Educomunicação&quot;</td><td>&quot;2025-04-01&quot;</td><td>&quot;2025-04-30&quot;</td><td>null</td><td>null</td><td>null</td><td>null</td><td>&quot;Trabalho de educação em direit…</td><td>null</td><td>null</td></tr><tr><td>&quot;Democracia e afetos: construin…</td><td>&quot;Democracy and affections: buil…</td><td>&quot;Yasmin Guerreiro Soares Freita…</td><td>&quot;Universidade de São Paulo (USP…</td><td>&quot;São Paulo&quot;</td><td>null</td><td>null</td><td>null</td><td>&quot;Renato Janine Ribeiro&quot;</td><td>null</td><td>null</td><td>null</td><td>null</td><td>null</td><td>null</td><td>&quot;Bolsas no Brasil - Programa Es…</td><td>&quot;Ciências Humanas&quot;</td><td>&quot;Filosofia&quot;</td><td>null</td><td>&quot;Direito:Democracia:Relações de…</td><td>&quot;2025-03-01&quot;</td><td>&quot;2025-04-06&quot;</td><td>null</td><td>null</td><td>null</td><td>null</td><td>&quot;O projeto tem como objetivo in…</td><td>&quot;The project aims to investigat…</td><td>null</td></tr><tr><td>&quot;Influência da melanina na sens…</td><td>&quot;Influence of melanin on the se…</td><td>&quot;Isabella Bastos Reis&quot;</td><td>&quot;Universidade de São Paulo (USP…</td><td>&quot;São Carlos&quot;</td><td>null</td><td>null</td><td>null</td><td>&quot;Vanderlei Salvador Bagnato&quot;</td><td>null</td><td>null</td><td>null</td><td>null</td><td>null</td><td>null</td><td>&quot;Bolsas no Brasil - Programa Es…</td><td>&quot;Ciências Biológicas&quot;</td><td>&quot;Biofísica&quot;</td><td>&quot;Biofísica Celular&quot;</td><td>&quot;Células tumorais:Melaninas:Fen…</td><td>&quot;2025-02-24&quot;</td><td>&quot;2025-04-12&quot;</td><td>null</td><td>null</td><td>null</td><td>null</td><td>&quot;A terapia fotodinâmica (TFD) é…</td><td>&quot;Photodynamic therapy (PDT) is …</td><td>null</td></tr><tr><td>&quot;Efeitos do ácido valproico na …</td><td>&quot;Effects of valproic acid in th…</td><td>&quot;Isadora Gonçalves Almeida&quot;</td><td>&quot;Universidade Federal do Rio de…</td><td>&quot;Rio de Janeiro&quot;</td><td>null</td><td>null</td><td>null</td><td>&quot;Adalberto Ramon Vieyra&quot;</td><td>null</td><td>null</td><td>null</td><td>null</td><td>null</td><td>null</td><td>&quot;Bolsas no Brasil - Programa Es…</td><td>&quot;Ciências Biológicas&quot;</td><td>&quot;Fisiologia&quot;</td><td>&quot;Fisiologia de Órgãos e Sistema…</td><td>&quot;Ácido valproico:Histona desace…</td><td>&quot;2025-02-17&quot;</td><td>&quot;2025-04-04&quot;</td><td>null</td><td>null</td><td>null</td><td>null</td><td>&quot;O processo de isquemia renal s…</td><td>&quot;The process of renal ischemia …</td><td>null</td></tr><tr><td>&quot;Treinamento em manipulação e c…</td><td>&quot;Training in manipulation and c…</td><td>&quot;Mariana Eberle dos Santos&quot;</td><td>&quot;FIOCRUZ PARANA INSTITUTO CARLO…</td><td>null</td><td>null</td><td>null</td><td>null</td><td>&quot;Marcio Lourenço Rodrigues&quot;</td><td>null</td><td>null</td><td>null</td><td>null</td><td>null</td><td>null</td><td>&quot;Bolsas no Brasil - Programa Es…</td><td>&quot;Ciências Biológicas&quot;</td><td>&quot;Microbiologia&quot;</td><td>&quot;Biologia e Fisiologia dos Micr…</td><td>&quot;Micologia:Cryptococcus:Parede …</td><td>&quot;2025-02-17&quot;</td><td>&quot;2025-04-05&quot;</td><td>null</td><td>null</td><td>null</td><td>null</td><td>&quot;O projeto de iniciação científ…</td><td>&quot;The undergrad project of the s…</td><td>null</td></tr><tr><td>&hellip;</td><td>&hellip;</td><td>&hellip;</td><td>&hellip;</td><td>&hellip;</td><td>&hellip;</td><td>&hellip;</td><td>&hellip;</td><td>&hellip;</td><td>&hellip;</td><td>&hellip;</td><td>&hellip;</td><td>&hellip;</td><td>&hellip;</td><td>&hellip;</td><td>&hellip;</td><td>&hellip;</td><td>&hellip;</td><td>&hellip;</td><td>&hellip;</td><td>&hellip;</td><td>&hellip;</td><td>&hellip;</td><td>&hellip;</td><td>&hellip;</td><td>&hellip;</td><td>&hellip;</td><td>&hellip;</td><td>&hellip;</td></tr><tr><td>null</td><td>null</td><td>null</td><td>null</td><td>null</td><td>null</td><td>null</td><td>null</td><td>null</td><td>null</td><td>null</td><td>null</td><td>null</td><td>null</td><td>null</td><td>null</td><td>null</td><td>null</td><td>null</td><td>null</td><td>null</td><td>null</td><td>null</td><td>null</td><td>null</td><td>null</td><td>null</td><td>null</td><td>null</td></tr><tr><td>null</td><td>null</td><td>null</td><td>null</td><td>null</td><td>null</td><td>null</td><td>null</td><td>null</td><td>null</td><td>null</td><td>null</td><td>null</td><td>null</td><td>null</td><td>null</td><td>null</td><td>null</td><td>null</td><td>null</td><td>null</td><td>null</td><td>null</td><td>null</td><td>null</td><td>null</td><td>null</td><td>null</td><td>null</td></tr><tr><td>null</td><td>null</td><td>null</td><td>null</td><td>null</td><td>null</td><td>null</td><td>null</td><td>null</td><td>null</td><td>null</td><td>null</td><td>null</td><td>null</td><td>null</td><td>null</td><td>null</td><td>null</td><td>null</td><td>null</td><td>null</td><td>null</td><td>null</td><td>null</td><td>null</td><td>null</td><td>null</td><td>null</td><td>null</td></tr><tr><td>null</td><td>null</td><td>null</td><td>null</td><td>null</td><td>null</td><td>null</td><td>null</td><td>null</td><td>null</td><td>null</td><td>null</td><td>null</td><td>null</td><td>null</td><td>null</td><td>null</td><td>null</td><td>null</td><td>null</td><td>null</td><td>null</td><td>null</td><td>null</td><td>null</td><td>null</td><td>null</td><td>null</td><td>null</td></tr><tr><td>null</td><td>null</td><td>null</td><td>null</td><td>null</td><td>null</td><td>null</td><td>null</td><td>null</td><td>null</td><td>null</td><td>null</td><td>null</td><td>null</td><td>null</td><td>null</td><td>null</td><td>null</td><td>null</td><td>null</td><td>null</td><td>null</td><td>null</td><td>null</td><td>null</td><td>null</td><td>null</td><td>null</td><td>null</td></tr></tbody></table></div>"
      ],
      "text/plain": [
       "shape: (155_773, 29)\n",
       "┌───────────┬───────────┬───────────┬───────────┬───┬───────────┬───────────┬───────────┬──────────┐\n",
       "│ Título    ┆ Título    ┆ Beneficiá ┆ Instituiç ┆ … ┆ Pesquisad ┆ Resumo    ┆ Resumo    ┆ Processo │\n",
       "│ (Portuguê ┆ (Inglês)  ┆ rio       ┆ ão        ┆   ┆ or respon ┆ (Portuguê ┆ (Inglês)  ┆ s Vincul │\n",
       "│ s)        ┆ ---       ┆ ---       ┆ ---       ┆   ┆ sável no  ┆ s)        ┆ ---       ┆ ados     │\n",
       "│ ---       ┆ str       ┆ str       ┆ str       ┆   ┆ ext…      ┆ ---       ┆ str       ┆ ---      │\n",
       "│ str       ┆           ┆           ┆           ┆   ┆ ---       ┆ str       ┆           ┆ str      │\n",
       "│           ┆           ┆           ┆           ┆   ┆ str       ┆           ┆           ┆          │\n",
       "╞═══════════╪═══════════╪═══════════╪═══════════╪═══╪═══════════╪═══════════╪═══════════╪══════════╡\n",
       "│ Sensibili ┆ Sensitiza ┆ Donina    ┆ Universid ┆ … ┆ null      ┆ Trabalho  ┆ null      ┆ null     │\n",
       "│ zação,    ┆ tion,     ┆ Cibelle   ┆ ade de    ┆   ┆           ┆ de        ┆           ┆          │\n",
       "│ formação  ┆ training  ┆ de Lemos  ┆ São Paulo ┆   ┆           ┆ educação  ┆           ┆          │\n",
       "│ e mon…    ┆ and mo…   ┆ Rocha     ┆ (USP…     ┆   ┆           ┆ em        ┆           ┆          │\n",
       "│           ┆           ┆           ┆           ┆   ┆           ┆ direit…   ┆           ┆          │\n",
       "│ Democraci ┆ Democracy ┆ Yasmin    ┆ Universid ┆ … ┆ null      ┆ O projeto ┆ The       ┆ null     │\n",
       "│ a e       ┆ and affec ┆ Guerreiro ┆ ade de    ┆   ┆           ┆ tem como  ┆ project   ┆          │\n",
       "│ afetos:   ┆ tions:    ┆ Soares    ┆ São Paulo ┆   ┆           ┆ objetivo  ┆ aims to   ┆          │\n",
       "│ construin ┆ buil…     ┆ Freita…   ┆ (USP…     ┆   ┆           ┆ in…       ┆ investiga ┆          │\n",
       "│ …         ┆           ┆           ┆           ┆   ┆           ┆           ┆ t…        ┆          │\n",
       "│ Influênci ┆ Influence ┆ Isabella  ┆ Universid ┆ … ┆ null      ┆ A terapia ┆ Photodyna ┆ null     │\n",
       "│ a da      ┆ of        ┆ Bastos    ┆ ade de    ┆   ┆           ┆ fotodinâm ┆ mic       ┆          │\n",
       "│ melanina  ┆ melanin   ┆ Reis      ┆ São Paulo ┆   ┆           ┆ ica (TFD) ┆ therapy   ┆          │\n",
       "│ na sens…  ┆ on the    ┆           ┆ (USP…     ┆   ┆           ┆ é…        ┆ (PDT) is  ┆          │\n",
       "│           ┆ se…       ┆           ┆           ┆   ┆           ┆           ┆ …         ┆          │\n",
       "│ Efeitos   ┆ Effects   ┆ Isadora   ┆ Universid ┆ … ┆ null      ┆ O         ┆ The       ┆ null     │\n",
       "│ do ácido  ┆ of        ┆ Gonçalves ┆ ade       ┆   ┆           ┆ processo  ┆ process   ┆          │\n",
       "│ valproico ┆ valproic  ┆ Almeida   ┆ Federal   ┆   ┆           ┆ de        ┆ of renal  ┆          │\n",
       "│ na …      ┆ acid in   ┆           ┆ do Rio    ┆   ┆           ┆ isquemia  ┆ ischemia  ┆          │\n",
       "│           ┆ th…       ┆           ┆ de…       ┆   ┆           ┆ renal s…  ┆ …         ┆          │\n",
       "│ Treinamen ┆ Training  ┆ Mariana   ┆ FIOCRUZ   ┆ … ┆ null      ┆ O projeto ┆ The       ┆ null     │\n",
       "│ to em man ┆ in manipu ┆ Eberle    ┆ PARANA    ┆   ┆           ┆ de        ┆ undergrad ┆          │\n",
       "│ ipulação  ┆ lation    ┆ dos       ┆ INSTITUTO ┆   ┆           ┆ iniciação ┆ project   ┆          │\n",
       "│ e c…      ┆ and c…    ┆ Santos    ┆ CARLO…    ┆   ┆           ┆ científ…  ┆ of the s… ┆          │\n",
       "│ …         ┆ …         ┆ …         ┆ …         ┆ … ┆ …         ┆ …         ┆ …         ┆ …        │\n",
       "│ null      ┆ null      ┆ null      ┆ null      ┆ … ┆ null      ┆ null      ┆ null      ┆ null     │\n",
       "│ null      ┆ null      ┆ null      ┆ null      ┆ … ┆ null      ┆ null      ┆ null      ┆ null     │\n",
       "│ null      ┆ null      ┆ null      ┆ null      ┆ … ┆ null      ┆ null      ┆ null      ┆ null     │\n",
       "│ null      ┆ null      ┆ null      ┆ null      ┆ … ┆ null      ┆ null      ┆ null      ┆ null     │\n",
       "│ null      ┆ null      ┆ null      ┆ null      ┆ … ┆ null      ┆ null      ┆ null      ┆ null     │\n",
       "└───────────┴───────────┴───────────┴───────────┴───┴───────────┴───────────┴───────────┴──────────┘"
      ]
     },
     "execution_count": 5,
     "metadata": {},
     "output_type": "execute_result"
    }
   ],
   "source": [
    "df.drop('N. Processo')"
   ]
  },
  {
   "cell_type": "markdown",
   "id": "d29687e8",
   "metadata": {},
   "source": [
    "No entanto, note que, apenas rodar `df.drop(<nome da coluna>)` não é suficiente para fazer essa exclusão:"
   ]
  },
  {
   "cell_type": "code",
   "execution_count": 6,
   "id": "50107a56",
   "metadata": {},
   "outputs": [
    {
     "data": {
      "text/html": [
       "<div><style>\n",
       ".dataframe > thead > tr,\n",
       ".dataframe > tbody > tr {\n",
       "  text-align: right;\n",
       "  white-space: pre-wrap;\n",
       "}\n",
       "</style>\n",
       "<small>shape: (155_773, 30)</small><table border=\"1\" class=\"dataframe\"><thead><tr><th>N. Processo</th><th>Título (Português)</th><th>Título (Inglês)</th><th>Beneficiário</th><th>Instituição</th><th>Cidade Instituição</th><th>Instituição Parceira</th><th>Empresa</th><th>Município</th><th>Pesquisador Responsável</th><th>Pesquisadores Principais</th><th>Pesquisadores Associados</th><th>Supervisor</th><th>Local de Pesquisa</th><th>Pesquisador Visitante</th><th>Instituição do Pesquisador Visitante</th><th>Modalidade de apoio</th><th>Grande Área do Conhecimento</th><th>Área do Conhecimento</th><th>Subárea do Conhecimento</th><th>Assuntos</th><th>Data de Início</th><th>Data de Término</th><th>Acordo(s)/Convênio(s) de Cooperação com a FAPESP</th><th>Instituições no Exterior</th><th>Pais de Origem</th><th>Pesquisador responsável no exterior</th><th>Resumo (Português)</th><th>Resumo (Inglês)</th><th>Processos Vinculados</th></tr><tr><td>str</td><td>str</td><td>str</td><td>str</td><td>str</td><td>str</td><td>str</td><td>str</td><td>str</td><td>str</td><td>str</td><td>str</td><td>str</td><td>str</td><td>str</td><td>str</td><td>str</td><td>str</td><td>str</td><td>str</td><td>str</td><td>str</td><td>str</td><td>str</td><td>str</td><td>str</td><td>str</td><td>str</td><td>str</td><td>str</td></tr></thead><tbody><tr><td>&quot;24/23715-0&quot;</td><td>&quot;Sensibilização, formação e mon…</td><td>&quot;Sensitization, training and mo…</td><td>&quot;Donina Cibelle de Lemos Rocha&quot;</td><td>&quot;Universidade de São Paulo (USP…</td><td>&quot;São Paulo&quot;</td><td>null</td><td>null</td><td>null</td><td>&quot;Vitor Souza Lima Blotta&quot;</td><td>null</td><td>null</td><td>null</td><td>null</td><td>null</td><td>null</td><td>&quot;Bolsas no Brasil - Programa Ca…</td><td>&quot;Ciências Humanas&quot;</td><td>&quot;Educação&quot;</td><td>&quot;Tópicos Específicos de Educaçã…</td><td>&quot;Educomunicação&quot;</td><td>&quot;2025-04-01&quot;</td><td>&quot;2025-04-30&quot;</td><td>null</td><td>null</td><td>null</td><td>null</td><td>&quot;Trabalho de educação em direit…</td><td>null</td><td>null</td></tr><tr><td>&quot;24/18372-6&quot;</td><td>&quot;Democracia e afetos: construin…</td><td>&quot;Democracy and affections: buil…</td><td>&quot;Yasmin Guerreiro Soares Freita…</td><td>&quot;Universidade de São Paulo (USP…</td><td>&quot;São Paulo&quot;</td><td>null</td><td>null</td><td>null</td><td>&quot;Renato Janine Ribeiro&quot;</td><td>null</td><td>null</td><td>null</td><td>null</td><td>null</td><td>null</td><td>&quot;Bolsas no Brasil - Programa Es…</td><td>&quot;Ciências Humanas&quot;</td><td>&quot;Filosofia&quot;</td><td>null</td><td>&quot;Direito:Democracia:Relações de…</td><td>&quot;2025-03-01&quot;</td><td>&quot;2025-04-06&quot;</td><td>null</td><td>null</td><td>null</td><td>null</td><td>&quot;O projeto tem como objetivo in…</td><td>&quot;The project aims to investigat…</td><td>null</td></tr><tr><td>&quot;24/18375-5&quot;</td><td>&quot;Influência da melanina na sens…</td><td>&quot;Influence of melanin on the se…</td><td>&quot;Isabella Bastos Reis&quot;</td><td>&quot;Universidade de São Paulo (USP…</td><td>&quot;São Carlos&quot;</td><td>null</td><td>null</td><td>null</td><td>&quot;Vanderlei Salvador Bagnato&quot;</td><td>null</td><td>null</td><td>null</td><td>null</td><td>null</td><td>null</td><td>&quot;Bolsas no Brasil - Programa Es…</td><td>&quot;Ciências Biológicas&quot;</td><td>&quot;Biofísica&quot;</td><td>&quot;Biofísica Celular&quot;</td><td>&quot;Células tumorais:Melaninas:Fen…</td><td>&quot;2025-02-24&quot;</td><td>&quot;2025-04-12&quot;</td><td>null</td><td>null</td><td>null</td><td>null</td><td>&quot;A terapia fotodinâmica (TFD) é…</td><td>&quot;Photodynamic therapy (PDT) is …</td><td>null</td></tr><tr><td>&quot;24/18254-3&quot;</td><td>&quot;Efeitos do ácido valproico na …</td><td>&quot;Effects of valproic acid in th…</td><td>&quot;Isadora Gonçalves Almeida&quot;</td><td>&quot;Universidade Federal do Rio de…</td><td>&quot;Rio de Janeiro&quot;</td><td>null</td><td>null</td><td>null</td><td>&quot;Adalberto Ramon Vieyra&quot;</td><td>null</td><td>null</td><td>null</td><td>null</td><td>null</td><td>null</td><td>&quot;Bolsas no Brasil - Programa Es…</td><td>&quot;Ciências Biológicas&quot;</td><td>&quot;Fisiologia&quot;</td><td>&quot;Fisiologia de Órgãos e Sistema…</td><td>&quot;Ácido valproico:Histona desace…</td><td>&quot;2025-02-17&quot;</td><td>&quot;2025-04-04&quot;</td><td>null</td><td>null</td><td>null</td><td>null</td><td>&quot;O processo de isquemia renal s…</td><td>&quot;The process of renal ischemia …</td><td>null</td></tr><tr><td>&quot;24/17879-0&quot;</td><td>&quot;Treinamento em manipulação e c…</td><td>&quot;Training in manipulation and c…</td><td>&quot;Mariana Eberle dos Santos&quot;</td><td>&quot;FIOCRUZ PARANA INSTITUTO CARLO…</td><td>null</td><td>null</td><td>null</td><td>null</td><td>&quot;Marcio Lourenço Rodrigues&quot;</td><td>null</td><td>null</td><td>null</td><td>null</td><td>null</td><td>null</td><td>&quot;Bolsas no Brasil - Programa Es…</td><td>&quot;Ciências Biológicas&quot;</td><td>&quot;Microbiologia&quot;</td><td>&quot;Biologia e Fisiologia dos Micr…</td><td>&quot;Micologia:Cryptococcus:Parede …</td><td>&quot;2025-02-17&quot;</td><td>&quot;2025-04-05&quot;</td><td>null</td><td>null</td><td>null</td><td>null</td><td>&quot;O projeto de iniciação científ…</td><td>&quot;The undergrad project of the s…</td><td>null</td></tr><tr><td>&hellip;</td><td>&hellip;</td><td>&hellip;</td><td>&hellip;</td><td>&hellip;</td><td>&hellip;</td><td>&hellip;</td><td>&hellip;</td><td>&hellip;</td><td>&hellip;</td><td>&hellip;</td><td>&hellip;</td><td>&hellip;</td><td>&hellip;</td><td>&hellip;</td><td>&hellip;</td><td>&hellip;</td><td>&hellip;</td><td>&hellip;</td><td>&hellip;</td><td>&hellip;</td><td>&hellip;</td><td>&hellip;</td><td>&hellip;</td><td>&hellip;</td><td>&hellip;</td><td>&hellip;</td><td>&hellip;</td><td>&hellip;</td><td>&hellip;</td></tr><tr><td>null</td><td>null</td><td>null</td><td>null</td><td>null</td><td>null</td><td>null</td><td>null</td><td>null</td><td>null</td><td>null</td><td>null</td><td>null</td><td>null</td><td>null</td><td>null</td><td>null</td><td>null</td><td>null</td><td>null</td><td>null</td><td>null</td><td>null</td><td>null</td><td>null</td><td>null</td><td>null</td><td>null</td><td>null</td><td>null</td></tr><tr><td>&quot;&gt;&gt;&gt; Biblioteca Virtual da FAPE…</td><td>null</td><td>null</td><td>null</td><td>null</td><td>null</td><td>null</td><td>null</td><td>null</td><td>null</td><td>null</td><td>null</td><td>null</td><td>null</td><td>null</td><td>null</td><td>null</td><td>null</td><td>null</td><td>null</td><td>null</td><td>null</td><td>null</td><td>null</td><td>null</td><td>null</td><td>null</td><td>null</td><td>null</td><td>null</td></tr><tr><td>&quot;Dados atualizados em: 10/May/2…</td><td>null</td><td>null</td><td>null</td><td>null</td><td>null</td><td>null</td><td>null</td><td>null</td><td>null</td><td>null</td><td>null</td><td>null</td><td>null</td><td>null</td><td>null</td><td>null</td><td>null</td><td>null</td><td>null</td><td>null</td><td>null</td><td>null</td><td>null</td><td>null</td><td>null</td><td>null</td><td>null</td><td>null</td><td>null</td></tr><tr><td>&quot;URL: https://bv.fapesp.br/&quot;</td><td>null</td><td>null</td><td>null</td><td>null</td><td>null</td><td>null</td><td>null</td><td>null</td><td>null</td><td>null</td><td>null</td><td>null</td><td>null</td><td>null</td><td>null</td><td>null</td><td>null</td><td>null</td><td>null</td><td>null</td><td>null</td><td>null</td><td>null</td><td>null</td><td>null</td><td>null</td><td>null</td><td>null</td><td>null</td></tr><tr><td>null</td><td>null</td><td>null</td><td>null</td><td>null</td><td>null</td><td>null</td><td>null</td><td>null</td><td>null</td><td>null</td><td>null</td><td>null</td><td>null</td><td>null</td><td>null</td><td>null</td><td>null</td><td>null</td><td>null</td><td>null</td><td>null</td><td>null</td><td>null</td><td>null</td><td>null</td><td>null</td><td>null</td><td>null</td><td>null</td></tr></tbody></table></div>"
      ],
      "text/plain": [
       "shape: (155_773, 30)\n",
       "┌───────────┬───────────┬───────────┬───────────┬───┬───────────┬───────────┬───────────┬──────────┐\n",
       "│ N.        ┆ Título    ┆ Título    ┆ Beneficiá ┆ … ┆ Pesquisad ┆ Resumo    ┆ Resumo    ┆ Processo │\n",
       "│ Processo  ┆ (Portuguê ┆ (Inglês)  ┆ rio       ┆   ┆ or respon ┆ (Portuguê ┆ (Inglês)  ┆ s Vincul │\n",
       "│ ---       ┆ s)        ┆ ---       ┆ ---       ┆   ┆ sável no  ┆ s)        ┆ ---       ┆ ados     │\n",
       "│ str       ┆ ---       ┆ str       ┆ str       ┆   ┆ ext…      ┆ ---       ┆ str       ┆ ---      │\n",
       "│           ┆ str       ┆           ┆           ┆   ┆ ---       ┆ str       ┆           ┆ str      │\n",
       "│           ┆           ┆           ┆           ┆   ┆ str       ┆           ┆           ┆          │\n",
       "╞═══════════╪═══════════╪═══════════╪═══════════╪═══╪═══════════╪═══════════╪═══════════╪══════════╡\n",
       "│ 24/23715- ┆ Sensibili ┆ Sensitiza ┆ Donina    ┆ … ┆ null      ┆ Trabalho  ┆ null      ┆ null     │\n",
       "│ 0         ┆ zação,    ┆ tion,     ┆ Cibelle   ┆   ┆           ┆ de        ┆           ┆          │\n",
       "│           ┆ formação  ┆ training  ┆ de Lemos  ┆   ┆           ┆ educação  ┆           ┆          │\n",
       "│           ┆ e mon…    ┆ and mo…   ┆ Rocha     ┆   ┆           ┆ em        ┆           ┆          │\n",
       "│           ┆           ┆           ┆           ┆   ┆           ┆ direit…   ┆           ┆          │\n",
       "│ 24/18372- ┆ Democraci ┆ Democracy ┆ Yasmin    ┆ … ┆ null      ┆ O projeto ┆ The       ┆ null     │\n",
       "│ 6         ┆ a e       ┆ and affec ┆ Guerreiro ┆   ┆           ┆ tem como  ┆ project   ┆          │\n",
       "│           ┆ afetos:   ┆ tions:    ┆ Soares    ┆   ┆           ┆ objetivo  ┆ aims to   ┆          │\n",
       "│           ┆ construin ┆ buil…     ┆ Freita…   ┆   ┆           ┆ in…       ┆ investiga ┆          │\n",
       "│           ┆ …         ┆           ┆           ┆   ┆           ┆           ┆ t…        ┆          │\n",
       "│ 24/18375- ┆ Influênci ┆ Influence ┆ Isabella  ┆ … ┆ null      ┆ A terapia ┆ Photodyna ┆ null     │\n",
       "│ 5         ┆ a da      ┆ of        ┆ Bastos    ┆   ┆           ┆ fotodinâm ┆ mic       ┆          │\n",
       "│           ┆ melanina  ┆ melanin   ┆ Reis      ┆   ┆           ┆ ica (TFD) ┆ therapy   ┆          │\n",
       "│           ┆ na sens…  ┆ on the    ┆           ┆   ┆           ┆ é…        ┆ (PDT) is  ┆          │\n",
       "│           ┆           ┆ se…       ┆           ┆   ┆           ┆           ┆ …         ┆          │\n",
       "│ 24/18254- ┆ Efeitos   ┆ Effects   ┆ Isadora   ┆ … ┆ null      ┆ O         ┆ The       ┆ null     │\n",
       "│ 3         ┆ do ácido  ┆ of        ┆ Gonçalves ┆   ┆           ┆ processo  ┆ process   ┆          │\n",
       "│           ┆ valproico ┆ valproic  ┆ Almeida   ┆   ┆           ┆ de        ┆ of renal  ┆          │\n",
       "│           ┆ na …      ┆ acid in   ┆           ┆   ┆           ┆ isquemia  ┆ ischemia  ┆          │\n",
       "│           ┆           ┆ th…       ┆           ┆   ┆           ┆ renal s…  ┆ …         ┆          │\n",
       "│ 24/17879- ┆ Treinamen ┆ Training  ┆ Mariana   ┆ … ┆ null      ┆ O projeto ┆ The       ┆ null     │\n",
       "│ 0         ┆ to em man ┆ in manipu ┆ Eberle    ┆   ┆           ┆ de        ┆ undergrad ┆          │\n",
       "│           ┆ ipulação  ┆ lation    ┆ dos       ┆   ┆           ┆ iniciação ┆ project   ┆          │\n",
       "│           ┆ e c…      ┆ and c…    ┆ Santos    ┆   ┆           ┆ científ…  ┆ of the s… ┆          │\n",
       "│ …         ┆ …         ┆ …         ┆ …         ┆ … ┆ …         ┆ …         ┆ …         ┆ …        │\n",
       "│ null      ┆ null      ┆ null      ┆ null      ┆ … ┆ null      ┆ null      ┆ null      ┆ null     │\n",
       "│ >>> Bibli ┆ null      ┆ null      ┆ null      ┆ … ┆ null      ┆ null      ┆ null      ┆ null     │\n",
       "│ oteca     ┆           ┆           ┆           ┆   ┆           ┆           ┆           ┆          │\n",
       "│ Virtual   ┆           ┆           ┆           ┆   ┆           ┆           ┆           ┆          │\n",
       "│ da FAPE…  ┆           ┆           ┆           ┆   ┆           ┆           ┆           ┆          │\n",
       "│ Dados atu ┆ null      ┆ null      ┆ null      ┆ … ┆ null      ┆ null      ┆ null      ┆ null     │\n",
       "│ alizados  ┆           ┆           ┆           ┆   ┆           ┆           ┆           ┆          │\n",
       "│ em:       ┆           ┆           ┆           ┆   ┆           ┆           ┆           ┆          │\n",
       "│ 10/May/2… ┆           ┆           ┆           ┆   ┆           ┆           ┆           ┆          │\n",
       "│ URL: http ┆ null      ┆ null      ┆ null      ┆ … ┆ null      ┆ null      ┆ null      ┆ null     │\n",
       "│ s://bv.fa ┆           ┆           ┆           ┆   ┆           ┆           ┆           ┆          │\n",
       "│ pesp.br/  ┆           ┆           ┆           ┆   ┆           ┆           ┆           ┆          │\n",
       "│ null      ┆ null      ┆ null      ┆ null      ┆ … ┆ null      ┆ null      ┆ null      ┆ null     │\n",
       "└───────────┴───────────┴───────────┴───────────┴───┴───────────┴───────────┴───────────┴──────────┘"
      ]
     },
     "execution_count": 6,
     "metadata": {},
     "output_type": "execute_result"
    }
   ],
   "source": [
    "df"
   ]
  },
  {
   "cell_type": "markdown",
   "id": "326622a3",
   "metadata": {},
   "source": [
    "Para que a exclusão seja permanente, precisamos salvar o resultado. Antes de fazer isso, no entanto, vamos identificar quais colunas tem apenas valores nulos."
   ]
  },
  {
   "cell_type": "code",
   "execution_count": 7,
   "id": "a41bd9c3",
   "metadata": {},
   "outputs": [
    {
     "data": {
      "text/html": [
       "<div><style>\n",
       ".dataframe > thead > tr,\n",
       ".dataframe > tbody > tr {\n",
       "  text-align: right;\n",
       "  white-space: pre-wrap;\n",
       "}\n",
       "</style>\n",
       "<small>shape: (9, 31)</small><table border=\"1\" class=\"dataframe\"><thead><tr><th>statistic</th><th>N. Processo</th><th>Título (Português)</th><th>Título (Inglês)</th><th>Beneficiário</th><th>Instituição</th><th>Cidade Instituição</th><th>Instituição Parceira</th><th>Empresa</th><th>Município</th><th>Pesquisador Responsável</th><th>Pesquisadores Principais</th><th>Pesquisadores Associados</th><th>Supervisor</th><th>Local de Pesquisa</th><th>Pesquisador Visitante</th><th>Instituição do Pesquisador Visitante</th><th>Modalidade de apoio</th><th>Grande Área do Conhecimento</th><th>Área do Conhecimento</th><th>Subárea do Conhecimento</th><th>Assuntos</th><th>Data de Início</th><th>Data de Término</th><th>Acordo(s)/Convênio(s) de Cooperação com a FAPESP</th><th>Instituições no Exterior</th><th>Pais de Origem</th><th>Pesquisador responsável no exterior</th><th>Resumo (Português)</th><th>Resumo (Inglês)</th><th>Processos Vinculados</th></tr><tr><td>str</td><td>str</td><td>str</td><td>str</td><td>str</td><td>str</td><td>str</td><td>str</td><td>str</td><td>str</td><td>str</td><td>str</td><td>str</td><td>str</td><td>str</td><td>str</td><td>str</td><td>str</td><td>str</td><td>str</td><td>str</td><td>str</td><td>str</td><td>str</td><td>str</td><td>str</td><td>str</td><td>str</td><td>str</td><td>str</td><td>str</td></tr></thead><tbody><tr><td>&quot;count&quot;</td><td>&quot;155770&quot;</td><td>&quot;155577&quot;</td><td>&quot;82913&quot;</td><td>&quot;155767&quot;</td><td>&quot;150087&quot;</td><td>&quot;150064&quot;</td><td>&quot;6279&quot;</td><td>&quot;0&quot;</td><td>&quot;0&quot;</td><td>&quot;155767&quot;</td><td>&quot;0&quot;</td><td>&quot;0&quot;</td><td>&quot;0&quot;</td><td>&quot;302&quot;</td><td>&quot;0&quot;</td><td>&quot;0&quot;</td><td>&quot;155767&quot;</td><td>&quot;155767&quot;</td><td>&quot;154091&quot;</td><td>&quot;129493&quot;</td><td>&quot;149011&quot;</td><td>&quot;155767&quot;</td><td>&quot;155767&quot;</td><td>&quot;7043&quot;</td><td>&quot;306&quot;</td><td>&quot;1560&quot;</td><td>&quot;5&quot;</td><td>&quot;148730&quot;</td><td>&quot;63012&quot;</td><td>&quot;10619&quot;</td></tr><tr><td>&quot;null_count&quot;</td><td>&quot;3&quot;</td><td>&quot;196&quot;</td><td>&quot;72860&quot;</td><td>&quot;6&quot;</td><td>&quot;5686&quot;</td><td>&quot;5709&quot;</td><td>&quot;149494&quot;</td><td>&quot;155773&quot;</td><td>&quot;155773&quot;</td><td>&quot;6&quot;</td><td>&quot;155773&quot;</td><td>&quot;155773&quot;</td><td>&quot;155773&quot;</td><td>&quot;155471&quot;</td><td>&quot;155773&quot;</td><td>&quot;155773&quot;</td><td>&quot;6&quot;</td><td>&quot;6&quot;</td><td>&quot;1682&quot;</td><td>&quot;26280&quot;</td><td>&quot;6762&quot;</td><td>&quot;6&quot;</td><td>&quot;6&quot;</td><td>&quot;148730&quot;</td><td>&quot;155467&quot;</td><td>&quot;154213&quot;</td><td>&quot;155768&quot;</td><td>&quot;7043&quot;</td><td>&quot;92761&quot;</td><td>&quot;145154&quot;</td></tr><tr><td>&quot;mean&quot;</td><td>null</td><td>null</td><td>null</td><td>null</td><td>null</td><td>null</td><td>null</td><td>null</td><td>null</td><td>null</td><td>null</td><td>null</td><td>null</td><td>null</td><td>null</td><td>null</td><td>null</td><td>null</td><td>null</td><td>null</td><td>null</td><td>null</td><td>null</td><td>null</td><td>null</td><td>null</td><td>null</td><td>null</td><td>null</td><td>null</td></tr><tr><td>&quot;std&quot;</td><td>null</td><td>null</td><td>null</td><td>null</td><td>null</td><td>null</td><td>null</td><td>null</td><td>null</td><td>null</td><td>null</td><td>null</td><td>null</td><td>null</td><td>null</td><td>null</td><td>null</td><td>null</td><td>null</td><td>null</td><td>null</td><td>null</td><td>null</td><td>null</td><td>null</td><td>null</td><td>null</td><td>null</td><td>null</td><td>null</td></tr><tr><td>&quot;min&quot;</td><td>&quot;00/00003-0&quot;</td><td>&quot; Almotacés e a almotaçaria na …</td><td>&quot;\tGray matter alterations in pa…</td><td>&quot;ALLAN DE OLIVEIRA SANTOS&quot;</td><td>&quot;Anhanguera Educacional Partici…</td><td>&quot;Adamantina&quot;</td><td>&quot;3D Bioeng - Startup de Soluçõe…</td><td>null</td><td>null</td><td>&quot;ALINE CRISTINA MARTINS GRATAO&quot;</td><td>null</td><td>null</td><td>null</td><td>&quot;Agenzia Zadig Giornalismo Scie…</td><td>null</td><td>null</td><td>&quot;Bolsas no Brasil - Aperfeiçoam…</td><td>&quot;Ciências Agrárias&quot;</td><td>&quot;Administração&quot;</td><td>&quot;Administração Educacional&quot;</td><td>&quot;4-Aminopiridina:Fototerapia:Co…</td><td>&quot;1992-02-01&quot;</td><td>&quot;1992-07-31&quot;</td><td>&quot;AHRC,UKRI&quot;</td><td>&quot;Agenzia Zadig Giornalismo Scie…</td><td>&quot;Alemanha&quot;</td><td>&quot;Alan R. Katritzky&quot;</td><td>&quot; Apesar de recomendação da Org…</td><td>&quot;\n",
       "Annually, millions of tons of…</td><td>&quot;00/10181-2&quot;</td></tr><tr><td>&quot;25%&quot;</td><td>null</td><td>null</td><td>null</td><td>null</td><td>null</td><td>null</td><td>null</td><td>null</td><td>null</td><td>null</td><td>null</td><td>null</td><td>null</td><td>null</td><td>null</td><td>null</td><td>null</td><td>null</td><td>null</td><td>null</td><td>null</td><td>null</td><td>null</td><td>null</td><td>null</td><td>null</td><td>null</td><td>null</td><td>null</td><td>null</td></tr><tr><td>&quot;50%&quot;</td><td>null</td><td>null</td><td>null</td><td>null</td><td>null</td><td>null</td><td>null</td><td>null</td><td>null</td><td>null</td><td>null</td><td>null</td><td>null</td><td>null</td><td>null</td><td>null</td><td>null</td><td>null</td><td>null</td><td>null</td><td>null</td><td>null</td><td>null</td><td>null</td><td>null</td><td>null</td><td>null</td><td>null</td><td>null</td><td>null</td></tr><tr><td>&quot;75%&quot;</td><td>null</td><td>null</td><td>null</td><td>null</td><td>null</td><td>null</td><td>null</td><td>null</td><td>null</td><td>null</td><td>null</td><td>null</td><td>null</td><td>null</td><td>null</td><td>null</td><td>null</td><td>null</td><td>null</td><td>null</td><td>null</td><td>null</td><td>null</td><td>null</td><td>null</td><td>null</td><td>null</td><td>null</td><td>null</td><td>null</td></tr><tr><td>&quot;max&quot;</td><td>&quot;URL: https://bv.fapesp.br/&quot;</td><td>&quot;Último Teorema de Fermat para …</td><td>&quot;Émile Gaboriau and the &quot;&quot;roman…</td><td>&quot;Úrsula dos Santos Lopez&quot;</td><td>&quot;União das Escolas do Grupo Fai…</td><td>&quot;Votuporanga&quot;</td><td>&quot;Átomo Radioproteção e Seguranç…</td><td>null</td><td>null</td><td>&quot;Ítalo Braga de Castro&quot;</td><td>null</td><td>null</td><td>null</td><td>&quot;World Federation of Science Jo…</td><td>null</td><td>null</td><td>&quot;Bolsas no Brasil - Pós-Doutora…</td><td>&quot;Linguística, Letras e Artes&quot;</td><td>&quot;Zootecnia&quot;</td><td>&quot;Ópera&quot;</td><td>&quot;Útero:Éguas:Citologia:Endometr…</td><td>&quot;2025-04-01&quot;</td><td>&quot;2025-05-03&quot;</td><td>&quot;West Virginia University&quot;</td><td>&quot;World Federation of Science Jo…</td><td>&quot;África do Sul&quot;</td><td>&quot;Rebecca A. Butcher&quot;</td><td>&quot;ß-dicetonas (ex., succinilacet…</td><td>&quot;ANALYSIS OF TERPENOIDS PRODUC…</td><td>&quot;25/04012-0&quot;</td></tr></tbody></table></div>"
      ],
      "text/plain": [
       "shape: (9, 31)\n",
       "┌───────────┬───────────┬───────────┬───────────┬───┬───────────┬───────────┬───────────┬──────────┐\n",
       "│ statistic ┆ N.        ┆ Título    ┆ Título    ┆ … ┆ Pesquisad ┆ Resumo    ┆ Resumo    ┆ Processo │\n",
       "│ ---       ┆ Processo  ┆ (Portuguê ┆ (Inglês)  ┆   ┆ or respon ┆ (Portuguê ┆ (Inglês)  ┆ s Vincul │\n",
       "│ str       ┆ ---       ┆ s)        ┆ ---       ┆   ┆ sável no  ┆ s)        ┆ ---       ┆ ados     │\n",
       "│           ┆ str       ┆ ---       ┆ str       ┆   ┆ ext…      ┆ ---       ┆ str       ┆ ---      │\n",
       "│           ┆           ┆ str       ┆           ┆   ┆ ---       ┆ str       ┆           ┆ str      │\n",
       "│           ┆           ┆           ┆           ┆   ┆ str       ┆           ┆           ┆          │\n",
       "╞═══════════╪═══════════╪═══════════╪═══════════╪═══╪═══════════╪═══════════╪═══════════╪══════════╡\n",
       "│ count     ┆ 155770    ┆ 155577    ┆ 82913     ┆ … ┆ 5         ┆ 148730    ┆ 63012     ┆ 10619    │\n",
       "│ null_coun ┆ 3         ┆ 196       ┆ 72860     ┆ … ┆ 155768    ┆ 7043      ┆ 92761     ┆ 145154   │\n",
       "│ t         ┆           ┆           ┆           ┆   ┆           ┆           ┆           ┆          │\n",
       "│ mean      ┆ null      ┆ null      ┆ null      ┆ … ┆ null      ┆ null      ┆ null      ┆ null     │\n",
       "│ std       ┆ null      ┆ null      ┆ null      ┆ … ┆ null      ┆ null      ┆ null      ┆ null     │\n",
       "│ min       ┆ 00/00003- ┆ Almotacés ┆ \tGray     ┆ … ┆ Alan R.   ┆ Apesar de ┆           ┆ 00/10181 │\n",
       "│           ┆ 0         ┆ e a almot ┆ matter    ┆   ┆ Katritzky ┆ recomenda ┆ Annually, ┆ -2       │\n",
       "│           ┆           ┆ açaria na ┆ alteratio ┆   ┆           ┆ ção da    ┆ millions  ┆          │\n",
       "│           ┆           ┆ …         ┆ ns in pa… ┆   ┆           ┆ Org…      ┆ of tons   ┆          │\n",
       "│           ┆           ┆           ┆           ┆   ┆           ┆           ┆ of…       ┆          │\n",
       "│ 25%       ┆ null      ┆ null      ┆ null      ┆ … ┆ null      ┆ null      ┆ null      ┆ null     │\n",
       "│ 50%       ┆ null      ┆ null      ┆ null      ┆ … ┆ null      ┆ null      ┆ null      ┆ null     │\n",
       "│ 75%       ┆ null      ┆ null      ┆ null      ┆ … ┆ null      ┆ null      ┆ null      ┆ null     │\n",
       "│ max       ┆ URL: http ┆ Último    ┆ Émile     ┆ … ┆ Rebecca   ┆ ß-diceton ┆ ANALYSIS ┆ 25/04012 │\n",
       "│           ┆ s://bv.fa ┆ Teorema   ┆ Gaboriau  ┆   ┆ A.        ┆ as (ex.,  ┆ OF TERPEN ┆ -0       │\n",
       "│           ┆ pesp.br/  ┆ de Fermat ┆ and the   ┆   ┆ Butcher   ┆ succinila ┆ OIDS      ┆          │\n",
       "│           ┆           ┆ para …    ┆ \"\"roman…  ┆   ┆           ┆ cet…      ┆ PRODUC…   ┆          │\n",
       "└───────────┴───────────┴───────────┴───────────┴───┴───────────┴───────────┴───────────┴──────────┘"
      ]
     },
     "execution_count": 7,
     "metadata": {},
     "output_type": "execute_result"
    }
   ],
   "source": [
    "df.describe()"
   ]
  },
  {
   "cell_type": "markdown",
   "id": "10c60957",
   "metadata": {},
   "source": [
    "Como vimos na aula anterior, `.describe()` nos dá essa informação.\n",
    "\n",
    "As colunas com `count = 0` são:\n",
    "\"Empresa\", \"Município\", \"Pesquisadores Principais\", \"Pesquisadores Associados\", \"Supervisor\", \"Pesquisador Visitante\" e \"Instituição do Pesquisador Visitante\".\n",
    "\n",
    "Vamos, então, dropa-las e salva-las em `df2`:"
   ]
  },
  {
   "cell_type": "code",
   "execution_count": 8,
   "id": "409c6915",
   "metadata": {},
   "outputs": [],
   "source": [
    "df2 = df.drop([\"Empresa\", \"Município\", \"Pesquisadores Principais\", \"Pesquisadores Associados\", \"Supervisor\", \"Pesquisador Visitante\", \"Instituição do Pesquisador Visitante\"])"
   ]
  },
  {
   "cell_type": "markdown",
   "id": "253593f0",
   "metadata": {},
   "source": [
    "Como estamos dropando uma lista de nomes de colunas, precisamos utilizar colchetes ao redor dos nomes das listas.\n",
    "\n",
    "Agora não temos mais colunas apenas com valores nulos:"
   ]
  },
  {
   "cell_type": "code",
   "execution_count": 9,
   "id": "547f734a",
   "metadata": {},
   "outputs": [
    {
     "data": {
      "text/html": [
       "<div><style>\n",
       ".dataframe > thead > tr,\n",
       ".dataframe > tbody > tr {\n",
       "  text-align: right;\n",
       "  white-space: pre-wrap;\n",
       "}\n",
       "</style>\n",
       "<small>shape: (9, 24)</small><table border=\"1\" class=\"dataframe\"><thead><tr><th>statistic</th><th>N. Processo</th><th>Título (Português)</th><th>Título (Inglês)</th><th>Beneficiário</th><th>Instituição</th><th>Cidade Instituição</th><th>Instituição Parceira</th><th>Pesquisador Responsável</th><th>Local de Pesquisa</th><th>Modalidade de apoio</th><th>Grande Área do Conhecimento</th><th>Área do Conhecimento</th><th>Subárea do Conhecimento</th><th>Assuntos</th><th>Data de Início</th><th>Data de Término</th><th>Acordo(s)/Convênio(s) de Cooperação com a FAPESP</th><th>Instituições no Exterior</th><th>Pais de Origem</th><th>Pesquisador responsável no exterior</th><th>Resumo (Português)</th><th>Resumo (Inglês)</th><th>Processos Vinculados</th></tr><tr><td>str</td><td>str</td><td>str</td><td>str</td><td>str</td><td>str</td><td>str</td><td>str</td><td>str</td><td>str</td><td>str</td><td>str</td><td>str</td><td>str</td><td>str</td><td>str</td><td>str</td><td>str</td><td>str</td><td>str</td><td>str</td><td>str</td><td>str</td><td>str</td></tr></thead><tbody><tr><td>&quot;count&quot;</td><td>&quot;155770&quot;</td><td>&quot;155577&quot;</td><td>&quot;82913&quot;</td><td>&quot;155767&quot;</td><td>&quot;150087&quot;</td><td>&quot;150064&quot;</td><td>&quot;6279&quot;</td><td>&quot;155767&quot;</td><td>&quot;302&quot;</td><td>&quot;155767&quot;</td><td>&quot;155767&quot;</td><td>&quot;154091&quot;</td><td>&quot;129493&quot;</td><td>&quot;149011&quot;</td><td>&quot;155767&quot;</td><td>&quot;155767&quot;</td><td>&quot;7043&quot;</td><td>&quot;306&quot;</td><td>&quot;1560&quot;</td><td>&quot;5&quot;</td><td>&quot;148730&quot;</td><td>&quot;63012&quot;</td><td>&quot;10619&quot;</td></tr><tr><td>&quot;null_count&quot;</td><td>&quot;3&quot;</td><td>&quot;196&quot;</td><td>&quot;72860&quot;</td><td>&quot;6&quot;</td><td>&quot;5686&quot;</td><td>&quot;5709&quot;</td><td>&quot;149494&quot;</td><td>&quot;6&quot;</td><td>&quot;155471&quot;</td><td>&quot;6&quot;</td><td>&quot;6&quot;</td><td>&quot;1682&quot;</td><td>&quot;26280&quot;</td><td>&quot;6762&quot;</td><td>&quot;6&quot;</td><td>&quot;6&quot;</td><td>&quot;148730&quot;</td><td>&quot;155467&quot;</td><td>&quot;154213&quot;</td><td>&quot;155768&quot;</td><td>&quot;7043&quot;</td><td>&quot;92761&quot;</td><td>&quot;145154&quot;</td></tr><tr><td>&quot;mean&quot;</td><td>null</td><td>null</td><td>null</td><td>null</td><td>null</td><td>null</td><td>null</td><td>null</td><td>null</td><td>null</td><td>null</td><td>null</td><td>null</td><td>null</td><td>null</td><td>null</td><td>null</td><td>null</td><td>null</td><td>null</td><td>null</td><td>null</td><td>null</td></tr><tr><td>&quot;std&quot;</td><td>null</td><td>null</td><td>null</td><td>null</td><td>null</td><td>null</td><td>null</td><td>null</td><td>null</td><td>null</td><td>null</td><td>null</td><td>null</td><td>null</td><td>null</td><td>null</td><td>null</td><td>null</td><td>null</td><td>null</td><td>null</td><td>null</td><td>null</td></tr><tr><td>&quot;min&quot;</td><td>&quot;00/00003-0&quot;</td><td>&quot; Almotacés e a almotaçaria na …</td><td>&quot;\tGray matter alterations in pa…</td><td>&quot;ALLAN DE OLIVEIRA SANTOS&quot;</td><td>&quot;Anhanguera Educacional Partici…</td><td>&quot;Adamantina&quot;</td><td>&quot;3D Bioeng - Startup de Soluçõe…</td><td>&quot;ALINE CRISTINA MARTINS GRATAO&quot;</td><td>&quot;Agenzia Zadig Giornalismo Scie…</td><td>&quot;Bolsas no Brasil - Aperfeiçoam…</td><td>&quot;Ciências Agrárias&quot;</td><td>&quot;Administração&quot;</td><td>&quot;Administração Educacional&quot;</td><td>&quot;4-Aminopiridina:Fototerapia:Co…</td><td>&quot;1992-02-01&quot;</td><td>&quot;1992-07-31&quot;</td><td>&quot;AHRC,UKRI&quot;</td><td>&quot;Agenzia Zadig Giornalismo Scie…</td><td>&quot;Alemanha&quot;</td><td>&quot;Alan R. Katritzky&quot;</td><td>&quot; Apesar de recomendação da Org…</td><td>&quot;\n",
       "Annually, millions of tons of…</td><td>&quot;00/10181-2&quot;</td></tr><tr><td>&quot;25%&quot;</td><td>null</td><td>null</td><td>null</td><td>null</td><td>null</td><td>null</td><td>null</td><td>null</td><td>null</td><td>null</td><td>null</td><td>null</td><td>null</td><td>null</td><td>null</td><td>null</td><td>null</td><td>null</td><td>null</td><td>null</td><td>null</td><td>null</td><td>null</td></tr><tr><td>&quot;50%&quot;</td><td>null</td><td>null</td><td>null</td><td>null</td><td>null</td><td>null</td><td>null</td><td>null</td><td>null</td><td>null</td><td>null</td><td>null</td><td>null</td><td>null</td><td>null</td><td>null</td><td>null</td><td>null</td><td>null</td><td>null</td><td>null</td><td>null</td><td>null</td></tr><tr><td>&quot;75%&quot;</td><td>null</td><td>null</td><td>null</td><td>null</td><td>null</td><td>null</td><td>null</td><td>null</td><td>null</td><td>null</td><td>null</td><td>null</td><td>null</td><td>null</td><td>null</td><td>null</td><td>null</td><td>null</td><td>null</td><td>null</td><td>null</td><td>null</td><td>null</td></tr><tr><td>&quot;max&quot;</td><td>&quot;URL: https://bv.fapesp.br/&quot;</td><td>&quot;Último Teorema de Fermat para …</td><td>&quot;Émile Gaboriau and the &quot;&quot;roman…</td><td>&quot;Úrsula dos Santos Lopez&quot;</td><td>&quot;União das Escolas do Grupo Fai…</td><td>&quot;Votuporanga&quot;</td><td>&quot;Átomo Radioproteção e Seguranç…</td><td>&quot;Ítalo Braga de Castro&quot;</td><td>&quot;World Federation of Science Jo…</td><td>&quot;Bolsas no Brasil - Pós-Doutora…</td><td>&quot;Linguística, Letras e Artes&quot;</td><td>&quot;Zootecnia&quot;</td><td>&quot;Ópera&quot;</td><td>&quot;Útero:Éguas:Citologia:Endometr…</td><td>&quot;2025-04-01&quot;</td><td>&quot;2025-05-03&quot;</td><td>&quot;West Virginia University&quot;</td><td>&quot;World Federation of Science Jo…</td><td>&quot;África do Sul&quot;</td><td>&quot;Rebecca A. Butcher&quot;</td><td>&quot;ß-dicetonas (ex., succinilacet…</td><td>&quot;ANALYSIS OF TERPENOIDS PRODUC…</td><td>&quot;25/04012-0&quot;</td></tr></tbody></table></div>"
      ],
      "text/plain": [
       "shape: (9, 24)\n",
       "┌───────────┬───────────┬───────────┬───────────┬───┬───────────┬───────────┬───────────┬──────────┐\n",
       "│ statistic ┆ N.        ┆ Título    ┆ Título    ┆ … ┆ Pesquisad ┆ Resumo    ┆ Resumo    ┆ Processo │\n",
       "│ ---       ┆ Processo  ┆ (Portuguê ┆ (Inglês)  ┆   ┆ or respon ┆ (Portuguê ┆ (Inglês)  ┆ s Vincul │\n",
       "│ str       ┆ ---       ┆ s)        ┆ ---       ┆   ┆ sável no  ┆ s)        ┆ ---       ┆ ados     │\n",
       "│           ┆ str       ┆ ---       ┆ str       ┆   ┆ ext…      ┆ ---       ┆ str       ┆ ---      │\n",
       "│           ┆           ┆ str       ┆           ┆   ┆ ---       ┆ str       ┆           ┆ str      │\n",
       "│           ┆           ┆           ┆           ┆   ┆ str       ┆           ┆           ┆          │\n",
       "╞═══════════╪═══════════╪═══════════╪═══════════╪═══╪═══════════╪═══════════╪═══════════╪══════════╡\n",
       "│ count     ┆ 155770    ┆ 155577    ┆ 82913     ┆ … ┆ 5         ┆ 148730    ┆ 63012     ┆ 10619    │\n",
       "│ null_coun ┆ 3         ┆ 196       ┆ 72860     ┆ … ┆ 155768    ┆ 7043      ┆ 92761     ┆ 145154   │\n",
       "│ t         ┆           ┆           ┆           ┆   ┆           ┆           ┆           ┆          │\n",
       "│ mean      ┆ null      ┆ null      ┆ null      ┆ … ┆ null      ┆ null      ┆ null      ┆ null     │\n",
       "│ std       ┆ null      ┆ null      ┆ null      ┆ … ┆ null      ┆ null      ┆ null      ┆ null     │\n",
       "│ min       ┆ 00/00003- ┆ Almotacés ┆ \tGray     ┆ … ┆ Alan R.   ┆ Apesar de ┆           ┆ 00/10181 │\n",
       "│           ┆ 0         ┆ e a almot ┆ matter    ┆   ┆ Katritzky ┆ recomenda ┆ Annually, ┆ -2       │\n",
       "│           ┆           ┆ açaria na ┆ alteratio ┆   ┆           ┆ ção da    ┆ millions  ┆          │\n",
       "│           ┆           ┆ …         ┆ ns in pa… ┆   ┆           ┆ Org…      ┆ of tons   ┆          │\n",
       "│           ┆           ┆           ┆           ┆   ┆           ┆           ┆ of…       ┆          │\n",
       "│ 25%       ┆ null      ┆ null      ┆ null      ┆ … ┆ null      ┆ null      ┆ null      ┆ null     │\n",
       "│ 50%       ┆ null      ┆ null      ┆ null      ┆ … ┆ null      ┆ null      ┆ null      ┆ null     │\n",
       "│ 75%       ┆ null      ┆ null      ┆ null      ┆ … ┆ null      ┆ null      ┆ null      ┆ null     │\n",
       "│ max       ┆ URL: http ┆ Último    ┆ Émile     ┆ … ┆ Rebecca   ┆ ß-diceton ┆ ANALYSIS ┆ 25/04012 │\n",
       "│           ┆ s://bv.fa ┆ Teorema   ┆ Gaboriau  ┆   ┆ A.        ┆ as (ex.,  ┆ OF TERPEN ┆ -0       │\n",
       "│           ┆ pesp.br/  ┆ de Fermat ┆ and the   ┆   ┆ Butcher   ┆ succinila ┆ OIDS      ┆          │\n",
       "│           ┆           ┆ para …    ┆ \"\"roman…  ┆   ┆           ┆ cet…      ┆ PRODUC…   ┆          │\n",
       "└───────────┴───────────┴───────────┴───────────┴───┴───────────┴───────────┴───────────┴──────────┘"
      ]
     },
     "execution_count": 9,
     "metadata": {},
     "output_type": "execute_result"
    }
   ],
   "source": [
    "df2.describe()"
   ]
  },
  {
   "cell_type": "markdown",
   "id": "d58feafc",
   "metadata": {},
   "source": [
    "## Exclusão de linhas\n",
    "\n",
    "Para identificar a melhor maneira de excluir as linhas nao relevantes, vamos iniciar revendo-as:"
   ]
  },
  {
   "cell_type": "code",
   "execution_count": 10,
   "id": "56fa0114",
   "metadata": {},
   "outputs": [
    {
     "data": {
      "text/html": [
       "<div><style>\n",
       ".dataframe > thead > tr,\n",
       ".dataframe > tbody > tr {\n",
       "  text-align: right;\n",
       "  white-space: pre-wrap;\n",
       "}\n",
       "</style>\n",
       "<small>shape: (10, 23)</small><table border=\"1\" class=\"dataframe\"><thead><tr><th>N. Processo</th><th>Título (Português)</th><th>Título (Inglês)</th><th>Beneficiário</th><th>Instituição</th><th>Cidade Instituição</th><th>Instituição Parceira</th><th>Pesquisador Responsável</th><th>Local de Pesquisa</th><th>Modalidade de apoio</th><th>Grande Área do Conhecimento</th><th>Área do Conhecimento</th><th>Subárea do Conhecimento</th><th>Assuntos</th><th>Data de Início</th><th>Data de Término</th><th>Acordo(s)/Convênio(s) de Cooperação com a FAPESP</th><th>Instituições no Exterior</th><th>Pais de Origem</th><th>Pesquisador responsável no exterior</th><th>Resumo (Português)</th><th>Resumo (Inglês)</th><th>Processos Vinculados</th></tr><tr><td>str</td><td>str</td><td>str</td><td>str</td><td>str</td><td>str</td><td>str</td><td>str</td><td>str</td><td>str</td><td>str</td><td>str</td><td>str</td><td>str</td><td>str</td><td>str</td><td>str</td><td>str</td><td>str</td><td>str</td><td>str</td><td>str</td><td>str</td></tr></thead><tbody><tr><td>&quot;92/00360-9&quot;</td><td>&quot;Ácaros hematófagos em aviários…</td><td>null</td><td>&quot;Andrea Godoy Vicente&quot;</td><td>&quot;Secretaria de Agricultura e Ab…</td><td>&quot;São Paulo&quot;</td><td>null</td><td>&quot;José Henrique Guimarães&quot;</td><td>null</td><td>&quot;Bolsas no Brasil - Iniciação C…</td><td>&quot;Ciências Biológicas&quot;</td><td>&quot;Zoologia&quot;</td><td>null</td><td>&quot;Ácaros:Aviários&quot;</td><td>&quot;1992-03-01&quot;</td><td>&quot;1992-12-31&quot;</td><td>null</td><td>null</td><td>null</td><td>null</td><td>null</td><td>null</td><td>null</td></tr><tr><td>&quot;92/00346-6&quot;</td><td>&quot;Levantamento do estado nutrici…</td><td>null</td><td>&quot;Marsia Antonieta de Souza Guil…</td><td>&quot;Secretaria de Agricultura e Ab…</td><td>&quot;Campinas&quot;</td><td>null</td><td>&quot;Maurilo Monteiro Terra&quot;</td><td>null</td><td>&quot;Bolsas no Brasil - Mestrado&quot;</td><td>&quot;Ciências Agrárias&quot;</td><td>&quot;Agronomia&quot;</td><td>&quot;Fitotecnia&quot;</td><td>&quot;Videiras:Nutrição de plantas:N…</td><td>&quot;1992-03-01&quot;</td><td>&quot;1994-02-28&quot;</td><td>null</td><td>null</td><td>null</td><td>null</td><td>&quot;Está sendo realizado um levant…</td><td>null</td><td>null</td></tr><tr><td>&quot;92/00384-5&quot;</td><td>&quot;Levantamento do estado nutrici…</td><td>null</td><td>&quot;Ivan Ferdinando Gergoletti&quot;</td><td>&quot;Secretaria de Agricultura e Ab…</td><td>&quot;Campinas&quot;</td><td>null</td><td>&quot;Maurilo Monteiro Terra&quot;</td><td>null</td><td>&quot;Bolsas no Brasil - Mestrado&quot;</td><td>&quot;Ciências Agrárias&quot;</td><td>&quot;Agronomia&quot;</td><td>&quot;Fitotecnia&quot;</td><td>&quot;Videiras:Nutrição vegetal&quot;</td><td>&quot;1992-03-01&quot;</td><td>&quot;1993-12-31&quot;</td><td>null</td><td>null</td><td>null</td><td>null</td><td>&quot;Está sendo realizado um levant…</td><td>null</td><td>null</td></tr><tr><td>&quot;92/00222-5&quot;</td><td>&quot;Isolamento de revertentes norm…</td><td>null</td><td>&quot;Katia Maria da Rocha&quot;</td><td>&quot;Universidade de São Paulo (USP…</td><td>&quot;São Paulo&quot;</td><td>null</td><td>&quot;Hugo Aguirre Armelin&quot;</td><td>null</td><td>&quot;Bolsas no Brasil - Doutorado&quot;</td><td>&quot;Ciências Biológicas&quot;</td><td>&quot;Morfologia&quot;</td><td>null</td><td>&quot;Fator de transcrição AP-1:Tran…</td><td>&quot;1992-02-01&quot;</td><td>&quot;1994-08-31&quot;</td><td>null</td><td>null</td><td>null</td><td>null</td><td>&quot;O projeto atual visa analisar …</td><td>null</td><td>null</td></tr><tr><td>null</td><td>null</td><td>null</td><td>null</td><td>null</td><td>null</td><td>null</td><td>null</td><td>null</td><td>null</td><td>null</td><td>null</td><td>null</td><td>null</td><td>null</td><td>null</td><td>null</td><td>null</td><td>null</td><td>null</td><td>null</td><td>null</td><td>null</td></tr><tr><td>null</td><td>null</td><td>null</td><td>null</td><td>null</td><td>null</td><td>null</td><td>null</td><td>null</td><td>null</td><td>null</td><td>null</td><td>null</td><td>null</td><td>null</td><td>null</td><td>null</td><td>null</td><td>null</td><td>null</td><td>null</td><td>null</td><td>null</td></tr><tr><td>&quot;&gt;&gt;&gt; Biblioteca Virtual da FAPE…</td><td>null</td><td>null</td><td>null</td><td>null</td><td>null</td><td>null</td><td>null</td><td>null</td><td>null</td><td>null</td><td>null</td><td>null</td><td>null</td><td>null</td><td>null</td><td>null</td><td>null</td><td>null</td><td>null</td><td>null</td><td>null</td><td>null</td></tr><tr><td>&quot;Dados atualizados em: 10/May/2…</td><td>null</td><td>null</td><td>null</td><td>null</td><td>null</td><td>null</td><td>null</td><td>null</td><td>null</td><td>null</td><td>null</td><td>null</td><td>null</td><td>null</td><td>null</td><td>null</td><td>null</td><td>null</td><td>null</td><td>null</td><td>null</td><td>null</td></tr><tr><td>&quot;URL: https://bv.fapesp.br/&quot;</td><td>null</td><td>null</td><td>null</td><td>null</td><td>null</td><td>null</td><td>null</td><td>null</td><td>null</td><td>null</td><td>null</td><td>null</td><td>null</td><td>null</td><td>null</td><td>null</td><td>null</td><td>null</td><td>null</td><td>null</td><td>null</td><td>null</td></tr><tr><td>null</td><td>null</td><td>null</td><td>null</td><td>null</td><td>null</td><td>null</td><td>null</td><td>null</td><td>null</td><td>null</td><td>null</td><td>null</td><td>null</td><td>null</td><td>null</td><td>null</td><td>null</td><td>null</td><td>null</td><td>null</td><td>null</td><td>null</td></tr></tbody></table></div>"
      ],
      "text/plain": [
       "shape: (10, 23)\n",
       "┌───────────┬───────────┬───────────┬───────────┬───┬───────────┬───────────┬───────────┬──────────┐\n",
       "│ N.        ┆ Título    ┆ Título    ┆ Beneficiá ┆ … ┆ Pesquisad ┆ Resumo    ┆ Resumo    ┆ Processo │\n",
       "│ Processo  ┆ (Portuguê ┆ (Inglês)  ┆ rio       ┆   ┆ or respon ┆ (Portuguê ┆ (Inglês)  ┆ s Vincul │\n",
       "│ ---       ┆ s)        ┆ ---       ┆ ---       ┆   ┆ sável no  ┆ s)        ┆ ---       ┆ ados     │\n",
       "│ str       ┆ ---       ┆ str       ┆ str       ┆   ┆ ext…      ┆ ---       ┆ str       ┆ ---      │\n",
       "│           ┆ str       ┆           ┆           ┆   ┆ ---       ┆ str       ┆           ┆ str      │\n",
       "│           ┆           ┆           ┆           ┆   ┆ str       ┆           ┆           ┆          │\n",
       "╞═══════════╪═══════════╪═══════════╪═══════════╪═══╪═══════════╪═══════════╪═══════════╪══════════╡\n",
       "│ 92/00360- ┆ Ácaros    ┆ null      ┆ Andrea    ┆ … ┆ null      ┆ null      ┆ null      ┆ null     │\n",
       "│ 9         ┆ hematófag ┆           ┆ Godoy     ┆   ┆           ┆           ┆           ┆          │\n",
       "│           ┆ os em     ┆           ┆ Vicente   ┆   ┆           ┆           ┆           ┆          │\n",
       "│           ┆ aviários… ┆           ┆           ┆   ┆           ┆           ┆           ┆          │\n",
       "│ 92/00346- ┆ Levantame ┆ null      ┆ Marsia    ┆ … ┆ null      ┆ Está      ┆ null      ┆ null     │\n",
       "│ 6         ┆ nto do    ┆           ┆ Antonieta ┆   ┆           ┆ sendo     ┆           ┆          │\n",
       "│           ┆ estado    ┆           ┆ de Souza  ┆   ┆           ┆ realizado ┆           ┆          │\n",
       "│           ┆ nutrici…  ┆           ┆ Guil…     ┆   ┆           ┆ um        ┆           ┆          │\n",
       "│           ┆           ┆           ┆           ┆   ┆           ┆ levant…   ┆           ┆          │\n",
       "│ 92/00384- ┆ Levantame ┆ null      ┆ Ivan Ferd ┆ … ┆ null      ┆ Está      ┆ null      ┆ null     │\n",
       "│ 5         ┆ nto do    ┆           ┆ inando    ┆   ┆           ┆ sendo     ┆           ┆          │\n",
       "│           ┆ estado    ┆           ┆ Gergolett ┆   ┆           ┆ realizado ┆           ┆          │\n",
       "│           ┆ nutrici…  ┆           ┆ i         ┆   ┆           ┆ um        ┆           ┆          │\n",
       "│           ┆           ┆           ┆           ┆   ┆           ┆ levant…   ┆           ┆          │\n",
       "│ 92/00222- ┆ Isolament ┆ null      ┆ Katia     ┆ … ┆ null      ┆ O projeto ┆ null      ┆ null     │\n",
       "│ 5         ┆ o de reve ┆           ┆ Maria da  ┆   ┆           ┆ atual     ┆           ┆          │\n",
       "│           ┆ rtentes   ┆           ┆ Rocha     ┆   ┆           ┆ visa      ┆           ┆          │\n",
       "│           ┆ norm…     ┆           ┆           ┆   ┆           ┆ analisar  ┆           ┆          │\n",
       "│           ┆           ┆           ┆           ┆   ┆           ┆ …         ┆           ┆          │\n",
       "│ null      ┆ null      ┆ null      ┆ null      ┆ … ┆ null      ┆ null      ┆ null      ┆ null     │\n",
       "│ null      ┆ null      ┆ null      ┆ null      ┆ … ┆ null      ┆ null      ┆ null      ┆ null     │\n",
       "│ >>> Bibli ┆ null      ┆ null      ┆ null      ┆ … ┆ null      ┆ null      ┆ null      ┆ null     │\n",
       "│ oteca     ┆           ┆           ┆           ┆   ┆           ┆           ┆           ┆          │\n",
       "│ Virtual   ┆           ┆           ┆           ┆   ┆           ┆           ┆           ┆          │\n",
       "│ da FAPE…  ┆           ┆           ┆           ┆   ┆           ┆           ┆           ┆          │\n",
       "│ Dados atu ┆ null      ┆ null      ┆ null      ┆ … ┆ null      ┆ null      ┆ null      ┆ null     │\n",
       "│ alizados  ┆           ┆           ┆           ┆   ┆           ┆           ┆           ┆          │\n",
       "│ em:       ┆           ┆           ┆           ┆   ┆           ┆           ┆           ┆          │\n",
       "│ 10/May/2… ┆           ┆           ┆           ┆   ┆           ┆           ┆           ┆          │\n",
       "│ URL: http ┆ null      ┆ null      ┆ null      ┆ … ┆ null      ┆ null      ┆ null      ┆ null     │\n",
       "│ s://bv.fa ┆           ┆           ┆           ┆   ┆           ┆           ┆           ┆          │\n",
       "│ pesp.br/  ┆           ┆           ┆           ┆   ┆           ┆           ┆           ┆          │\n",
       "│ null      ┆ null      ┆ null      ┆ null      ┆ … ┆ null      ┆ null      ┆ null      ┆ null     │\n",
       "└───────────┴───────────┴───────────┴───────────┴───┴───────────┴───────────┴───────────┴──────────┘"
      ]
     },
     "execution_count": 10,
     "metadata": {},
     "output_type": "execute_result"
    }
   ],
   "source": [
    "df2.tail(10)"
   ]
  },
  {
   "cell_type": "markdown",
   "id": "28cc8b8e",
   "metadata": {},
   "source": [
    "São seis linhas irrelevantes. Olhado o describe anterior, podemos ver que apenas seis linhas são nulas na coluna \"Beneficiário\". Nesse sentido, se excluímos as todas as linhas que são nulas nesta coluna, iremos excluir todas as linhas irrelevantes.\n",
    "\n",
    "Podemos fazer isso usando a função .drop_nulls():"
   ]
  },
  {
   "cell_type": "code",
   "execution_count": 11,
   "id": "a74c3680",
   "metadata": {},
   "outputs": [],
   "source": [
    "df3 = df2.drop_nulls(subset=['Beneficiário'])"
   ]
  },
  {
   "cell_type": "markdown",
   "id": "f2ca7447",
   "metadata": {},
   "source": [
    "Com o parâmetro subset, podemos limitar as colunas que desejamos considerar na avaliação de o que é null e o que não é. Assim, estamos próximos de completar esse tratamento inicial dos dados:"
   ]
  },
  {
   "cell_type": "code",
   "execution_count": 12,
   "id": "056e1514",
   "metadata": {},
   "outputs": [
    {
     "data": {
      "text/html": [
       "<div><style>\n",
       ".dataframe > thead > tr,\n",
       ".dataframe > tbody > tr {\n",
       "  text-align: right;\n",
       "  white-space: pre-wrap;\n",
       "}\n",
       "</style>\n",
       "<small>shape: (155_767, 23)</small><table border=\"1\" class=\"dataframe\"><thead><tr><th>N. Processo</th><th>Título (Português)</th><th>Título (Inglês)</th><th>Beneficiário</th><th>Instituição</th><th>Cidade Instituição</th><th>Instituição Parceira</th><th>Pesquisador Responsável</th><th>Local de Pesquisa</th><th>Modalidade de apoio</th><th>Grande Área do Conhecimento</th><th>Área do Conhecimento</th><th>Subárea do Conhecimento</th><th>Assuntos</th><th>Data de Início</th><th>Data de Término</th><th>Acordo(s)/Convênio(s) de Cooperação com a FAPESP</th><th>Instituições no Exterior</th><th>Pais de Origem</th><th>Pesquisador responsável no exterior</th><th>Resumo (Português)</th><th>Resumo (Inglês)</th><th>Processos Vinculados</th></tr><tr><td>str</td><td>str</td><td>str</td><td>str</td><td>str</td><td>str</td><td>str</td><td>str</td><td>str</td><td>str</td><td>str</td><td>str</td><td>str</td><td>str</td><td>str</td><td>str</td><td>str</td><td>str</td><td>str</td><td>str</td><td>str</td><td>str</td><td>str</td></tr></thead><tbody><tr><td>&quot;24/23715-0&quot;</td><td>&quot;Sensibilização, formação e mon…</td><td>&quot;Sensitization, training and mo…</td><td>&quot;Donina Cibelle de Lemos Rocha&quot;</td><td>&quot;Universidade de São Paulo (USP…</td><td>&quot;São Paulo&quot;</td><td>null</td><td>&quot;Vitor Souza Lima Blotta&quot;</td><td>null</td><td>&quot;Bolsas no Brasil - Programa Ca…</td><td>&quot;Ciências Humanas&quot;</td><td>&quot;Educação&quot;</td><td>&quot;Tópicos Específicos de Educaçã…</td><td>&quot;Educomunicação&quot;</td><td>&quot;2025-04-01&quot;</td><td>&quot;2025-04-30&quot;</td><td>null</td><td>null</td><td>null</td><td>null</td><td>&quot;Trabalho de educação em direit…</td><td>null</td><td>null</td></tr><tr><td>&quot;24/18372-6&quot;</td><td>&quot;Democracia e afetos: construin…</td><td>&quot;Democracy and affections: buil…</td><td>&quot;Yasmin Guerreiro Soares Freita…</td><td>&quot;Universidade de São Paulo (USP…</td><td>&quot;São Paulo&quot;</td><td>null</td><td>&quot;Renato Janine Ribeiro&quot;</td><td>null</td><td>&quot;Bolsas no Brasil - Programa Es…</td><td>&quot;Ciências Humanas&quot;</td><td>&quot;Filosofia&quot;</td><td>null</td><td>&quot;Direito:Democracia:Relações de…</td><td>&quot;2025-03-01&quot;</td><td>&quot;2025-04-06&quot;</td><td>null</td><td>null</td><td>null</td><td>null</td><td>&quot;O projeto tem como objetivo in…</td><td>&quot;The project aims to investigat…</td><td>null</td></tr><tr><td>&quot;24/18375-5&quot;</td><td>&quot;Influência da melanina na sens…</td><td>&quot;Influence of melanin on the se…</td><td>&quot;Isabella Bastos Reis&quot;</td><td>&quot;Universidade de São Paulo (USP…</td><td>&quot;São Carlos&quot;</td><td>null</td><td>&quot;Vanderlei Salvador Bagnato&quot;</td><td>null</td><td>&quot;Bolsas no Brasil - Programa Es…</td><td>&quot;Ciências Biológicas&quot;</td><td>&quot;Biofísica&quot;</td><td>&quot;Biofísica Celular&quot;</td><td>&quot;Células tumorais:Melaninas:Fen…</td><td>&quot;2025-02-24&quot;</td><td>&quot;2025-04-12&quot;</td><td>null</td><td>null</td><td>null</td><td>null</td><td>&quot;A terapia fotodinâmica (TFD) é…</td><td>&quot;Photodynamic therapy (PDT) is …</td><td>null</td></tr><tr><td>&quot;24/18254-3&quot;</td><td>&quot;Efeitos do ácido valproico na …</td><td>&quot;Effects of valproic acid in th…</td><td>&quot;Isadora Gonçalves Almeida&quot;</td><td>&quot;Universidade Federal do Rio de…</td><td>&quot;Rio de Janeiro&quot;</td><td>null</td><td>&quot;Adalberto Ramon Vieyra&quot;</td><td>null</td><td>&quot;Bolsas no Brasil - Programa Es…</td><td>&quot;Ciências Biológicas&quot;</td><td>&quot;Fisiologia&quot;</td><td>&quot;Fisiologia de Órgãos e Sistema…</td><td>&quot;Ácido valproico:Histona desace…</td><td>&quot;2025-02-17&quot;</td><td>&quot;2025-04-04&quot;</td><td>null</td><td>null</td><td>null</td><td>null</td><td>&quot;O processo de isquemia renal s…</td><td>&quot;The process of renal ischemia …</td><td>null</td></tr><tr><td>&quot;24/17879-0&quot;</td><td>&quot;Treinamento em manipulação e c…</td><td>&quot;Training in manipulation and c…</td><td>&quot;Mariana Eberle dos Santos&quot;</td><td>&quot;FIOCRUZ PARANA INSTITUTO CARLO…</td><td>null</td><td>null</td><td>&quot;Marcio Lourenço Rodrigues&quot;</td><td>null</td><td>&quot;Bolsas no Brasil - Programa Es…</td><td>&quot;Ciências Biológicas&quot;</td><td>&quot;Microbiologia&quot;</td><td>&quot;Biologia e Fisiologia dos Micr…</td><td>&quot;Micologia:Cryptococcus:Parede …</td><td>&quot;2025-02-17&quot;</td><td>&quot;2025-04-05&quot;</td><td>null</td><td>null</td><td>null</td><td>null</td><td>&quot;O projeto de iniciação científ…</td><td>&quot;The undergrad project of the s…</td><td>null</td></tr><tr><td>&hellip;</td><td>&hellip;</td><td>&hellip;</td><td>&hellip;</td><td>&hellip;</td><td>&hellip;</td><td>&hellip;</td><td>&hellip;</td><td>&hellip;</td><td>&hellip;</td><td>&hellip;</td><td>&hellip;</td><td>&hellip;</td><td>&hellip;</td><td>&hellip;</td><td>&hellip;</td><td>&hellip;</td><td>&hellip;</td><td>&hellip;</td><td>&hellip;</td><td>&hellip;</td><td>&hellip;</td><td>&hellip;</td></tr><tr><td>&quot;92/00085-8&quot;</td><td>&quot;Efeito do bloqueio da via L-ar…</td><td>null</td><td>&quot;Sergio Luis Ramos Martins&quot;</td><td>&quot;Universidade de São Paulo (USP…</td><td>&quot;Ribeirão Preto&quot;</td><td>null</td><td>&quot;Ricardo Brandt de Oliveira&quot;</td><td>null</td><td>&quot;Bolsas no Brasil - Iniciação C…</td><td>&quot;Ciências da Saúde&quot;</td><td>&quot;Medicina&quot;</td><td>&quot;Clínica Médica&quot;</td><td>&quot;L-arginina&quot;</td><td>&quot;1992-03-01&quot;</td><td>&quot;1993-12-31&quot;</td><td>null</td><td>null</td><td>null</td><td>null</td><td>null</td><td>null</td><td>null</td></tr><tr><td>&quot;92/00360-9&quot;</td><td>&quot;Ácaros hematófagos em aviários…</td><td>null</td><td>&quot;Andrea Godoy Vicente&quot;</td><td>&quot;Secretaria de Agricultura e Ab…</td><td>&quot;São Paulo&quot;</td><td>null</td><td>&quot;José Henrique Guimarães&quot;</td><td>null</td><td>&quot;Bolsas no Brasil - Iniciação C…</td><td>&quot;Ciências Biológicas&quot;</td><td>&quot;Zoologia&quot;</td><td>null</td><td>&quot;Ácaros:Aviários&quot;</td><td>&quot;1992-03-01&quot;</td><td>&quot;1992-12-31&quot;</td><td>null</td><td>null</td><td>null</td><td>null</td><td>null</td><td>null</td><td>null</td></tr><tr><td>&quot;92/00346-6&quot;</td><td>&quot;Levantamento do estado nutrici…</td><td>null</td><td>&quot;Marsia Antonieta de Souza Guil…</td><td>&quot;Secretaria de Agricultura e Ab…</td><td>&quot;Campinas&quot;</td><td>null</td><td>&quot;Maurilo Monteiro Terra&quot;</td><td>null</td><td>&quot;Bolsas no Brasil - Mestrado&quot;</td><td>&quot;Ciências Agrárias&quot;</td><td>&quot;Agronomia&quot;</td><td>&quot;Fitotecnia&quot;</td><td>&quot;Videiras:Nutrição de plantas:N…</td><td>&quot;1992-03-01&quot;</td><td>&quot;1994-02-28&quot;</td><td>null</td><td>null</td><td>null</td><td>null</td><td>&quot;Está sendo realizado um levant…</td><td>null</td><td>null</td></tr><tr><td>&quot;92/00384-5&quot;</td><td>&quot;Levantamento do estado nutrici…</td><td>null</td><td>&quot;Ivan Ferdinando Gergoletti&quot;</td><td>&quot;Secretaria de Agricultura e Ab…</td><td>&quot;Campinas&quot;</td><td>null</td><td>&quot;Maurilo Monteiro Terra&quot;</td><td>null</td><td>&quot;Bolsas no Brasil - Mestrado&quot;</td><td>&quot;Ciências Agrárias&quot;</td><td>&quot;Agronomia&quot;</td><td>&quot;Fitotecnia&quot;</td><td>&quot;Videiras:Nutrição vegetal&quot;</td><td>&quot;1992-03-01&quot;</td><td>&quot;1993-12-31&quot;</td><td>null</td><td>null</td><td>null</td><td>null</td><td>&quot;Está sendo realizado um levant…</td><td>null</td><td>null</td></tr><tr><td>&quot;92/00222-5&quot;</td><td>&quot;Isolamento de revertentes norm…</td><td>null</td><td>&quot;Katia Maria da Rocha&quot;</td><td>&quot;Universidade de São Paulo (USP…</td><td>&quot;São Paulo&quot;</td><td>null</td><td>&quot;Hugo Aguirre Armelin&quot;</td><td>null</td><td>&quot;Bolsas no Brasil - Doutorado&quot;</td><td>&quot;Ciências Biológicas&quot;</td><td>&quot;Morfologia&quot;</td><td>null</td><td>&quot;Fator de transcrição AP-1:Tran…</td><td>&quot;1992-02-01&quot;</td><td>&quot;1994-08-31&quot;</td><td>null</td><td>null</td><td>null</td><td>null</td><td>&quot;O projeto atual visa analisar …</td><td>null</td><td>null</td></tr></tbody></table></div>"
      ],
      "text/plain": [
       "shape: (155_767, 23)\n",
       "┌───────────┬───────────┬───────────┬───────────┬───┬───────────┬───────────┬───────────┬──────────┐\n",
       "│ N.        ┆ Título    ┆ Título    ┆ Beneficiá ┆ … ┆ Pesquisad ┆ Resumo    ┆ Resumo    ┆ Processo │\n",
       "│ Processo  ┆ (Portuguê ┆ (Inglês)  ┆ rio       ┆   ┆ or respon ┆ (Portuguê ┆ (Inglês)  ┆ s Vincul │\n",
       "│ ---       ┆ s)        ┆ ---       ┆ ---       ┆   ┆ sável no  ┆ s)        ┆ ---       ┆ ados     │\n",
       "│ str       ┆ ---       ┆ str       ┆ str       ┆   ┆ ext…      ┆ ---       ┆ str       ┆ ---      │\n",
       "│           ┆ str       ┆           ┆           ┆   ┆ ---       ┆ str       ┆           ┆ str      │\n",
       "│           ┆           ┆           ┆           ┆   ┆ str       ┆           ┆           ┆          │\n",
       "╞═══════════╪═══════════╪═══════════╪═══════════╪═══╪═══════════╪═══════════╪═══════════╪══════════╡\n",
       "│ 24/23715- ┆ Sensibili ┆ Sensitiza ┆ Donina    ┆ … ┆ null      ┆ Trabalho  ┆ null      ┆ null     │\n",
       "│ 0         ┆ zação,    ┆ tion,     ┆ Cibelle   ┆   ┆           ┆ de        ┆           ┆          │\n",
       "│           ┆ formação  ┆ training  ┆ de Lemos  ┆   ┆           ┆ educação  ┆           ┆          │\n",
       "│           ┆ e mon…    ┆ and mo…   ┆ Rocha     ┆   ┆           ┆ em        ┆           ┆          │\n",
       "│           ┆           ┆           ┆           ┆   ┆           ┆ direit…   ┆           ┆          │\n",
       "│ 24/18372- ┆ Democraci ┆ Democracy ┆ Yasmin    ┆ … ┆ null      ┆ O projeto ┆ The       ┆ null     │\n",
       "│ 6         ┆ a e       ┆ and affec ┆ Guerreiro ┆   ┆           ┆ tem como  ┆ project   ┆          │\n",
       "│           ┆ afetos:   ┆ tions:    ┆ Soares    ┆   ┆           ┆ objetivo  ┆ aims to   ┆          │\n",
       "│           ┆ construin ┆ buil…     ┆ Freita…   ┆   ┆           ┆ in…       ┆ investiga ┆          │\n",
       "│           ┆ …         ┆           ┆           ┆   ┆           ┆           ┆ t…        ┆          │\n",
       "│ 24/18375- ┆ Influênci ┆ Influence ┆ Isabella  ┆ … ┆ null      ┆ A terapia ┆ Photodyna ┆ null     │\n",
       "│ 5         ┆ a da      ┆ of        ┆ Bastos    ┆   ┆           ┆ fotodinâm ┆ mic       ┆          │\n",
       "│           ┆ melanina  ┆ melanin   ┆ Reis      ┆   ┆           ┆ ica (TFD) ┆ therapy   ┆          │\n",
       "│           ┆ na sens…  ┆ on the    ┆           ┆   ┆           ┆ é…        ┆ (PDT) is  ┆          │\n",
       "│           ┆           ┆ se…       ┆           ┆   ┆           ┆           ┆ …         ┆          │\n",
       "│ 24/18254- ┆ Efeitos   ┆ Effects   ┆ Isadora   ┆ … ┆ null      ┆ O         ┆ The       ┆ null     │\n",
       "│ 3         ┆ do ácido  ┆ of        ┆ Gonçalves ┆   ┆           ┆ processo  ┆ process   ┆          │\n",
       "│           ┆ valproico ┆ valproic  ┆ Almeida   ┆   ┆           ┆ de        ┆ of renal  ┆          │\n",
       "│           ┆ na …      ┆ acid in   ┆           ┆   ┆           ┆ isquemia  ┆ ischemia  ┆          │\n",
       "│           ┆           ┆ th…       ┆           ┆   ┆           ┆ renal s…  ┆ …         ┆          │\n",
       "│ 24/17879- ┆ Treinamen ┆ Training  ┆ Mariana   ┆ … ┆ null      ┆ O projeto ┆ The       ┆ null     │\n",
       "│ 0         ┆ to em man ┆ in manipu ┆ Eberle    ┆   ┆           ┆ de        ┆ undergrad ┆          │\n",
       "│           ┆ ipulação  ┆ lation    ┆ dos       ┆   ┆           ┆ iniciação ┆ project   ┆          │\n",
       "│           ┆ e c…      ┆ and c…    ┆ Santos    ┆   ┆           ┆ científ…  ┆ of the s… ┆          │\n",
       "│ …         ┆ …         ┆ …         ┆ …         ┆ … ┆ …         ┆ …         ┆ …         ┆ …        │\n",
       "│ 92/00085- ┆ Efeito do ┆ null      ┆ Sergio    ┆ … ┆ null      ┆ null      ┆ null      ┆ null     │\n",
       "│ 8         ┆ bloqueio  ┆           ┆ Luis      ┆   ┆           ┆           ┆           ┆          │\n",
       "│           ┆ da via    ┆           ┆ Ramos     ┆   ┆           ┆           ┆           ┆          │\n",
       "│           ┆ L-ar…     ┆           ┆ Martins   ┆   ┆           ┆           ┆           ┆          │\n",
       "│ 92/00360- ┆ Ácaros    ┆ null      ┆ Andrea    ┆ … ┆ null      ┆ null      ┆ null      ┆ null     │\n",
       "│ 9         ┆ hematófag ┆           ┆ Godoy     ┆   ┆           ┆           ┆           ┆          │\n",
       "│           ┆ os em     ┆           ┆ Vicente   ┆   ┆           ┆           ┆           ┆          │\n",
       "│           ┆ aviários… ┆           ┆           ┆   ┆           ┆           ┆           ┆          │\n",
       "│ 92/00346- ┆ Levantame ┆ null      ┆ Marsia    ┆ … ┆ null      ┆ Está      ┆ null      ┆ null     │\n",
       "│ 6         ┆ nto do    ┆           ┆ Antonieta ┆   ┆           ┆ sendo     ┆           ┆          │\n",
       "│           ┆ estado    ┆           ┆ de Souza  ┆   ┆           ┆ realizado ┆           ┆          │\n",
       "│           ┆ nutrici…  ┆           ┆ Guil…     ┆   ┆           ┆ um        ┆           ┆          │\n",
       "│           ┆           ┆           ┆           ┆   ┆           ┆ levant…   ┆           ┆          │\n",
       "│ 92/00384- ┆ Levantame ┆ null      ┆ Ivan Ferd ┆ … ┆ null      ┆ Está      ┆ null      ┆ null     │\n",
       "│ 5         ┆ nto do    ┆           ┆ inando    ┆   ┆           ┆ sendo     ┆           ┆          │\n",
       "│           ┆ estado    ┆           ┆ Gergolett ┆   ┆           ┆ realizado ┆           ┆          │\n",
       "│           ┆ nutrici…  ┆           ┆ i         ┆   ┆           ┆ um        ┆           ┆          │\n",
       "│           ┆           ┆           ┆           ┆   ┆           ┆ levant…   ┆           ┆          │\n",
       "│ 92/00222- ┆ Isolament ┆ null      ┆ Katia     ┆ … ┆ null      ┆ O projeto ┆ null      ┆ null     │\n",
       "│ 5         ┆ o de reve ┆           ┆ Maria da  ┆   ┆           ┆ atual     ┆           ┆          │\n",
       "│           ┆ rtentes   ┆           ┆ Rocha     ┆   ┆           ┆ visa      ┆           ┆          │\n",
       "│           ┆ norm…     ┆           ┆           ┆   ┆           ┆ analisar  ┆           ┆          │\n",
       "│           ┆           ┆           ┆           ┆   ┆           ┆ …         ┆           ┆          │\n",
       "└───────────┴───────────┴───────────┴───────────┴───┴───────────┴───────────┴───────────┴──────────┘"
      ]
     },
     "execution_count": 12,
     "metadata": {},
     "output_type": "execute_result"
    }
   ],
   "source": [
    "df3"
   ]
  },
  {
   "cell_type": "markdown",
   "id": "aa1a6ecd",
   "metadata": {},
   "source": [
    "## Conversão de datas\n",
    "\n",
    "Como vimos anteriormente, temos duas colunas de datas que estão funcionando como colunas de texto:"
   ]
  },
  {
   "cell_type": "code",
   "execution_count": 13,
   "id": "7cc9f223",
   "metadata": {},
   "outputs": [
    {
     "data": {
      "text/html": [
       "<div><style>\n",
       ".dataframe > thead > tr,\n",
       ".dataframe > tbody > tr {\n",
       "  text-align: right;\n",
       "  white-space: pre-wrap;\n",
       "}\n",
       "</style>\n",
       "<small>shape: (155_767, 2)</small><table border=\"1\" class=\"dataframe\"><thead><tr><th>Data de Início</th><th>Data de Término</th></tr><tr><td>str</td><td>str</td></tr></thead><tbody><tr><td>&quot;2025-04-01&quot;</td><td>&quot;2025-04-30&quot;</td></tr><tr><td>&quot;2025-03-01&quot;</td><td>&quot;2025-04-06&quot;</td></tr><tr><td>&quot;2025-02-24&quot;</td><td>&quot;2025-04-12&quot;</td></tr><tr><td>&quot;2025-02-17&quot;</td><td>&quot;2025-04-04&quot;</td></tr><tr><td>&quot;2025-02-17&quot;</td><td>&quot;2025-04-05&quot;</td></tr><tr><td>&hellip;</td><td>&hellip;</td></tr><tr><td>&quot;1992-03-01&quot;</td><td>&quot;1993-12-31&quot;</td></tr><tr><td>&quot;1992-03-01&quot;</td><td>&quot;1992-12-31&quot;</td></tr><tr><td>&quot;1992-03-01&quot;</td><td>&quot;1994-02-28&quot;</td></tr><tr><td>&quot;1992-03-01&quot;</td><td>&quot;1993-12-31&quot;</td></tr><tr><td>&quot;1992-02-01&quot;</td><td>&quot;1994-08-31&quot;</td></tr></tbody></table></div>"
      ],
      "text/plain": [
       "shape: (155_767, 2)\n",
       "┌────────────────┬─────────────────┐\n",
       "│ Data de Início ┆ Data de Término │\n",
       "│ ---            ┆ ---             │\n",
       "│ str            ┆ str             │\n",
       "╞════════════════╪═════════════════╡\n",
       "│ 2025-04-01     ┆ 2025-04-30      │\n",
       "│ 2025-03-01     ┆ 2025-04-06      │\n",
       "│ 2025-02-24     ┆ 2025-04-12      │\n",
       "│ 2025-02-17     ┆ 2025-04-04      │\n",
       "│ 2025-02-17     ┆ 2025-04-05      │\n",
       "│ …              ┆ …               │\n",
       "│ 1992-03-01     ┆ 1993-12-31      │\n",
       "│ 1992-03-01     ┆ 1992-12-31      │\n",
       "│ 1992-03-01     ┆ 1994-02-28      │\n",
       "│ 1992-03-01     ┆ 1993-12-31      │\n",
       "│ 1992-02-01     ┆ 1994-08-31      │\n",
       "└────────────────┴─────────────────┘"
      ]
     },
     "execution_count": 13,
     "metadata": {},
     "output_type": "execute_result"
    }
   ],
   "source": [
    "df3['Data de Início', 'Data de Término']"
   ]
  },
  {
   "cell_type": "markdown",
   "id": "bfce802e",
   "metadata": {},
   "source": [
    "Para converter essas colunas, escrevemos:"
   ]
  },
  {
   "cell_type": "code",
   "execution_count": 14,
   "id": "0fbb7706",
   "metadata": {},
   "outputs": [],
   "source": [
    "df4 = df3.with_columns([\n",
    "    pl.col(\"Data de Início\").str.to_datetime(),\n",
    "    pl.col(\"Data de Término\").str.to_datetime()\n",
    "])"
   ]
  },
  {
   "cell_type": "markdown",
   "id": "8ce1534e",
   "metadata": {},
   "source": [
    "`with_columns` serve para adicionar ou modificar colunas. Neste caso, utilizamos para indicar que vamos alterar as colunas de data.\n",
    "Se indicamos uma coluna ainda não existente, ela é criada. Se indicamos uma coluna já existente, ela é alterada.\n",
    "\n",
    "`pl.col()` serve para apontar para uma coluna específica - não estamos simplesmente falando de uma string com nome igual ao da coluna.\n",
    "\n",
    "Com o `.str.to_datetime()` é que a conversão em si é feita. O `.str` indica que a coluna é de texto e iremos fazer algo com ela. O `.to_datetime()` seguinte é este algo.\n",
    "\n",
    "Com isso, conseguimos o resultado que desejavamos:"
   ]
  },
  {
   "cell_type": "code",
   "execution_count": 15,
   "id": "2181271e",
   "metadata": {},
   "outputs": [
    {
     "data": {
      "text/html": [
       "<div><style>\n",
       ".dataframe > thead > tr,\n",
       ".dataframe > tbody > tr {\n",
       "  text-align: right;\n",
       "  white-space: pre-wrap;\n",
       "}\n",
       "</style>\n",
       "<small>shape: (155_767, 2)</small><table border=\"1\" class=\"dataframe\"><thead><tr><th>Data de Início</th><th>Data de Término</th></tr><tr><td>datetime[μs]</td><td>datetime[μs]</td></tr></thead><tbody><tr><td>2025-04-01 00:00:00</td><td>2025-04-30 00:00:00</td></tr><tr><td>2025-03-01 00:00:00</td><td>2025-04-06 00:00:00</td></tr><tr><td>2025-02-24 00:00:00</td><td>2025-04-12 00:00:00</td></tr><tr><td>2025-02-17 00:00:00</td><td>2025-04-04 00:00:00</td></tr><tr><td>2025-02-17 00:00:00</td><td>2025-04-05 00:00:00</td></tr><tr><td>&hellip;</td><td>&hellip;</td></tr><tr><td>1992-03-01 00:00:00</td><td>1993-12-31 00:00:00</td></tr><tr><td>1992-03-01 00:00:00</td><td>1992-12-31 00:00:00</td></tr><tr><td>1992-03-01 00:00:00</td><td>1994-02-28 00:00:00</td></tr><tr><td>1992-03-01 00:00:00</td><td>1993-12-31 00:00:00</td></tr><tr><td>1992-02-01 00:00:00</td><td>1994-08-31 00:00:00</td></tr></tbody></table></div>"
      ],
      "text/plain": [
       "shape: (155_767, 2)\n",
       "┌─────────────────────┬─────────────────────┐\n",
       "│ Data de Início      ┆ Data de Término     │\n",
       "│ ---                 ┆ ---                 │\n",
       "│ datetime[μs]        ┆ datetime[μs]        │\n",
       "╞═════════════════════╪═════════════════════╡\n",
       "│ 2025-04-01 00:00:00 ┆ 2025-04-30 00:00:00 │\n",
       "│ 2025-03-01 00:00:00 ┆ 2025-04-06 00:00:00 │\n",
       "│ 2025-02-24 00:00:00 ┆ 2025-04-12 00:00:00 │\n",
       "│ 2025-02-17 00:00:00 ┆ 2025-04-04 00:00:00 │\n",
       "│ 2025-02-17 00:00:00 ┆ 2025-04-05 00:00:00 │\n",
       "│ …                   ┆ …                   │\n",
       "│ 1992-03-01 00:00:00 ┆ 1993-12-31 00:00:00 │\n",
       "│ 1992-03-01 00:00:00 ┆ 1992-12-31 00:00:00 │\n",
       "│ 1992-03-01 00:00:00 ┆ 1994-02-28 00:00:00 │\n",
       "│ 1992-03-01 00:00:00 ┆ 1993-12-31 00:00:00 │\n",
       "│ 1992-02-01 00:00:00 ┆ 1994-08-31 00:00:00 │\n",
       "└─────────────────────┴─────────────────────┘"
      ]
     },
     "execution_count": 15,
     "metadata": {},
     "output_type": "execute_result"
    }
   ],
   "source": [
    "df4['Data de Início', 'Data de Término']"
   ]
  },
  {
   "cell_type": "markdown",
   "id": "8bf5e550",
   "metadata": {},
   "source": [
    "## Progresso Inicial\n",
    "Antes de concluir, vamos salvar o arquivo tratado:"
   ]
  },
  {
   "cell_type": "code",
   "execution_count": 16,
   "id": "cff803c1",
   "metadata": {},
   "outputs": [],
   "source": [
    "df4.write_csv('base_fapesp_tratada.csv')"
   ]
  }
 ],
 "metadata": {
  "kernelspec": {
   "display_name": "venv2",
   "language": "python",
   "name": "python3"
  },
  "language_info": {
   "codemirror_mode": {
    "name": "ipython",
    "version": 3
   },
   "file_extension": ".py",
   "mimetype": "text/x-python",
   "name": "python",
   "nbconvert_exporter": "python",
   "pygments_lexer": "ipython3",
   "version": "3.12.3"
  }
 },
 "nbformat": 4,
 "nbformat_minor": 5
}
