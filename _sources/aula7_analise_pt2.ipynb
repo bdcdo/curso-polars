{
 "cells": [
  {
   "cell_type": "markdown",
   "id": "3cf7563e",
   "metadata": {},
   "source": [
    "# 7. Análise dos dados - Parte 2"
   ]
  },
  {
   "cell_type": "code",
   "execution_count": 1,
   "id": "8db46efd",
   "metadata": {},
   "outputs": [
    {
     "data": {
      "text/plain": [
       "['N. Processo',\n",
       " 'Título (Português)',\n",
       " 'Título (Inglês)',\n",
       " 'Beneficiário',\n",
       " 'Instituição',\n",
       " 'Cidade Instituição',\n",
       " 'Instituição Parceira',\n",
       " 'Pesquisador Responsável',\n",
       " 'Local de Pesquisa',\n",
       " 'Modalidade de apoio',\n",
       " 'Grande Área do Conhecimento',\n",
       " 'Área do Conhecimento',\n",
       " 'Subárea do Conhecimento',\n",
       " 'Assuntos',\n",
       " 'Data de Início',\n",
       " 'Data de Término',\n",
       " 'Acordo(s)/Convênio(s) de Cooperação com a FAPESP',\n",
       " 'Instituições no Exterior',\n",
       " 'Pais de Origem',\n",
       " 'Pesquisador responsável no exterior',\n",
       " 'Resumo (Português)',\n",
       " 'Resumo (Inglês)',\n",
       " 'Processos Vinculados']"
      ]
     },
     "execution_count": 1,
     "metadata": {},
     "output_type": "execute_result"
    }
   ],
   "source": [
    "import polars as pl\n",
    "df = pl.read_csv('base_fapesp_tratada.csv')\n",
    "df.columns"
   ]
  },
  {
   "cell_type": "markdown",
   "id": "8652829b",
   "metadata": {},
   "source": []
  }
 ],
 "metadata": {
  "kernelspec": {
   "display_name": "venv2",
   "language": "python",
   "name": "python3"
  },
  "language_info": {
   "codemirror_mode": {
    "name": "ipython",
    "version": 3
   },
   "file_extension": ".py",
   "mimetype": "text/x-python",
   "name": "python",
   "nbconvert_exporter": "python",
   "pygments_lexer": "ipython3",
   "version": "3.12.3"
  }
 },
 "nbformat": 4,
 "nbformat_minor": 5
}
