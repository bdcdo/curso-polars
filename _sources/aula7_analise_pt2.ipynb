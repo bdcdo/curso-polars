{
 "cells": [
  {
   "cell_type": "markdown",
   "id": "3cf7563e",
   "metadata": {},
   "source": [
    "# 7. Análise dos dados - Parte 2"
   ]
  },
  {
   "cell_type": "code",
   "execution_count": 2,
   "id": "8db46efd",
   "metadata": {},
   "outputs": [
    {
     "data": {
      "text/plain": [
       "['N. Processo',\n",
       " 'Título (Português)',\n",
       " 'Título (Inglês)',\n",
       " 'Beneficiário',\n",
       " 'Instituição',\n",
       " 'Cidade Instituição',\n",
       " 'Instituição Parceira',\n",
       " 'Pesquisador Responsável',\n",
       " 'Local de Pesquisa',\n",
       " 'Modalidade de apoio',\n",
       " 'Grande Área do Conhecimento',\n",
       " 'Área do Conhecimento',\n",
       " 'Subárea do Conhecimento',\n",
       " 'Assuntos',\n",
       " 'Data de Início',\n",
       " 'Data de Término',\n",
       " 'Acordo(s)/Convênio(s) de Cooperação com a FAPESP',\n",
       " 'Instituições no Exterior',\n",
       " 'Pais de Origem',\n",
       " 'Pesquisador responsável no exterior',\n",
       " 'Resumo (Português)',\n",
       " 'Resumo (Inglês)',\n",
       " 'Processos Vinculados']"
      ]
     },
     "execution_count": 2,
     "metadata": {},
     "output_type": "execute_result"
    }
   ],
   "source": [
    "import polars as pl\n",
    "df = pl.read_csv('base_fapesp_tratada.csv')\n",
    "df.columns"
   ]
  },
  {
   "cell_type": "markdown",
   "id": "8652829b",
   "metadata": {},
   "source": [
    "## Quais são as instituições que mais recebem financiamento?\n",
    "Para receber isso, vamos trabalhar com a coluna 'Instituição'. Vamos começar contando os valores ali existentes."
   ]
  },
  {
   "cell_type": "code",
   "execution_count": 3,
   "id": "05036b9f",
   "metadata": {},
   "outputs": [
    {
     "data": {
      "text/html": [
       "<div><style>\n",
       ".dataframe > thead > tr,\n",
       ".dataframe > tbody > tr {\n",
       "  text-align: right;\n",
       "  white-space: pre-wrap;\n",
       "}\n",
       "</style>\n",
       "<small>shape: (993, 2)</small><table border=\"1\" class=\"dataframe\"><thead><tr><th>Instituição</th><th>count</th></tr><tr><td>str</td><td>u32</td></tr></thead><tbody><tr><td>null</td><td>5680</td></tr><tr><td>&quot;Universidade de São Paulo (USP…</td><td>4520</td></tr><tr><td>&quot;Universidade de São Paulo (USP…</td><td>3977</td></tr><tr><td>&quot;Universidade de São Paulo (USP…</td><td>3908</td></tr><tr><td>&quot;Universidade Federal de São Pa…</td><td>3658</td></tr><tr><td>&hellip;</td><td>&hellip;</td></tr><tr><td>&quot;Pontifícia Universidade Católi…</td><td>1</td></tr><tr><td>&quot;Universidade Estadual de Campi…</td><td>1</td></tr><tr><td>&quot;Universidade Municipal de São …</td><td>1</td></tr><tr><td>&quot;Faculdade de Engenharia de Sor…</td><td>1</td></tr><tr><td>&quot;Asilo São Vicente de Paulo&quot;</td><td>1</td></tr></tbody></table></div>"
      ],
      "text/plain": [
       "shape: (993, 2)\n",
       "┌─────────────────────────────────┬───────┐\n",
       "│ Instituição                     ┆ count │\n",
       "│ ---                             ┆ ---   │\n",
       "│ str                             ┆ u32   │\n",
       "╞═════════════════════════════════╪═══════╡\n",
       "│ null                            ┆ 5680  │\n",
       "│ Universidade de São Paulo (USP… ┆ 4520  │\n",
       "│ Universidade de São Paulo (USP… ┆ 3977  │\n",
       "│ Universidade de São Paulo (USP… ┆ 3908  │\n",
       "│ Universidade Federal de São Pa… ┆ 3658  │\n",
       "│ …                               ┆ …     │\n",
       "│ Pontifícia Universidade Católi… ┆ 1     │\n",
       "│ Universidade Estadual de Campi… ┆ 1     │\n",
       "│ Universidade Municipal de São … ┆ 1     │\n",
       "│ Faculdade de Engenharia de Sor… ┆ 1     │\n",
       "│ Asilo São Vicente de Paulo      ┆ 1     │\n",
       "└─────────────────────────────────┴───────┘"
      ]
     },
     "execution_count": 3,
     "metadata": {},
     "output_type": "execute_result"
    }
   ],
   "source": [
    "df['Instituição'].value_counts(sort=True)"
   ]
  },
  {
   "cell_type": "markdown",
   "id": "b5b8fcfe",
   "metadata": {},
   "source": [
    "Aqui esbarramos em um problema. Não conseguimos ler o conteúdo completo de cada item.\n",
    "\n",
    "Poderiamos burlar isso acessando itens individuais:"
   ]
  },
  {
   "cell_type": "code",
   "execution_count": 4,
   "id": "1c893b85",
   "metadata": {},
   "outputs": [],
   "source": [
    "df['Instituição'].value_counts(sort=True)['Instituição'][0]"
   ]
  },
  {
   "cell_type": "code",
   "execution_count": 5,
   "id": "591b21df",
   "metadata": {},
   "outputs": [
    {
     "data": {
      "text/plain": [
       "'Universidade de São Paulo (USP). Faculdade de Filosofia, Letras e Ciências Humanas (FFLCH)'"
      ]
     },
     "execution_count": 5,
     "metadata": {},
     "output_type": "execute_result"
    }
   ],
   "source": [
    "df['Instituição'].value_counts(sort=True)['Instituição'][1]"
   ]
  },
  {
   "cell_type": "code",
   "execution_count": 6,
   "id": "75dbaf45",
   "metadata": {},
   "outputs": [
    {
     "data": {
      "text/plain": [
       "'Universidade de São Paulo (USP). Faculdade de Medicina de Ribeirão Preto (FMRP)'"
      ]
     },
     "execution_count": 6,
     "metadata": {},
     "output_type": "execute_result"
    }
   ],
   "source": [
    "df['Instituição'].value_counts(sort=True)['Instituição'][2]"
   ]
  },
  {
   "cell_type": "code",
   "execution_count": 7,
   "id": "ca39145f",
   "metadata": {},
   "outputs": [
    {
     "data": {
      "text/plain": [
       "'Universidade de São Paulo (USP). Instituto de Ciências Biomédicas (ICB)'"
      ]
     },
     "execution_count": 7,
     "metadata": {},
     "output_type": "execute_result"
    }
   ],
   "source": [
    "df['Instituição'].value_counts(sort=True)['Instituição'][3]"
   ]
  },
  {
   "cell_type": "markdown",
   "id": "c15d7499",
   "metadata": {},
   "source": [
    "O que estamos ali fazendo é:\n",
    "\n",
    "`df['Instituição'].value_counts(sort=True)`: calculamos o dataframe que vimos anteriormente.\n",
    "\n",
    "`['Instituição']`: selecionamos a coluna que nos interessa. Poderia ser também 'count'.\n",
    "\n",
    "`[<numero da linha>]`: indicamos o número da linha que queremos acessar. Note que o item 0 é nulo e, por isso, nada foi impresso abaixo do código.\n",
    "\n",
    "Evidentemente, não seria muito prático fazer isso para todos os itens da lista. Para contornar isso, podemos utilizar algumas configurações para nos ajudar.\n",
    "\n",
    "### Configurando a exibição dos Data Frames\n",
    "\n",
    "Podemos configurar o tamanho máximo do texto que será exibido, nos permitindo ler tudo:"
   ]
  },
  {
   "cell_type": "code",
   "execution_count": 8,
   "id": "9ae27b87",
   "metadata": {},
   "outputs": [
    {
     "data": {
      "text/html": [
       "<div><style>\n",
       ".dataframe > thead > tr,\n",
       ".dataframe > tbody > tr {\n",
       "  text-align: right;\n",
       "  white-space: pre-wrap;\n",
       "}\n",
       "</style>\n",
       "<small>shape: (993, 2)</small><table border=\"1\" class=\"dataframe\"><thead><tr><th>Instituição</th><th>count</th></tr><tr><td>str</td><td>u32</td></tr></thead><tbody><tr><td>null</td><td>5680</td></tr><tr><td>&quot;Universidade de São Paulo (USP). Faculdade de Filosofia, Letras e Ciências Humanas (FFLCH)&quot;</td><td>4520</td></tr><tr><td>&quot;Universidade de São Paulo (USP). Faculdade de Medicina de Ribeirão Preto (FMRP)&quot;</td><td>3977</td></tr><tr><td>&quot;Universidade de São Paulo (USP). Instituto de Ciências Biomédicas (ICB)&quot;</td><td>3908</td></tr><tr><td>&quot;Universidade Federal de São Paulo (UNIFESP). Campus São Paulo. Escola Paulista de Medicina (EPM)&quot;</td><td>3658</td></tr><tr><td>&hellip;</td><td>&hellip;</td></tr><tr><td>&quot;Pontifícia Universidade Católica de São Paulo (PUC-SP). Fundação Aniela Tadeusz Ginsberg&quot;</td><td>1</td></tr><tr><td>&quot;Universidade Estadual de Campinas (UNICAMP). Faculdade de Engenharia (FE)&quot;</td><td>1</td></tr><tr><td>&quot;Universidade Municipal de São Caetano do Sul (USCS). Faculdade de Comunicação e Artes&quot;</td><td>1</td></tr><tr><td>&quot;Faculdade de Engenharia de Sorocaba (FACENS)&quot;</td><td>1</td></tr><tr><td>&quot;Asilo São Vicente de Paulo&quot;</td><td>1</td></tr></tbody></table></div>"
      ],
      "text/plain": [
       "shape: (993, 2)\n",
       "┌──────────────────────────────────────────────────────────────────────────────────────────┬───────┐\n",
       "│ Instituição                                                                              ┆ count │\n",
       "│ ---                                                                                      ┆ ---   │\n",
       "│ str                                                                                      ┆ u32   │\n",
       "╞══════════════════════════════════════════════════════════════════════════════════════════╪═══════╡\n",
       "│ null                                                                                     ┆ 5680  │\n",
       "│ Universidade de São Paulo (USP). Faculdade de Filosofia, Letras e Ciências Humanas       ┆ 4520  │\n",
       "│ (FFLCH)                                                                                  ┆       │\n",
       "│ Universidade de São Paulo (USP). Faculdade de Medicina de Ribeirão Preto (FMRP)          ┆ 3977  │\n",
       "│ Universidade de São Paulo (USP). Instituto de Ciências Biomédicas (ICB)                  ┆ 3908  │\n",
       "│ Universidade Federal de São Paulo (UNIFESP). Campus São Paulo. Escola Paulista de        ┆ 3658  │\n",
       "│ Medicina (EPM)                                                                           ┆       │\n",
       "│ …                                                                                        ┆ …     │\n",
       "│ Pontifícia Universidade Católica de São Paulo (PUC-SP). Fundação Aniela Tadeusz Ginsberg ┆ 1     │\n",
       "│ Universidade Estadual de Campinas (UNICAMP). Faculdade de Engenharia (FE)                ┆ 1     │\n",
       "│ Universidade Municipal de São Caetano do Sul (USCS). Faculdade de Comunicação e Artes    ┆ 1     │\n",
       "│ Faculdade de Engenharia de Sorocaba (FACENS)                                             ┆ 1     │\n",
       "│ Asilo São Vicente de Paulo                                                               ┆ 1     │\n",
       "└──────────────────────────────────────────────────────────────────────────────────────────┴───────┘"
      ]
     },
     "execution_count": 8,
     "metadata": {},
     "output_type": "execute_result"
    }
   ],
   "source": [
    "pl.Config.set_fmt_str_lengths(200)\n",
    "df['Instituição'].value_counts(sort=True)"
   ]
  },
  {
   "cell_type": "markdown",
   "id": "6d9e8002",
   "metadata": {},
   "source": [
    "Bem melhor, né?\n",
    "\n",
    "Com `pl.Config.set_fmt_str_lengths(<numero_máximo_de_caracteres>)`, podemos definir qual o máximo de caracteres que poderão aparecer.\n",
    "\n",
    "Se quiseremos resetar essa configuração, basta rodar o seguinte: `pl.Config.restore_defaults()`. Mas vamos deixar assim por enquanto. E lembre-se que essa configuração vale para um notebook só. Se quiser aumentar o tamanho máximo em outro notebook, terá que rodar esse código de novo.\n",
    "\n",
    "Ainda tá meio chatinho de ver porque não conseguimos ver todas as linhas. Felizmente, existe uma configuração para nos ajudar nisso também:"
   ]
  },
  {
   "cell_type": "code",
   "execution_count": 9,
   "id": "09306420",
   "metadata": {},
   "outputs": [
    {
     "data": {
      "text/html": [
       "<div><style>\n",
       ".dataframe > thead > tr,\n",
       ".dataframe > tbody > tr {\n",
       "  text-align: right;\n",
       "  white-space: pre-wrap;\n",
       "}\n",
       "</style>\n",
       "<small>shape: (20, 2)</small><table border=\"1\" class=\"dataframe\"><thead><tr><th>Instituição</th><th>count</th></tr><tr><td>str</td><td>u32</td></tr></thead><tbody><tr><td>null</td><td>5680</td></tr><tr><td>&quot;Universidade de São Paulo (USP). Faculdade de Filosofia, Letras e Ciências Humanas (FFLCH)&quot;</td><td>4520</td></tr><tr><td>&quot;Universidade de São Paulo (USP). Faculdade de Medicina de Ribeirão Preto (FMRP)&quot;</td><td>3977</td></tr><tr><td>&quot;Universidade de São Paulo (USP). Instituto de Ciências Biomédicas (ICB)&quot;</td><td>3908</td></tr><tr><td>&quot;Universidade Federal de São Paulo (UNIFESP). Campus São Paulo. Escola Paulista de Medicina (EPM)&quot;</td><td>3658</td></tr><tr><td>&quot;Universidade de São Paulo (USP). Escola Superior de Agricultura Luiz de Queiroz (ESALQ)&quot;</td><td>3534</td></tr><tr><td>&quot;Universidade de São Paulo (USP). Faculdade de Medicina (FM)&quot;</td><td>3507</td></tr><tr><td>&quot;Universidade Estadual Paulista (UNESP). Campus de Jaboticabal. Faculdade de Ciências Agrárias e Veterinárias (FCAV)&quot;</td><td>3489</td></tr><tr><td>&quot;Universidade Federal de São Carlos (UFSCAR). Centro de Ciências Exatas e de Tecnologia (CCET)&quot;</td><td>3370</td></tr><tr><td>&quot;Universidade Estadual de Campinas (UNICAMP). Instituto de Biologia (IB)&quot;</td><td>2873</td></tr><tr><td>&quot;Universidade de São Paulo (USP). Instituto de Biociências (IB)&quot;</td><td>2651</td></tr><tr><td>&quot;Universidade de São Paulo (USP). Escola de Engenharia de São Carlos (EESC)&quot;</td><td>2600</td></tr><tr><td>&quot;Universidade de São Paulo (USP). Faculdade de Filosofia, Ciências e Letras de Ribeirão Preto (FFCLRP)&quot;</td><td>2588</td></tr><tr><td>&quot;Universidade de São Paulo (USP). Instituto de Química (IQ)&quot;</td><td>2507</td></tr><tr><td>&quot;Universidade de São Paulo (USP). Escola Politécnica (EP)&quot;</td><td>2426</td></tr><tr><td>&quot;Universidade Estadual de Campinas (UNICAMP). Faculdade de Ciências Médicas (FCM)&quot;</td><td>2320</td></tr><tr><td>&quot;Universidade de São Paulo (USP). Faculdade de Medicina Veterinária e Zootecnia (FMVZ)&quot;</td><td>2287</td></tr><tr><td>&quot;Universidade Estadual Paulista (UNESP). Campus de Botucatu. Instituto de Biociências (IBB)&quot;</td><td>2256</td></tr><tr><td>&quot;Universidade Estadual Paulista (UNESP). Campus de Presidente Prudente. Faculdade de Ciências e Tecnologia (FCT)&quot;</td><td>2179</td></tr><tr><td>&quot;Universidade Estadual Paulista (UNESP). Campus de São José do Rio Preto. Instituto de Biociências, Letras e Ciências Exatas (IBILCE)&quot;</td><td>2096</td></tr></tbody></table></div>"
      ],
      "text/plain": [
       "shape: (20, 2)\n",
       "┌──────────────────────────────────────────────────────────────────────────────────────────┬───────┐\n",
       "│ Instituição                                                                              ┆ count │\n",
       "│ ---                                                                                      ┆ ---   │\n",
       "│ str                                                                                      ┆ u32   │\n",
       "╞══════════════════════════════════════════════════════════════════════════════════════════╪═══════╡\n",
       "│ null                                                                                     ┆ 5680  │\n",
       "│ Universidade de São Paulo (USP). Faculdade de Filosofia, Letras e Ciências Humanas       ┆ 4520  │\n",
       "│ (FFLCH)                                                                                  ┆       │\n",
       "│ Universidade de São Paulo (USP). Faculdade de Medicina de Ribeirão Preto (FMRP)          ┆ 3977  │\n",
       "│ Universidade de São Paulo (USP). Instituto de Ciências Biomédicas (ICB)                  ┆ 3908  │\n",
       "│ Universidade Federal de São Paulo (UNIFESP). Campus São Paulo. Escola Paulista de        ┆ 3658  │\n",
       "│ Medicina (EPM)                                                                           ┆       │\n",
       "│ Universidade de São Paulo (USP). Escola Superior de Agricultura Luiz de Queiroz (ESALQ)  ┆ 3534  │\n",
       "│ Universidade de São Paulo (USP). Faculdade de Medicina (FM)                              ┆ 3507  │\n",
       "│ Universidade Estadual Paulista (UNESP). Campus de Jaboticabal. Faculdade de Ciências     ┆ 3489  │\n",
       "│ Agrárias e Veterinárias (FCAV)                                                           ┆       │\n",
       "│ Universidade Federal de São Carlos (UFSCAR). Centro de Ciências Exatas e de Tecnologia   ┆ 3370  │\n",
       "│ (CCET)                                                                                   ┆       │\n",
       "│ Universidade Estadual de Campinas (UNICAMP). Instituto de Biologia (IB)                  ┆ 2873  │\n",
       "│ Universidade de São Paulo (USP). Instituto de Biociências (IB)                           ┆ 2651  │\n",
       "│ Universidade de São Paulo (USP). Escola de Engenharia de São Carlos (EESC)               ┆ 2600  │\n",
       "│ Universidade de São Paulo (USP). Faculdade de Filosofia, Ciências e Letras de Ribeirão   ┆ 2588  │\n",
       "│ Preto (FFCLRP)                                                                           ┆       │\n",
       "│ Universidade de São Paulo (USP). Instituto de Química (IQ)                               ┆ 2507  │\n",
       "│ Universidade de São Paulo (USP). Escola Politécnica (EP)                                 ┆ 2426  │\n",
       "│ Universidade Estadual de Campinas (UNICAMP). Faculdade de Ciências Médicas (FCM)         ┆ 2320  │\n",
       "│ Universidade de São Paulo (USP). Faculdade de Medicina Veterinária e Zootecnia (FMVZ)    ┆ 2287  │\n",
       "│ Universidade Estadual Paulista (UNESP). Campus de Botucatu. Instituto de Biociências     ┆ 2256  │\n",
       "│ (IBB)                                                                                    ┆       │\n",
       "│ Universidade Estadual Paulista (UNESP). Campus de Presidente Prudente. Faculdade de      ┆ 2179  │\n",
       "│ Ciências e Tecnologia (FCT)                                                              ┆       │\n",
       "│ Universidade Estadual Paulista (UNESP). Campus de São José do Rio Preto. Instituto de    ┆ 2096  │\n",
       "│ Biociências, Letras e Ciências Exatas (IBILCE)                                           ┆       │\n",
       "└──────────────────────────────────────────────────────────────────────────────────────────┴───────┘"
      ]
     },
     "execution_count": 9,
     "metadata": {},
     "output_type": "execute_result"
    }
   ],
   "source": [
    "pl.Config.set_tbl_rows(20)\n",
    "df['Instituição'].value_counts(sort=True).head(20)"
   ]
  },
  {
   "cell_type": "markdown",
   "id": "ef137c7d",
   "metadata": {},
   "source": [
    "Com a função `pl.Config.set_tbl_rows(<numero_maximo_de_linhas>)`, podemos definir quantas linhas serão impressas.\n",
    "\n",
    "Note que, além de aparecerem mais linhas, a coluna em si ficou mais larga. Isso aconteceu porque agora apareceram linhas com mais caracteres e que puderam aproveitar do limite generoso de caracteres que nós definimos antes.\n",
    "\n",
    "Note que se pedirmos uma linha a mais que o limite já teremos novamente uma coluna com \"...\":"
   ]
  },
  {
   "cell_type": "code",
   "execution_count": 10,
   "id": "6628e5eb",
   "metadata": {},
   "outputs": [
    {
     "data": {
      "text/html": [
       "<div><style>\n",
       ".dataframe > thead > tr,\n",
       ".dataframe > tbody > tr {\n",
       "  text-align: right;\n",
       "  white-space: pre-wrap;\n",
       "}\n",
       "</style>\n",
       "<small>shape: (21, 2)</small><table border=\"1\" class=\"dataframe\"><thead><tr><th>Instituição</th><th>count</th></tr><tr><td>str</td><td>u32</td></tr></thead><tbody><tr><td>null</td><td>5680</td></tr><tr><td>&quot;Universidade de São Paulo (USP). Faculdade de Filosofia, Letras e Ciências Humanas (FFLCH)&quot;</td><td>4520</td></tr><tr><td>&quot;Universidade de São Paulo (USP). Faculdade de Medicina de Ribeirão Preto (FMRP)&quot;</td><td>3977</td></tr><tr><td>&quot;Universidade de São Paulo (USP). Instituto de Ciências Biomédicas (ICB)&quot;</td><td>3908</td></tr><tr><td>&quot;Universidade Federal de São Paulo (UNIFESP). Campus São Paulo. Escola Paulista de Medicina (EPM)&quot;</td><td>3658</td></tr><tr><td>&quot;Universidade de São Paulo (USP). Escola Superior de Agricultura Luiz de Queiroz (ESALQ)&quot;</td><td>3534</td></tr><tr><td>&quot;Universidade de São Paulo (USP). Faculdade de Medicina (FM)&quot;</td><td>3507</td></tr><tr><td>&quot;Universidade Estadual Paulista (UNESP). Campus de Jaboticabal. Faculdade de Ciências Agrárias e Veterinárias (FCAV)&quot;</td><td>3489</td></tr><tr><td>&quot;Universidade Federal de São Carlos (UFSCAR). Centro de Ciências Exatas e de Tecnologia (CCET)&quot;</td><td>3370</td></tr><tr><td>&quot;Universidade Estadual de Campinas (UNICAMP). Instituto de Biologia (IB)&quot;</td><td>2873</td></tr><tr><td>&hellip;</td><td>&hellip;</td></tr><tr><td>&quot;Universidade de São Paulo (USP). Escola de Engenharia de São Carlos (EESC)&quot;</td><td>2600</td></tr><tr><td>&quot;Universidade de São Paulo (USP). Faculdade de Filosofia, Ciências e Letras de Ribeirão Preto (FFCLRP)&quot;</td><td>2588</td></tr><tr><td>&quot;Universidade de São Paulo (USP). Instituto de Química (IQ)&quot;</td><td>2507</td></tr><tr><td>&quot;Universidade de São Paulo (USP). Escola Politécnica (EP)&quot;</td><td>2426</td></tr><tr><td>&quot;Universidade Estadual de Campinas (UNICAMP). Faculdade de Ciências Médicas (FCM)&quot;</td><td>2320</td></tr><tr><td>&quot;Universidade de São Paulo (USP). Faculdade de Medicina Veterinária e Zootecnia (FMVZ)&quot;</td><td>2287</td></tr><tr><td>&quot;Universidade Estadual Paulista (UNESP). Campus de Botucatu. Instituto de Biociências (IBB)&quot;</td><td>2256</td></tr><tr><td>&quot;Universidade Estadual Paulista (UNESP). Campus de Presidente Prudente. Faculdade de Ciências e Tecnologia (FCT)&quot;</td><td>2179</td></tr><tr><td>&quot;Universidade Estadual Paulista (UNESP). Campus de São José do Rio Preto. Instituto de Biociências, Letras e Ciências Exatas (IBILCE)&quot;</td><td>2096</td></tr><tr><td>&quot;Universidade Federal de São Carlos (UFSCAR). Centro de Ciências Biológicas e da Saúde (CCBS)&quot;</td><td>1954</td></tr></tbody></table></div>"
      ],
      "text/plain": [
       "shape: (21, 2)\n",
       "┌──────────────────────────────────────────────────────────────────────────────────────────┬───────┐\n",
       "│ Instituição                                                                              ┆ count │\n",
       "│ ---                                                                                      ┆ ---   │\n",
       "│ str                                                                                      ┆ u32   │\n",
       "╞══════════════════════════════════════════════════════════════════════════════════════════╪═══════╡\n",
       "│ null                                                                                     ┆ 5680  │\n",
       "│ Universidade de São Paulo (USP). Faculdade de Filosofia, Letras e Ciências Humanas       ┆ 4520  │\n",
       "│ (FFLCH)                                                                                  ┆       │\n",
       "│ Universidade de São Paulo (USP). Faculdade de Medicina de Ribeirão Preto (FMRP)          ┆ 3977  │\n",
       "│ Universidade de São Paulo (USP). Instituto de Ciências Biomédicas (ICB)                  ┆ 3908  │\n",
       "│ Universidade Federal de São Paulo (UNIFESP). Campus São Paulo. Escola Paulista de        ┆ 3658  │\n",
       "│ Medicina (EPM)                                                                           ┆       │\n",
       "│ Universidade de São Paulo (USP). Escola Superior de Agricultura Luiz de Queiroz (ESALQ)  ┆ 3534  │\n",
       "│ Universidade de São Paulo (USP). Faculdade de Medicina (FM)                              ┆ 3507  │\n",
       "│ Universidade Estadual Paulista (UNESP). Campus de Jaboticabal. Faculdade de Ciências     ┆ 3489  │\n",
       "│ Agrárias e Veterinárias (FCAV)                                                           ┆       │\n",
       "│ Universidade Federal de São Carlos (UFSCAR). Centro de Ciências Exatas e de Tecnologia   ┆ 3370  │\n",
       "│ (CCET)                                                                                   ┆       │\n",
       "│ Universidade Estadual de Campinas (UNICAMP). Instituto de Biologia (IB)                  ┆ 2873  │\n",
       "│ …                                                                                        ┆ …     │\n",
       "│ Universidade de São Paulo (USP). Escola de Engenharia de São Carlos (EESC)               ┆ 2600  │\n",
       "│ Universidade de São Paulo (USP). Faculdade de Filosofia, Ciências e Letras de Ribeirão   ┆ 2588  │\n",
       "│ Preto (FFCLRP)                                                                           ┆       │\n",
       "│ Universidade de São Paulo (USP). Instituto de Química (IQ)                               ┆ 2507  │\n",
       "│ Universidade de São Paulo (USP). Escola Politécnica (EP)                                 ┆ 2426  │\n",
       "│ Universidade Estadual de Campinas (UNICAMP). Faculdade de Ciências Médicas (FCM)         ┆ 2320  │\n",
       "│ Universidade de São Paulo (USP). Faculdade de Medicina Veterinária e Zootecnia (FMVZ)    ┆ 2287  │\n",
       "│ Universidade Estadual Paulista (UNESP). Campus de Botucatu. Instituto de Biociências     ┆ 2256  │\n",
       "│ (IBB)                                                                                    ┆       │\n",
       "│ Universidade Estadual Paulista (UNESP). Campus de Presidente Prudente. Faculdade de      ┆ 2179  │\n",
       "│ Ciências e Tecnologia (FCT)                                                              ┆       │\n",
       "│ Universidade Estadual Paulista (UNESP). Campus de São José do Rio Preto. Instituto de    ┆ 2096  │\n",
       "│ Biociências, Letras e Ciências Exatas (IBILCE)                                           ┆       │\n",
       "│ Universidade Federal de São Carlos (UFSCAR). Centro de Ciências Biológicas e da Saúde    ┆ 1954  │\n",
       "│ (CCBS)                                                                                   ┆       │\n",
       "└──────────────────────────────────────────────────────────────────────────────────────────┴───────┘"
      ]
     },
     "execution_count": 10,
     "metadata": {},
     "output_type": "execute_result"
    }
   ],
   "source": [
    "df['Instituição'].value_counts(sort=True).head(21)"
   ]
  },
  {
   "cell_type": "markdown",
   "id": "56d7fcb8",
   "metadata": {},
   "source": [
    "Teste um pouco diferentes limites de largura e de numero de linhas e estabeleça números que te deixem mais confortáveis em trabalhar com esses dados.\n",
    "\n",
    "### Voltando à análise\n",
    "\n",
    "Você deve ter reparado que na coluna \"Instituição\" consta a indicação não só do nome, mas também da faculdade ou do instituto à que a pessoa beneficiária de uma das bolsas da fapesp era vinculada. Isso quer dizer que não conseguimos saber a partir dessa coluna, por exemplo, quantas bolsas a USP ou a UNICAMP já receberam e não existe nenhuma outra coluna na base de dados que nos permita coletar essa informação.\n",
    "\n",
    "Mas perceba que essa informação está lá nessa exata coluna, ela só não está estruturada da maneira como gostaríamos. Mas podemos criar uma nova coluna que atenda o que desejamos:"
   ]
  },
  {
   "cell_type": "code",
   "execution_count": 11,
   "id": "f3f55037",
   "metadata": {},
   "outputs": [
    {
     "data": {
      "text/html": [
       "<div><style>\n",
       ".dataframe > thead > tr,\n",
       ".dataframe > tbody > tr {\n",
       "  text-align: right;\n",
       "  white-space: pre-wrap;\n",
       "}\n",
       "</style>\n",
       "<small>shape: (155_767, 2)</small><table border=\"1\" class=\"dataframe\"><thead><tr><th>Instituição</th><th>Universidade</th></tr><tr><td>str</td><td>str</td></tr></thead><tbody><tr><td>&quot;Universidade de São Paulo (USP). Escola de Comunicações e Artes (ECA)&quot;</td><td>&quot;Universidade de São Paulo (USP)&quot;</td></tr><tr><td>&quot;Universidade de São Paulo (USP). Faculdade de Filosofia, Letras e Ciências Humanas (FFLCH)&quot;</td><td>&quot;Universidade de São Paulo (USP)&quot;</td></tr><tr><td>&quot;Universidade de São Paulo (USP). Instituto de Física de São Carlos (IFSC)&quot;</td><td>&quot;Universidade de São Paulo (USP)&quot;</td></tr><tr><td>&quot;Universidade Federal do Rio de Janeiro (UFRJ). Instituto de Biofísica Carlos Chagas Filho (IBCCF)&quot;</td><td>&quot;Universidade Federal do Rio de Janeiro (UFRJ)&quot;</td></tr><tr><td>&quot;FIOCRUZ PARANA INSTITUTO CARLOS CHAGAS/FIOCRUZ&quot;</td><td>&quot;FIOCRUZ PARANA INSTITUTO CARLOS CHAGAS/FIOCRUZ&quot;</td></tr><tr><td>&quot;FIOCRUZ PARANA INSTITUTO CARLOS CHAGAS/FIOCRUZ&quot;</td><td>&quot;FIOCRUZ PARANA INSTITUTO CARLOS CHAGAS/FIOCRUZ&quot;</td></tr><tr><td>&quot;Universidade de São Paulo (USP). Faculdade de Medicina de Ribeirão Preto (FMRP)&quot;</td><td>&quot;Universidade de São Paulo (USP)&quot;</td></tr><tr><td>&quot;Universidade Federal de Santa Maria. Centro de Ciências Naturais e Exatas (CCNE)&quot;</td><td>&quot;Universidade Federal de Santa Maria&quot;</td></tr><tr><td>&quot;FAC IDOR CIENCIAS MEDICAS/IDOR&quot;</td><td>&quot;FAC IDOR CIENCIAS MEDICAS/IDOR&quot;</td></tr><tr><td>&quot;Ministério da Ciência, Tecnologia e Inovação (Brasil). Centro Nacional de Pesquisa em Energia e Materiais (CNPEM)&quot;</td><td>&quot;Ministério da Ciência, Tecnologia e Inovação (Brasil)&quot;</td></tr><tr><td>&hellip;</td><td>&hellip;</td></tr><tr><td>&quot;Universidade de São Paulo (USP). Faculdade de Ciências Farmacêuticas (FCF)&quot;</td><td>&quot;Universidade de São Paulo (USP)&quot;</td></tr><tr><td>&quot;Universidade de São Paulo (USP). Instituto de Química (IQ)&quot;</td><td>&quot;Universidade de São Paulo (USP)&quot;</td></tr><tr><td>&quot;Universidade de São Paulo (USP). Instituto de Química (IQ)&quot;</td><td>&quot;Universidade de São Paulo (USP)&quot;</td></tr><tr><td>&quot;Universidade de São Paulo (USP). Faculdade de Medicina de Ribeirão Preto (FMRP)&quot;</td><td>&quot;Universidade de São Paulo (USP)&quot;</td></tr><tr><td>&quot;Instituto de Estudos Econômicos, Sociais e Políticos de São Paulo (IDESP)&quot;</td><td>&quot;Instituto de Estudos Econômicos, Sociais e Políticos de São Paulo (IDESP)&quot;</td></tr><tr><td>&quot;Universidade de São Paulo (USP). Faculdade de Medicina de Ribeirão Preto (FMRP)&quot;</td><td>&quot;Universidade de São Paulo (USP)&quot;</td></tr><tr><td>&quot;Secretaria de Agricultura e Abastecimento (São Paulo - Estado). Agência Paulista de Tecnologia dos Agronegócios (APTA). Instituto Biológico (IB)&quot;</td><td>&quot;Secretaria de Agricultura e Abastecimento (São Paulo - Estado)&quot;</td></tr><tr><td>&quot;Secretaria de Agricultura e Abastecimento (São Paulo - Estado). Agência Paulista de Tecnologia dos Agronegócios (APTA). Instituto Agronômico (IAC)&quot;</td><td>&quot;Secretaria de Agricultura e Abastecimento (São Paulo - Estado)&quot;</td></tr><tr><td>&quot;Secretaria de Agricultura e Abastecimento (São Paulo - Estado). Agência Paulista de Tecnologia dos Agronegócios (APTA). Instituto Agronômico (IAC)&quot;</td><td>&quot;Secretaria de Agricultura e Abastecimento (São Paulo - Estado)&quot;</td></tr><tr><td>&quot;Universidade de São Paulo (USP). Instituto de Química (IQ)&quot;</td><td>&quot;Universidade de São Paulo (USP)&quot;</td></tr></tbody></table></div>"
      ],
      "text/plain": [
       "shape: (155_767, 2)\n",
       "┌─────────────────────────────────────────────────┬────────────────────────────────────────────────┐\n",
       "│ Instituição                                     ┆ Universidade                                   │\n",
       "│ ---                                             ┆ ---                                            │\n",
       "│ str                                             ┆ str                                            │\n",
       "╞═════════════════════════════════════════════════╪════════════════════════════════════════════════╡\n",
       "│ Universidade de São Paulo (USP). Escola de      ┆ Universidade de São Paulo (USP)                │\n",
       "│ Comunicações e Artes (ECA)                      ┆                                                │\n",
       "│ Universidade de São Paulo (USP). Faculdade de   ┆ Universidade de São Paulo (USP)                │\n",
       "│ Filosofia, Letras e Ciências Humanas (FFLCH)    ┆                                                │\n",
       "│ Universidade de São Paulo (USP). Instituto de   ┆ Universidade de São Paulo (USP)                │\n",
       "│ Física de São Carlos (IFSC)                     ┆                                                │\n",
       "│ Universidade Federal do Rio de Janeiro (UFRJ).  ┆ Universidade Federal do Rio de Janeiro (UFRJ)  │\n",
       "│ Instituto de Biofísica Carlos Chagas Filho      ┆                                                │\n",
       "│ (IBCCF)                                         ┆                                                │\n",
       "│ FIOCRUZ PARANA INSTITUTO CARLOS CHAGAS/FIOCRUZ  ┆ FIOCRUZ PARANA INSTITUTO CARLOS CHAGAS/FIOCRUZ │\n",
       "│ FIOCRUZ PARANA INSTITUTO CARLOS CHAGAS/FIOCRUZ  ┆ FIOCRUZ PARANA INSTITUTO CARLOS CHAGAS/FIOCRUZ │\n",
       "│ Universidade de São Paulo (USP). Faculdade de   ┆ Universidade de São Paulo (USP)                │\n",
       "│ Medicina de Ribeirão Preto (FMRP)               ┆                                                │\n",
       "│ Universidade Federal de Santa Maria. Centro de  ┆ Universidade Federal de Santa Maria            │\n",
       "│ Ciências Naturais e Exatas (CCNE)               ┆                                                │\n",
       "│ FAC IDOR CIENCIAS MEDICAS/IDOR                  ┆ FAC IDOR CIENCIAS MEDICAS/IDOR                 │\n",
       "│ Ministério da Ciência, Tecnologia e Inovação    ┆ Ministério da Ciência, Tecnologia e Inovação   │\n",
       "│ (Brasil). Centro Nacional de Pesquisa em        ┆ (Brasil)                                       │\n",
       "│ Energia e Materiais (CNPEM)                     ┆                                                │\n",
       "│ …                                               ┆ …                                              │\n",
       "│ Universidade de São Paulo (USP). Faculdade de   ┆ Universidade de São Paulo (USP)                │\n",
       "│ Ciências Farmacêuticas (FCF)                    ┆                                                │\n",
       "│ Universidade de São Paulo (USP). Instituto de   ┆ Universidade de São Paulo (USP)                │\n",
       "│ Química (IQ)                                    ┆                                                │\n",
       "│ Universidade de São Paulo (USP). Instituto de   ┆ Universidade de São Paulo (USP)                │\n",
       "│ Química (IQ)                                    ┆                                                │\n",
       "│ Universidade de São Paulo (USP). Faculdade de   ┆ Universidade de São Paulo (USP)                │\n",
       "│ Medicina de Ribeirão Preto (FMRP)               ┆                                                │\n",
       "│ Instituto de Estudos Econômicos, Sociais e      ┆ Instituto de Estudos Econômicos, Sociais e     │\n",
       "│ Políticos de São Paulo (IDESP)                  ┆ Políticos de São Paulo (IDESP)                 │\n",
       "│ Universidade de São Paulo (USP). Faculdade de   ┆ Universidade de São Paulo (USP)                │\n",
       "│ Medicina de Ribeirão Preto (FMRP)               ┆                                                │\n",
       "│ Secretaria de Agricultura e Abastecimento (São  ┆ Secretaria de Agricultura e Abastecimento (São │\n",
       "│ Paulo - Estado). Agência Paulista de Tecnologia ┆ Paulo - Estado)                                │\n",
       "│ dos Agronegócios (APTA). Instituto Biológico    ┆                                                │\n",
       "│ (IB)                                            ┆                                                │\n",
       "│ Secretaria de Agricultura e Abastecimento (São  ┆ Secretaria de Agricultura e Abastecimento (São │\n",
       "│ Paulo - Estado). Agência Paulista de Tecnologia ┆ Paulo - Estado)                                │\n",
       "│ dos Agronegócios (APTA). Instituto Agronômico   ┆                                                │\n",
       "│ (IAC)                                           ┆                                                │\n",
       "│ Secretaria de Agricultura e Abastecimento (São  ┆ Secretaria de Agricultura e Abastecimento (São │\n",
       "│ Paulo - Estado). Agência Paulista de Tecnologia ┆ Paulo - Estado)                                │\n",
       "│ dos Agronegócios (APTA). Instituto Agronômico   ┆                                                │\n",
       "│ (IAC)                                           ┆                                                │\n",
       "│ Universidade de São Paulo (USP). Instituto de   ┆ Universidade de São Paulo (USP)                │\n",
       "│ Química (IQ)                                    ┆                                                │\n",
       "└─────────────────────────────────────────────────┴────────────────────────────────────────────────┘"
      ]
     },
     "execution_count": 11,
     "metadata": {},
     "output_type": "execute_result"
    }
   ],
   "source": [
    "df2 = df.with_columns(\n",
    "    pl.col(\"Instituição\").str.split(by=\".\").list.get(0).alias(\"Universidade\")\n",
    ")\n",
    "df2['Instituição', 'Universidade']"
   ]
  },
  {
   "cell_type": "markdown",
   "id": "1819d417",
   "metadata": {},
   "source": [
    "Olha como foi relativamente simples. Em uma linha de código conseguimos a informação que queríamos e agora podemos finalmente descobrir que instituições mais recebem financiamento."
   ]
  },
  {
   "cell_type": "code",
   "execution_count": 12,
   "id": "64e18d4b",
   "metadata": {},
   "outputs": [
    {
     "data": {
      "text/html": [
       "<div><style>\n",
       ".dataframe > thead > tr,\n",
       ".dataframe > tbody > tr {\n",
       "  text-align: right;\n",
       "  white-space: pre-wrap;\n",
       "}\n",
       "</style>\n",
       "<small>shape: (20, 2)</small><table border=\"1\" class=\"dataframe\"><thead><tr><th>Universidade</th><th>count</th></tr><tr><td>str</td><td>u32</td></tr></thead><tbody><tr><td>&quot;Universidade de São Paulo (USP)&quot;</td><td>61710</td></tr><tr><td>&quot;Universidade Estadual Paulista (UNESP)&quot;</td><td>34195</td></tr><tr><td>&quot;Universidade Estadual de Campinas (UNICAMP)&quot;</td><td>22228</td></tr><tr><td>&quot;Universidade Federal de São Carlos (UFSCAR)&quot;</td><td>7813</td></tr><tr><td>&quot;Universidade Federal de São Paulo (UNIFESP)&quot;</td><td>5900</td></tr><tr><td>null</td><td>5680</td></tr><tr><td>&quot;Secretaria da Saúde (São Paulo - Estado)&quot;</td><td>3166</td></tr><tr><td>&quot;Secretaria de Agricultura e Abastecimento (São Paulo - Estado)&quot;</td><td>1668</td></tr><tr><td>&quot;Secretaria de Desenvolvimento Econômico (São Paulo - Estado)&quot;</td><td>1475</td></tr><tr><td>&quot;Ministério da Ciência, Tecnologia e Inovação (Brasil)&quot;</td><td>1335</td></tr><tr><td>&quot;Universidade Federal do ABC (UFABC)&quot;</td><td>982</td></tr><tr><td>&quot;Pontifícia Universidade Católica de São Paulo (PUC-SP)&quot;</td><td>691</td></tr><tr><td>&quot;Ministério da Defesa (Brasil)&quot;</td><td>627</td></tr><tr><td>&quot;Secretaria de Meio Ambiente, Infraestrutura e Logística (São Paulo - Estado)&quot;</td><td>512</td></tr><tr><td>&quot;Universidade de Franca (UNIFRAN)&quot;</td><td>452</td></tr><tr><td>&quot;Ministério da Agricultura, Pecuária e Abastecimento (Brasil)&quot;</td><td>429</td></tr><tr><td>&quot;Centro Brasileiro de Análise e Planejamento (CEBRAP)&quot;</td><td>379</td></tr><tr><td>&quot;Pontifícia Universidade Católica de Campinas (PUC-CAMP)&quot;</td><td>367</td></tr><tr><td>&quot;Universidade do Vale do Paraíba (UNIVAP)&quot;</td><td>337</td></tr><tr><td>&quot;Universidade Presbiteriana Mackenzie (UPM)&quot;</td><td>300</td></tr></tbody></table></div>"
      ],
      "text/plain": [
       "shape: (20, 2)\n",
       "┌──────────────────────────────────────────────────────────────────────────────┬───────┐\n",
       "│ Universidade                                                                 ┆ count │\n",
       "│ ---                                                                          ┆ ---   │\n",
       "│ str                                                                          ┆ u32   │\n",
       "╞══════════════════════════════════════════════════════════════════════════════╪═══════╡\n",
       "│ Universidade de São Paulo (USP)                                              ┆ 61710 │\n",
       "│ Universidade Estadual Paulista (UNESP)                                       ┆ 34195 │\n",
       "│ Universidade Estadual de Campinas (UNICAMP)                                  ┆ 22228 │\n",
       "│ Universidade Federal de São Carlos (UFSCAR)                                  ┆ 7813  │\n",
       "│ Universidade Federal de São Paulo (UNIFESP)                                  ┆ 5900  │\n",
       "│ null                                                                         ┆ 5680  │\n",
       "│ Secretaria da Saúde (São Paulo - Estado)                                     ┆ 3166  │\n",
       "│ Secretaria de Agricultura e Abastecimento (São Paulo - Estado)               ┆ 1668  │\n",
       "│ Secretaria de Desenvolvimento Econômico (São Paulo - Estado)                 ┆ 1475  │\n",
       "│ Ministério da Ciência, Tecnologia e Inovação (Brasil)                        ┆ 1335  │\n",
       "│ Universidade Federal do ABC (UFABC)                                          ┆ 982   │\n",
       "│ Pontifícia Universidade Católica de São Paulo (PUC-SP)                       ┆ 691   │\n",
       "│ Ministério da Defesa (Brasil)                                                ┆ 627   │\n",
       "│ Secretaria de Meio Ambiente, Infraestrutura e Logística (São Paulo - Estado) ┆ 512   │\n",
       "│ Universidade de Franca (UNIFRAN)                                             ┆ 452   │\n",
       "│ Ministério da Agricultura, Pecuária e Abastecimento (Brasil)                 ┆ 429   │\n",
       "│ Centro Brasileiro de Análise e Planejamento (CEBRAP)                         ┆ 379   │\n",
       "│ Pontifícia Universidade Católica de Campinas (PUC-CAMP)                      ┆ 367   │\n",
       "│ Universidade do Vale do Paraíba (UNIVAP)                                     ┆ 337   │\n",
       "│ Universidade Presbiteriana Mackenzie (UPM)                                   ┆ 300   │\n",
       "└──────────────────────────────────────────────────────────────────────────────┴───────┘"
      ]
     },
     "execution_count": 12,
     "metadata": {},
     "output_type": "execute_result"
    }
   ],
   "source": [
    "df2['Universidade'].value_counts(sort=True).head(20)"
   ]
  },
  {
   "cell_type": "markdown",
   "id": "43e4c925",
   "metadata": {},
   "source": [
    "Se quisermos salvar também a informação de faculdade, fazemos o seguinte:"
   ]
  },
  {
   "cell_type": "code",
   "execution_count": 45,
   "id": "5c599c7f",
   "metadata": {},
   "outputs": [
    {
     "data": {
      "text/html": [
       "<div><style>\n",
       ".dataframe > thead > tr,\n",
       ".dataframe > tbody > tr {\n",
       "  text-align: right;\n",
       "  white-space: pre-wrap;\n",
       "}\n",
       "</style>\n",
       "<small>shape: (155_767, 2)</small><table border=\"1\" class=\"dataframe\"><thead><tr><th>Universidade</th><th>Faculdade</th></tr><tr><td>str</td><td>str</td></tr></thead><tbody><tr><td>&quot;Universidade de São Paulo (USP)&quot;</td><td>&quot;Escola de Comunicações e Artes (ECA)&quot;</td></tr><tr><td>&quot;Universidade de São Paulo (USP)&quot;</td><td>&quot;Faculdade de Filosofia, Letras e Ciências Humanas (FFLCH)&quot;</td></tr><tr><td>&quot;Universidade de São Paulo (USP)&quot;</td><td>&quot;Instituto de Física de São Carlos (IFSC)&quot;</td></tr><tr><td>&quot;Universidade Federal do Rio de Janeiro (UFRJ)&quot;</td><td>&quot;Instituto de Biofísica Carlos Chagas Filho (IBCCF)&quot;</td></tr><tr><td>&quot;FIOCRUZ PARANA INSTITUTO CARLOS CHAGAS/FIOCRUZ&quot;</td><td>null</td></tr><tr><td>&quot;FIOCRUZ PARANA INSTITUTO CARLOS CHAGAS/FIOCRUZ&quot;</td><td>null</td></tr><tr><td>&quot;Universidade de São Paulo (USP)&quot;</td><td>&quot;Faculdade de Medicina de Ribeirão Preto (FMRP)&quot;</td></tr><tr><td>&quot;Universidade Federal de Santa Maria&quot;</td><td>&quot;Centro de Ciências Naturais e Exatas (CCNE)&quot;</td></tr><tr><td>&quot;FAC IDOR CIENCIAS MEDICAS/IDOR&quot;</td><td>null</td></tr><tr><td>&quot;Ministério da Ciência, Tecnologia e Inovação (Brasil)&quot;</td><td>&quot;Centro Nacional de Pesquisa em Energia e Materiais (CNPEM)&quot;</td></tr><tr><td>&hellip;</td><td>&hellip;</td></tr><tr><td>&quot;Universidade de São Paulo (USP)&quot;</td><td>&quot;Faculdade de Ciências Farmacêuticas (FCF)&quot;</td></tr><tr><td>&quot;Universidade de São Paulo (USP)&quot;</td><td>&quot;Instituto de Química (IQ)&quot;</td></tr><tr><td>&quot;Universidade de São Paulo (USP)&quot;</td><td>&quot;Instituto de Química (IQ)&quot;</td></tr><tr><td>&quot;Universidade de São Paulo (USP)&quot;</td><td>&quot;Faculdade de Medicina de Ribeirão Preto (FMRP)&quot;</td></tr><tr><td>&quot;Instituto de Estudos Econômicos, Sociais e Políticos de São Paulo (IDESP)&quot;</td><td>null</td></tr><tr><td>&quot;Universidade de São Paulo (USP)&quot;</td><td>&quot;Faculdade de Medicina de Ribeirão Preto (FMRP)&quot;</td></tr><tr><td>&quot;Secretaria de Agricultura e Abastecimento (São Paulo - Estado)&quot;</td><td>&quot;Agência Paulista de Tecnologia dos Agronegócios (APTA)&quot;</td></tr><tr><td>&quot;Secretaria de Agricultura e Abastecimento (São Paulo - Estado)&quot;</td><td>&quot;Agência Paulista de Tecnologia dos Agronegócios (APTA)&quot;</td></tr><tr><td>&quot;Secretaria de Agricultura e Abastecimento (São Paulo - Estado)&quot;</td><td>&quot;Agência Paulista de Tecnologia dos Agronegócios (APTA)&quot;</td></tr><tr><td>&quot;Universidade de São Paulo (USP)&quot;</td><td>&quot;Instituto de Química (IQ)&quot;</td></tr></tbody></table></div>"
      ],
      "text/plain": [
       "shape: (155_767, 2)\n",
       "┌─────────────────────────────────────────────────┬────────────────────────────────────────────────┐\n",
       "│ Universidade                                    ┆ Faculdade                                      │\n",
       "│ ---                                             ┆ ---                                            │\n",
       "│ str                                             ┆ str                                            │\n",
       "╞═════════════════════════════════════════════════╪════════════════════════════════════════════════╡\n",
       "│ Universidade de São Paulo (USP)                 ┆ Escola de Comunicações e Artes (ECA)           │\n",
       "│ Universidade de São Paulo (USP)                 ┆ Faculdade de Filosofia, Letras e Ciências      │\n",
       "│                                                 ┆ Humanas (FFLCH)                                │\n",
       "│ Universidade de São Paulo (USP)                 ┆ Instituto de Física de São Carlos (IFSC)       │\n",
       "│ Universidade Federal do Rio de Janeiro (UFRJ)   ┆ Instituto de Biofísica Carlos Chagas Filho     │\n",
       "│                                                 ┆ (IBCCF)                                        │\n",
       "│ FIOCRUZ PARANA INSTITUTO CARLOS CHAGAS/FIOCRUZ  ┆ null                                           │\n",
       "│ FIOCRUZ PARANA INSTITUTO CARLOS CHAGAS/FIOCRUZ  ┆ null                                           │\n",
       "│ Universidade de São Paulo (USP)                 ┆ Faculdade de Medicina de Ribeirão Preto (FMRP) │\n",
       "│ Universidade Federal de Santa Maria             ┆ Centro de Ciências Naturais e Exatas (CCNE)    │\n",
       "│ FAC IDOR CIENCIAS MEDICAS/IDOR                  ┆ null                                           │\n",
       "│ Ministério da Ciência, Tecnologia e Inovação    ┆ Centro Nacional de Pesquisa em Energia e       │\n",
       "│ (Brasil)                                        ┆ Materiais (CNPEM)                              │\n",
       "│ …                                               ┆ …                                              │\n",
       "│ Universidade de São Paulo (USP)                 ┆ Faculdade de Ciências Farmacêuticas (FCF)      │\n",
       "│ Universidade de São Paulo (USP)                 ┆ Instituto de Química (IQ)                      │\n",
       "│ Universidade de São Paulo (USP)                 ┆ Instituto de Química (IQ)                      │\n",
       "│ Universidade de São Paulo (USP)                 ┆ Faculdade de Medicina de Ribeirão Preto (FMRP) │\n",
       "│ Instituto de Estudos Econômicos, Sociais e      ┆ null                                           │\n",
       "│ Políticos de São Paulo (IDESP)                  ┆                                                │\n",
       "│ Universidade de São Paulo (USP)                 ┆ Faculdade de Medicina de Ribeirão Preto (FMRP) │\n",
       "│ Secretaria de Agricultura e Abastecimento (São  ┆ Agência Paulista de Tecnologia dos             │\n",
       "│ Paulo - Estado)                                 ┆ Agronegócios (APTA)                            │\n",
       "│ Secretaria de Agricultura e Abastecimento (São  ┆ Agência Paulista de Tecnologia dos             │\n",
       "│ Paulo - Estado)                                 ┆ Agronegócios (APTA)                            │\n",
       "│ Secretaria de Agricultura e Abastecimento (São  ┆ Agência Paulista de Tecnologia dos             │\n",
       "│ Paulo - Estado)                                 ┆ Agronegócios (APTA)                            │\n",
       "│ Universidade de São Paulo (USP)                 ┆ Instituto de Química (IQ)                      │\n",
       "└─────────────────────────────────────────────────┴────────────────────────────────────────────────┘"
      ]
     },
     "execution_count": 45,
     "metadata": {},
     "output_type": "execute_result"
    }
   ],
   "source": [
    "df3 = df.with_columns([\n",
    "    pl.col(\"Instituição\").str.split(\".\").list.get(0).alias(\"Universidade\"),\n",
    "    pl.col(\"Instituição\").str.split(\".\").list.get(1, null_on_oob=True).str.strip_chars().alias(\"Faculdade\")\n",
    "])\n",
    "\n",
    "df3[\"Universidade\", \"Faculdade\"]"
   ]
  },
  {
   "cell_type": "markdown",
   "id": "fab4244b",
   "metadata": {},
   "source": [
    "A primeira linha permaneceu a mesma, mas acrescentamos uma segunda linha detalhando a extração do restante.\n",
    "\n",
    "`pl.col(\"Instituição\")`: Indicamos que, para criar a nova coluna, iremos utilizar a coluna \"Instituição\" como base.\n",
    "\n",
    "`.str.split(\".\")`: Separamos o texto contido em cada linha nessa coluna utilizando o ponto como delimitador\n",
    "\n",
    "`.list.get(1, null_on_oob=True)`: Para a universidade, pegamos o item 0, que é o primeiro da lista. Aqui, pegamos o item 1 e incluimos `null_on_oob=True`para lidar com casos em que não há ponto final - isto é, não há uma \"sub-instituição\" listada, como uma faculdade. \"null_on_oob\" verdadeiro quer dizer que, em casos em que não há o elemento desejado (o elemento 1) e, por isso, daria o erro de \"out of bounds\" (o elemento procurado não existe), em vez de erro, é salvo o valor nulo. Podemos ver isso que aconteceu nas linhas referentes a \"FIOCRUZ PARANA INSTITUTO CARLOS CHAGAS/FIOCRUZ\", por exemplo.\n",
    "\n",
    "`.str.strip_chars()`: Logo depois do ponto que é utilizado como delimitador vem um espaço, que seria salvo no inicio do texto desta coluna. Esta função exclui esse espaço.\n",
    "\n",
    "`.alias(\"Faculdade\")`: Salvamos o resultado da operação definida até aqui em coluna denominada \"Faculdade\".\n",
    "\n",
    "Feita a organização dessa coluna, podemos novamente realizar operações que já fizemos antes, como obsevar apenas as linhas relacionadas à USP:"
   ]
  },
  {
   "cell_type": "code",
   "execution_count": 49,
   "id": "d3b065d7",
   "metadata": {},
   "outputs": [
    {
     "data": {
      "text/html": [
       "<div><style>\n",
       ".dataframe > thead > tr,\n",
       ".dataframe > tbody > tr {\n",
       "  text-align: right;\n",
       "  white-space: pre-wrap;\n",
       "}\n",
       "</style>\n",
       "<small>shape: (69, 2)</small><table border=\"1\" class=\"dataframe\"><thead><tr><th>Faculdade</th><th>count</th></tr><tr><td>str</td><td>u32</td></tr></thead><tbody><tr><td>&quot;Faculdade de Filosofia, Letras e Ciências Humanas (FFLCH)&quot;</td><td>4520</td></tr><tr><td>&quot;Faculdade de Medicina de Ribeirão Preto (FMRP)&quot;</td><td>3977</td></tr><tr><td>&quot;Instituto de Ciências Biomédicas (ICB)&quot;</td><td>3908</td></tr><tr><td>&quot;Escola Superior de Agricultura Luiz de Queiroz (ESALQ)&quot;</td><td>3534</td></tr><tr><td>&quot;Faculdade de Medicina (FM)&quot;</td><td>3507</td></tr><tr><td>&quot;Instituto de Biociências (IB)&quot;</td><td>2651</td></tr><tr><td>&quot;Escola de Engenharia de São Carlos (EESC)&quot;</td><td>2600</td></tr><tr><td>&quot;Faculdade de Filosofia, Ciências e Letras de Ribeirão Preto (FFCLRP)&quot;</td><td>2588</td></tr><tr><td>&quot;Instituto de Química (IQ)&quot;</td><td>2507</td></tr><tr><td>&quot;Escola Politécnica (EP)&quot;</td><td>2426</td></tr><tr><td>&hellip;</td><td>&hellip;</td></tr><tr><td>&quot;Centro de Inovação da USP (INOVA)&quot;</td><td>12</td></tr><tr><td>&quot;Faculdade de Economia, Administração, Contabilidade e Atuária (FEA)&quot;</td><td>8</td></tr><tr><td>&quot;Plataforma Científica Pasteur&quot;</td><td>7</td></tr><tr><td>&quot;Reitoria (RUSP)&quot;</td><td>5</td></tr><tr><td>&quot;Hospital de Pesquisa e Reabilitação de Lesões Lábio-Palatais (HPRLP)&quot;</td><td>4</td></tr><tr><td>&quot;Centro de Estudos das Negociações Internacionais (CAENI)&quot;</td><td>2</td></tr><tr><td>&quot;Pró-Reitoria de Graduação (PRO-G)&quot;</td><td>2</td></tr><tr><td>&quot;Centro de Pesquisa para Inovação em Gases de Efeito Estufa&quot;</td><td>1</td></tr><tr><td>&quot;Campus Bauru&quot;</td><td>1</td></tr><tr><td>&quot;Sistema Integrado de Bibliotecas (SIBi)&quot;</td><td>1</td></tr></tbody></table></div>"
      ],
      "text/plain": [
       "shape: (69, 2)\n",
       "┌──────────────────────────────────────────────────────────────────────┬───────┐\n",
       "│ Faculdade                                                            ┆ count │\n",
       "│ ---                                                                  ┆ ---   │\n",
       "│ str                                                                  ┆ u32   │\n",
       "╞══════════════════════════════════════════════════════════════════════╪═══════╡\n",
       "│ Faculdade de Filosofia, Letras e Ciências Humanas (FFLCH)            ┆ 4520  │\n",
       "│ Faculdade de Medicina de Ribeirão Preto (FMRP)                       ┆ 3977  │\n",
       "│ Instituto de Ciências Biomédicas (ICB)                               ┆ 3908  │\n",
       "│ Escola Superior de Agricultura Luiz de Queiroz (ESALQ)               ┆ 3534  │\n",
       "│ Faculdade de Medicina (FM)                                           ┆ 3507  │\n",
       "│ Instituto de Biociências (IB)                                        ┆ 2651  │\n",
       "│ Escola de Engenharia de São Carlos (EESC)                            ┆ 2600  │\n",
       "│ Faculdade de Filosofia, Ciências e Letras de Ribeirão Preto (FFCLRP) ┆ 2588  │\n",
       "│ Instituto de Química (IQ)                                            ┆ 2507  │\n",
       "│ Escola Politécnica (EP)                                              ┆ 2426  │\n",
       "│ …                                                                    ┆ …     │\n",
       "│ Centro de Inovação da USP (INOVA)                                    ┆ 12    │\n",
       "│ Faculdade de Economia, Administração, Contabilidade e Atuária (FEA)  ┆ 8     │\n",
       "│ Plataforma Científica Pasteur                                        ┆ 7     │\n",
       "│ Reitoria (RUSP)                                                      ┆ 5     │\n",
       "│ Hospital de Pesquisa e Reabilitação de Lesões Lábio-Palatais (HPRLP) ┆ 4     │\n",
       "│ Centro de Estudos das Negociações Internacionais (CAENI)             ┆ 2     │\n",
       "│ Pró-Reitoria de Graduação (PRO-G)                                    ┆ 2     │\n",
       "│ Centro de Pesquisa para Inovação em Gases de Efeito Estufa           ┆ 1     │\n",
       "│ Campus Bauru                                                         ┆ 1     │\n",
       "│ Sistema Integrado de Bibliotecas (SIBi)                              ┆ 1     │\n",
       "└──────────────────────────────────────────────────────────────────────┴───────┘"
      ]
     },
     "execution_count": 49,
     "metadata": {},
     "output_type": "execute_result"
    }
   ],
   "source": [
    "(\n",
    "    df3\n",
    "    .filter(\n",
    "        pl.col('Universidade') == \"Universidade de São Paulo (USP)\"\n",
    "    )\n",
    "    ['Faculdade']\n",
    "    .value_counts(sort=True)\n",
    ")"
   ]
  },
  {
   "cell_type": "markdown",
   "id": "d0079b5e",
   "metadata": {},
   "source": [
    "Podemos ser mais específicos e olhar para as áreas que mais receberam bolsas da FFLCH-USP:"
   ]
  },
  {
   "cell_type": "code",
   "execution_count": 53,
   "id": "d8d04601",
   "metadata": {},
   "outputs": [
    {
     "data": {
      "text/html": [
       "<div><style>\n",
       ".dataframe > thead > tr,\n",
       ".dataframe > tbody > tr {\n",
       "  text-align: right;\n",
       "  white-space: pre-wrap;\n",
       "}\n",
       "</style>\n",
       "<small>shape: (10, 2)</small><table border=\"1\" class=\"dataframe\"><thead><tr><th>Área do Conhecimento</th><th>count</th></tr><tr><td>str</td><td>u32</td></tr></thead><tbody><tr><td>&quot;História&quot;</td><td>1056</td></tr><tr><td>&quot;Letras&quot;</td><td>1028</td></tr><tr><td>&quot;Filosofia&quot;</td><td>627</td></tr><tr><td>&quot;Antropologia&quot;</td><td>437</td></tr><tr><td>&quot;Sociologia&quot;</td><td>420</td></tr><tr><td>&quot;Geografia&quot;</td><td>272</td></tr><tr><td>&quot;Linguística&quot;</td><td>245</td></tr><tr><td>&quot;Ciência Política&quot;</td><td>232</td></tr><tr><td>&quot;Geociências&quot;</td><td>83</td></tr><tr><td>&quot;Ciência da Informação&quot;</td><td>28</td></tr></tbody></table></div>"
      ],
      "text/plain": [
       "shape: (10, 2)\n",
       "┌───────────────────────┬───────┐\n",
       "│ Área do Conhecimento  ┆ count │\n",
       "│ ---                   ┆ ---   │\n",
       "│ str                   ┆ u32   │\n",
       "╞═══════════════════════╪═══════╡\n",
       "│ História              ┆ 1056  │\n",
       "│ Letras                ┆ 1028  │\n",
       "│ Filosofia             ┆ 627   │\n",
       "│ Antropologia          ┆ 437   │\n",
       "│ Sociologia            ┆ 420   │\n",
       "│ Geografia             ┆ 272   │\n",
       "│ Linguística           ┆ 245   │\n",
       "│ Ciência Política      ┆ 232   │\n",
       "│ Geociências           ┆ 83    │\n",
       "│ Ciência da Informação ┆ 28    │\n",
       "└───────────────────────┴───────┘"
      ]
     },
     "execution_count": 53,
     "metadata": {},
     "output_type": "execute_result"
    }
   ],
   "source": [
    "(\n",
    "    df3\n",
    "    .filter(\n",
    "        pl.col('Universidade') == \"Universidade de São Paulo (USP)\",\n",
    "        pl.col('Faculdade') == \"Faculdade de Filosofia, Letras e Ciências Humanas (FFLCH)\"\n",
    "    )\n",
    "    ['Área do Conhecimento']\n",
    "    .value_counts(sort=True)\n",
    "    .head(10)\n",
    ")"
   ]
  }
 ],
 "metadata": {
  "kernelspec": {
   "display_name": "venv2",
   "language": "python",
   "name": "python3"
  },
  "language_info": {
   "codemirror_mode": {
    "name": "ipython",
    "version": 3
   },
   "file_extension": ".py",
   "mimetype": "text/x-python",
   "name": "python",
   "nbconvert_exporter": "python",
   "pygments_lexer": "ipython3",
   "version": "3.12.3"
  }
 },
 "nbformat": 4,
 "nbformat_minor": 5
}
