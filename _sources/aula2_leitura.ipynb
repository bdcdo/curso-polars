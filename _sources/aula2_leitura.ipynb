{
 "cells": [
  {
   "cell_type": "markdown",
   "id": "23b06f8c",
   "metadata": {},
   "source": [
    "# 2. Leitura e escrita da bases de dados\n",
    "\n",
    "Começamos sempre do mesmo jeito:"
   ]
  },
  {
   "cell_type": "code",
   "execution_count": 1,
   "id": "770d0c3e",
   "metadata": {},
   "outputs": [],
   "source": [
    "import polars as pl"
   ]
  },
  {
   "cell_type": "markdown",
   "id": "a75f44dd",
   "metadata": {},
   "source": [
    "O `pip install` só é necessário se você nunca usou a biblioteca antes. Nos usos seguintes, basta importar a biblioteca e, por convenção, sempre apelidamos o polars como pl.\n",
    "\n",
    "## Leitura de arquivos csv\n",
    "\n",
    "Feito o import, vamos ler a base de dados em si e salvar em uma variável chamada `df`, abreviação de DataFrame, que é como chamamos planilhas no python.\n",
    "\n",
    "As funções de leitura de bases de dados do polars seguem sempre o mesmo formato: `read_<formato>`. Vamos usar aqui o `read_csv`, já que é este o formato da base de dados."
   ]
  },
  {
   "cell_type": "code",
   "execution_count": 2,
   "id": "0e24355e",
   "metadata": {},
   "outputs": [
    {
     "ename": "ComputeError",
     "evalue": "found more fields than defined in 'Schema'\n\nConsider setting 'truncate_ragged_lines=True'.",
     "output_type": "error",
     "traceback": [
      "\u001b[31m---------------------------------------------------------------------------\u001b[39m",
      "\u001b[31mComputeError\u001b[39m                              Traceback (most recent call last)",
      "\u001b[36mCell\u001b[39m\u001b[36m \u001b[39m\u001b[32mIn[2]\u001b[39m\u001b[32m, line 1\u001b[39m\n\u001b[32m----> \u001b[39m\u001b[32m1\u001b[39m df = \u001b[43mpl\u001b[49m\u001b[43m.\u001b[49m\u001b[43mread_csv\u001b[49m\u001b[43m(\u001b[49m\u001b[33;43m'\u001b[39;49m\u001b[33;43mbolsas_no_brasil_concluidas.csv\u001b[39;49m\u001b[33;43m'\u001b[39;49m\u001b[43m)\u001b[49m\n",
      "\u001b[36mFile \u001b[39m\u001b[32m~/Desktop/dev/curso-polars/venv2/lib/python3.12/site-packages/polars/_utils/deprecation.py:119\u001b[39m, in \u001b[36mdeprecate_renamed_parameter.<locals>.decorate.<locals>.wrapper\u001b[39m\u001b[34m(*args, **kwargs)\u001b[39m\n\u001b[32m    114\u001b[39m \u001b[38;5;129m@wraps\u001b[39m(function)\n\u001b[32m    115\u001b[39m \u001b[38;5;28;01mdef\u001b[39;00m\u001b[38;5;250m \u001b[39m\u001b[34mwrapper\u001b[39m(*args: P.args, **kwargs: P.kwargs) -> T:\n\u001b[32m    116\u001b[39m     _rename_keyword_argument(\n\u001b[32m    117\u001b[39m         old_name, new_name, kwargs, function.\u001b[34m__qualname__\u001b[39m, version\n\u001b[32m    118\u001b[39m     )\n\u001b[32m--> \u001b[39m\u001b[32m119\u001b[39m     \u001b[38;5;28;01mreturn\u001b[39;00m \u001b[43mfunction\u001b[49m\u001b[43m(\u001b[49m\u001b[43m*\u001b[49m\u001b[43margs\u001b[49m\u001b[43m,\u001b[49m\u001b[43m \u001b[49m\u001b[43m*\u001b[49m\u001b[43m*\u001b[49m\u001b[43mkwargs\u001b[49m\u001b[43m)\u001b[49m\n",
      "\u001b[36mFile \u001b[39m\u001b[32m~/Desktop/dev/curso-polars/venv2/lib/python3.12/site-packages/polars/_utils/deprecation.py:119\u001b[39m, in \u001b[36mdeprecate_renamed_parameter.<locals>.decorate.<locals>.wrapper\u001b[39m\u001b[34m(*args, **kwargs)\u001b[39m\n\u001b[32m    114\u001b[39m \u001b[38;5;129m@wraps\u001b[39m(function)\n\u001b[32m    115\u001b[39m \u001b[38;5;28;01mdef\u001b[39;00m\u001b[38;5;250m \u001b[39m\u001b[34mwrapper\u001b[39m(*args: P.args, **kwargs: P.kwargs) -> T:\n\u001b[32m    116\u001b[39m     _rename_keyword_argument(\n\u001b[32m    117\u001b[39m         old_name, new_name, kwargs, function.\u001b[34m__qualname__\u001b[39m, version\n\u001b[32m    118\u001b[39m     )\n\u001b[32m--> \u001b[39m\u001b[32m119\u001b[39m     \u001b[38;5;28;01mreturn\u001b[39;00m \u001b[43mfunction\u001b[49m\u001b[43m(\u001b[49m\u001b[43m*\u001b[49m\u001b[43margs\u001b[49m\u001b[43m,\u001b[49m\u001b[43m \u001b[49m\u001b[43m*\u001b[49m\u001b[43m*\u001b[49m\u001b[43mkwargs\u001b[49m\u001b[43m)\u001b[49m\n",
      "\u001b[36mFile \u001b[39m\u001b[32m~/Desktop/dev/curso-polars/venv2/lib/python3.12/site-packages/polars/_utils/deprecation.py:119\u001b[39m, in \u001b[36mdeprecate_renamed_parameter.<locals>.decorate.<locals>.wrapper\u001b[39m\u001b[34m(*args, **kwargs)\u001b[39m\n\u001b[32m    114\u001b[39m \u001b[38;5;129m@wraps\u001b[39m(function)\n\u001b[32m    115\u001b[39m \u001b[38;5;28;01mdef\u001b[39;00m\u001b[38;5;250m \u001b[39m\u001b[34mwrapper\u001b[39m(*args: P.args, **kwargs: P.kwargs) -> T:\n\u001b[32m    116\u001b[39m     _rename_keyword_argument(\n\u001b[32m    117\u001b[39m         old_name, new_name, kwargs, function.\u001b[34m__qualname__\u001b[39m, version\n\u001b[32m    118\u001b[39m     )\n\u001b[32m--> \u001b[39m\u001b[32m119\u001b[39m     \u001b[38;5;28;01mreturn\u001b[39;00m \u001b[43mfunction\u001b[49m\u001b[43m(\u001b[49m\u001b[43m*\u001b[49m\u001b[43margs\u001b[49m\u001b[43m,\u001b[49m\u001b[43m \u001b[49m\u001b[43m*\u001b[49m\u001b[43m*\u001b[49m\u001b[43mkwargs\u001b[49m\u001b[43m)\u001b[49m\n",
      "\u001b[36mFile \u001b[39m\u001b[32m~/Desktop/dev/curso-polars/venv2/lib/python3.12/site-packages/polars/io/csv/functions.py:540\u001b[39m, in \u001b[36mread_csv\u001b[39m\u001b[34m(source, has_header, columns, new_columns, separator, comment_prefix, quote_char, skip_rows, skip_lines, schema, schema_overrides, null_values, missing_utf8_is_empty_string, ignore_errors, try_parse_dates, n_threads, infer_schema, infer_schema_length, batch_size, n_rows, encoding, low_memory, rechunk, use_pyarrow, storage_options, skip_rows_after_header, row_index_name, row_index_offset, sample_size, eol_char, raise_if_empty, truncate_ragged_lines, decimal_comma, glob)\u001b[39m\n\u001b[32m    532\u001b[39m \u001b[38;5;28;01melse\u001b[39;00m:\n\u001b[32m    533\u001b[39m     \u001b[38;5;28;01mwith\u001b[39;00m prepare_file_arg(\n\u001b[32m    534\u001b[39m         source,\n\u001b[32m    535\u001b[39m         encoding=encoding,\n\u001b[32m   (...)\u001b[39m\u001b[32m    538\u001b[39m         storage_options=storage_options,\n\u001b[32m    539\u001b[39m     ) \u001b[38;5;28;01mas\u001b[39;00m data:\n\u001b[32m--> \u001b[39m\u001b[32m540\u001b[39m         df = \u001b[43m_read_csv_impl\u001b[49m\u001b[43m(\u001b[49m\n\u001b[32m    541\u001b[39m \u001b[43m            \u001b[49m\u001b[43mdata\u001b[49m\u001b[43m,\u001b[49m\n\u001b[32m    542\u001b[39m \u001b[43m            \u001b[49m\u001b[43mhas_header\u001b[49m\u001b[43m=\u001b[49m\u001b[43mhas_header\u001b[49m\u001b[43m,\u001b[49m\n\u001b[32m    543\u001b[39m \u001b[43m            \u001b[49m\u001b[43mcolumns\u001b[49m\u001b[43m=\u001b[49m\u001b[43mcolumns\u001b[49m\u001b[43m \u001b[49m\u001b[38;5;28;43;01mif\u001b[39;49;00m\u001b[43m \u001b[49m\u001b[43mcolumns\u001b[49m\u001b[43m \u001b[49m\u001b[38;5;28;43;01melse\u001b[39;49;00m\u001b[43m \u001b[49m\u001b[43mprojection\u001b[49m\u001b[43m,\u001b[49m\n\u001b[32m    544\u001b[39m \u001b[43m            \u001b[49m\u001b[43mseparator\u001b[49m\u001b[43m=\u001b[49m\u001b[43mseparator\u001b[49m\u001b[43m,\u001b[49m\n\u001b[32m    545\u001b[39m \u001b[43m            \u001b[49m\u001b[43mcomment_prefix\u001b[49m\u001b[43m=\u001b[49m\u001b[43mcomment_prefix\u001b[49m\u001b[43m,\u001b[49m\n\u001b[32m    546\u001b[39m \u001b[43m            \u001b[49m\u001b[43mquote_char\u001b[49m\u001b[43m=\u001b[49m\u001b[43mquote_char\u001b[49m\u001b[43m,\u001b[49m\n\u001b[32m    547\u001b[39m \u001b[43m            \u001b[49m\u001b[43mskip_rows\u001b[49m\u001b[43m=\u001b[49m\u001b[43mskip_rows\u001b[49m\u001b[43m,\u001b[49m\n\u001b[32m    548\u001b[39m \u001b[43m            \u001b[49m\u001b[43mskip_lines\u001b[49m\u001b[43m=\u001b[49m\u001b[43mskip_lines\u001b[49m\u001b[43m,\u001b[49m\n\u001b[32m    549\u001b[39m \u001b[43m            \u001b[49m\u001b[43mschema_overrides\u001b[49m\u001b[43m=\u001b[49m\u001b[43mschema_overrides\u001b[49m\u001b[43m,\u001b[49m\n\u001b[32m    550\u001b[39m \u001b[43m            \u001b[49m\u001b[43mschema\u001b[49m\u001b[43m=\u001b[49m\u001b[43mschema\u001b[49m\u001b[43m,\u001b[49m\n\u001b[32m    551\u001b[39m \u001b[43m            \u001b[49m\u001b[43mnull_values\u001b[49m\u001b[43m=\u001b[49m\u001b[43mnull_values\u001b[49m\u001b[43m,\u001b[49m\n\u001b[32m    552\u001b[39m \u001b[43m            \u001b[49m\u001b[43mmissing_utf8_is_empty_string\u001b[49m\u001b[43m=\u001b[49m\u001b[43mmissing_utf8_is_empty_string\u001b[49m\u001b[43m,\u001b[49m\n\u001b[32m    553\u001b[39m \u001b[43m            \u001b[49m\u001b[43mignore_errors\u001b[49m\u001b[43m=\u001b[49m\u001b[43mignore_errors\u001b[49m\u001b[43m,\u001b[49m\n\u001b[32m    554\u001b[39m \u001b[43m            \u001b[49m\u001b[43mtry_parse_dates\u001b[49m\u001b[43m=\u001b[49m\u001b[43mtry_parse_dates\u001b[49m\u001b[43m,\u001b[49m\n\u001b[32m    555\u001b[39m \u001b[43m            \u001b[49m\u001b[43mn_threads\u001b[49m\u001b[43m=\u001b[49m\u001b[43mn_threads\u001b[49m\u001b[43m,\u001b[49m\n\u001b[32m    556\u001b[39m \u001b[43m            \u001b[49m\u001b[43minfer_schema_length\u001b[49m\u001b[43m=\u001b[49m\u001b[43minfer_schema_length\u001b[49m\u001b[43m,\u001b[49m\n\u001b[32m    557\u001b[39m \u001b[43m            \u001b[49m\u001b[43mbatch_size\u001b[49m\u001b[43m=\u001b[49m\u001b[43mbatch_size\u001b[49m\u001b[43m,\u001b[49m\n\u001b[32m    558\u001b[39m \u001b[43m            \u001b[49m\u001b[43mn_rows\u001b[49m\u001b[43m=\u001b[49m\u001b[43mn_rows\u001b[49m\u001b[43m,\u001b[49m\n\u001b[32m    559\u001b[39m \u001b[43m            \u001b[49m\u001b[43mencoding\u001b[49m\u001b[43m=\u001b[49m\u001b[43mencoding\u001b[49m\u001b[43m \u001b[49m\u001b[38;5;28;43;01mif\u001b[39;49;00m\u001b[43m \u001b[49m\u001b[43mencoding\u001b[49m\u001b[43m \u001b[49m\u001b[43m==\u001b[49m\u001b[43m \u001b[49m\u001b[33;43m\"\u001b[39;49m\u001b[33;43mutf8-lossy\u001b[39;49m\u001b[33;43m\"\u001b[39;49m\u001b[43m \u001b[49m\u001b[38;5;28;43;01melse\u001b[39;49;00m\u001b[43m \u001b[49m\u001b[33;43m\"\u001b[39;49m\u001b[33;43mutf8\u001b[39;49m\u001b[33;43m\"\u001b[39;49m\u001b[43m,\u001b[49m\n\u001b[32m    560\u001b[39m \u001b[43m            \u001b[49m\u001b[43mlow_memory\u001b[49m\u001b[43m=\u001b[49m\u001b[43mlow_memory\u001b[49m\u001b[43m,\u001b[49m\n\u001b[32m    561\u001b[39m \u001b[43m            \u001b[49m\u001b[43mrechunk\u001b[49m\u001b[43m=\u001b[49m\u001b[43mrechunk\u001b[49m\u001b[43m,\u001b[49m\n\u001b[32m    562\u001b[39m \u001b[43m            \u001b[49m\u001b[43mskip_rows_after_header\u001b[49m\u001b[43m=\u001b[49m\u001b[43mskip_rows_after_header\u001b[49m\u001b[43m,\u001b[49m\n\u001b[32m    563\u001b[39m \u001b[43m            \u001b[49m\u001b[43mrow_index_name\u001b[49m\u001b[43m=\u001b[49m\u001b[43mrow_index_name\u001b[49m\u001b[43m,\u001b[49m\n\u001b[32m    564\u001b[39m \u001b[43m            \u001b[49m\u001b[43mrow_index_offset\u001b[49m\u001b[43m=\u001b[49m\u001b[43mrow_index_offset\u001b[49m\u001b[43m,\u001b[49m\n\u001b[32m    565\u001b[39m \u001b[43m            \u001b[49m\u001b[43meol_char\u001b[49m\u001b[43m=\u001b[49m\u001b[43meol_char\u001b[49m\u001b[43m,\u001b[49m\n\u001b[32m    566\u001b[39m \u001b[43m            \u001b[49m\u001b[43mraise_if_empty\u001b[49m\u001b[43m=\u001b[49m\u001b[43mraise_if_empty\u001b[49m\u001b[43m,\u001b[49m\n\u001b[32m    567\u001b[39m \u001b[43m            \u001b[49m\u001b[43mtruncate_ragged_lines\u001b[49m\u001b[43m=\u001b[49m\u001b[43mtruncate_ragged_lines\u001b[49m\u001b[43m,\u001b[49m\n\u001b[32m    568\u001b[39m \u001b[43m            \u001b[49m\u001b[43mdecimal_comma\u001b[49m\u001b[43m=\u001b[49m\u001b[43mdecimal_comma\u001b[49m\u001b[43m,\u001b[49m\n\u001b[32m    569\u001b[39m \u001b[43m            \u001b[49m\u001b[43mglob\u001b[49m\u001b[43m=\u001b[49m\u001b[43mglob\u001b[49m\u001b[43m,\u001b[49m\n\u001b[32m    570\u001b[39m \u001b[43m        \u001b[49m\u001b[43m)\u001b[49m\n\u001b[32m    572\u001b[39m \u001b[38;5;28;01mif\u001b[39;00m new_columns:\n\u001b[32m    573\u001b[39m     \u001b[38;5;28;01mreturn\u001b[39;00m _update_columns(df, new_columns)\n",
      "\u001b[36mFile \u001b[39m\u001b[32m~/Desktop/dev/curso-polars/venv2/lib/python3.12/site-packages/polars/io/csv/functions.py:688\u001b[39m, in \u001b[36m_read_csv_impl\u001b[39m\u001b[34m(source, has_header, columns, separator, comment_prefix, quote_char, skip_rows, skip_lines, schema, schema_overrides, null_values, missing_utf8_is_empty_string, ignore_errors, try_parse_dates, n_threads, infer_schema_length, batch_size, n_rows, encoding, low_memory, rechunk, skip_rows_after_header, row_index_name, row_index_offset, sample_size, eol_char, raise_if_empty, truncate_ragged_lines, decimal_comma, glob)\u001b[39m\n\u001b[32m    684\u001b[39m         \u001b[38;5;28;01mraise\u001b[39;00m \u001b[38;5;167;01mValueError\u001b[39;00m(msg)\n\u001b[32m    686\u001b[39m projection, columns = parse_columns_arg(columns)\n\u001b[32m--> \u001b[39m\u001b[32m688\u001b[39m pydf = \u001b[43mPyDataFrame\u001b[49m\u001b[43m.\u001b[49m\u001b[43mread_csv\u001b[49m\u001b[43m(\u001b[49m\n\u001b[32m    689\u001b[39m \u001b[43m    \u001b[49m\u001b[43msource\u001b[49m\u001b[43m,\u001b[49m\n\u001b[32m    690\u001b[39m \u001b[43m    \u001b[49m\u001b[43minfer_schema_length\u001b[49m\u001b[43m,\u001b[49m\n\u001b[32m    691\u001b[39m \u001b[43m    \u001b[49m\u001b[43mbatch_size\u001b[49m\u001b[43m,\u001b[49m\n\u001b[32m    692\u001b[39m \u001b[43m    \u001b[49m\u001b[43mhas_header\u001b[49m\u001b[43m,\u001b[49m\n\u001b[32m    693\u001b[39m \u001b[43m    \u001b[49m\u001b[43mignore_errors\u001b[49m\u001b[43m,\u001b[49m\n\u001b[32m    694\u001b[39m \u001b[43m    \u001b[49m\u001b[43mn_rows\u001b[49m\u001b[43m,\u001b[49m\n\u001b[32m    695\u001b[39m \u001b[43m    \u001b[49m\u001b[43mskip_rows\u001b[49m\u001b[43m,\u001b[49m\n\u001b[32m    696\u001b[39m \u001b[43m    \u001b[49m\u001b[43mskip_lines\u001b[49m\u001b[43m,\u001b[49m\n\u001b[32m    697\u001b[39m \u001b[43m    \u001b[49m\u001b[43mprojection\u001b[49m\u001b[43m,\u001b[49m\n\u001b[32m    698\u001b[39m \u001b[43m    \u001b[49m\u001b[43mseparator\u001b[49m\u001b[43m,\u001b[49m\n\u001b[32m    699\u001b[39m \u001b[43m    \u001b[49m\u001b[43mrechunk\u001b[49m\u001b[43m,\u001b[49m\n\u001b[32m    700\u001b[39m \u001b[43m    \u001b[49m\u001b[43mcolumns\u001b[49m\u001b[43m,\u001b[49m\n\u001b[32m    701\u001b[39m \u001b[43m    \u001b[49m\u001b[43mencoding\u001b[49m\u001b[43m,\u001b[49m\n\u001b[32m    702\u001b[39m \u001b[43m    \u001b[49m\u001b[43mn_threads\u001b[49m\u001b[43m,\u001b[49m\n\u001b[32m    703\u001b[39m \u001b[43m    \u001b[49m\u001b[43mpath\u001b[49m\u001b[43m,\u001b[49m\n\u001b[32m    704\u001b[39m \u001b[43m    \u001b[49m\u001b[43mdtype_list\u001b[49m\u001b[43m,\u001b[49m\n\u001b[32m    705\u001b[39m \u001b[43m    \u001b[49m\u001b[43mdtype_slice\u001b[49m\u001b[43m,\u001b[49m\n\u001b[32m    706\u001b[39m \u001b[43m    \u001b[49m\u001b[43mlow_memory\u001b[49m\u001b[43m,\u001b[49m\n\u001b[32m    707\u001b[39m \u001b[43m    \u001b[49m\u001b[43mcomment_prefix\u001b[49m\u001b[43m,\u001b[49m\n\u001b[32m    708\u001b[39m \u001b[43m    \u001b[49m\u001b[43mquote_char\u001b[49m\u001b[43m,\u001b[49m\n\u001b[32m    709\u001b[39m \u001b[43m    \u001b[49m\u001b[43mprocessed_null_values\u001b[49m\u001b[43m,\u001b[49m\n\u001b[32m    710\u001b[39m \u001b[43m    \u001b[49m\u001b[43mmissing_utf8_is_empty_string\u001b[49m\u001b[43m,\u001b[49m\n\u001b[32m    711\u001b[39m \u001b[43m    \u001b[49m\u001b[43mtry_parse_dates\u001b[49m\u001b[43m,\u001b[49m\n\u001b[32m    712\u001b[39m \u001b[43m    \u001b[49m\u001b[43mskip_rows_after_header\u001b[49m\u001b[43m,\u001b[49m\n\u001b[32m    713\u001b[39m \u001b[43m    \u001b[49m\u001b[43mparse_row_index_args\u001b[49m\u001b[43m(\u001b[49m\u001b[43mrow_index_name\u001b[49m\u001b[43m,\u001b[49m\u001b[43m \u001b[49m\u001b[43mrow_index_offset\u001b[49m\u001b[43m)\u001b[49m\u001b[43m,\u001b[49m\n\u001b[32m    714\u001b[39m \u001b[43m    \u001b[49m\u001b[43meol_char\u001b[49m\u001b[43m=\u001b[49m\u001b[43meol_char\u001b[49m\u001b[43m,\u001b[49m\n\u001b[32m    715\u001b[39m \u001b[43m    \u001b[49m\u001b[43mraise_if_empty\u001b[49m\u001b[43m=\u001b[49m\u001b[43mraise_if_empty\u001b[49m\u001b[43m,\u001b[49m\n\u001b[32m    716\u001b[39m \u001b[43m    \u001b[49m\u001b[43mtruncate_ragged_lines\u001b[49m\u001b[43m=\u001b[49m\u001b[43mtruncate_ragged_lines\u001b[49m\u001b[43m,\u001b[49m\n\u001b[32m    717\u001b[39m \u001b[43m    \u001b[49m\u001b[43mdecimal_comma\u001b[49m\u001b[43m=\u001b[49m\u001b[43mdecimal_comma\u001b[49m\u001b[43m,\u001b[49m\n\u001b[32m    718\u001b[39m \u001b[43m    \u001b[49m\u001b[43mschema\u001b[49m\u001b[43m=\u001b[49m\u001b[43mschema\u001b[49m\u001b[43m,\u001b[49m\n\u001b[32m    719\u001b[39m \u001b[43m\u001b[49m\u001b[43m)\u001b[49m\n\u001b[32m    720\u001b[39m \u001b[38;5;28;01mreturn\u001b[39;00m wrap_df(pydf)\n",
      "\u001b[31mComputeError\u001b[39m: found more fields than defined in 'Schema'\n\nConsider setting 'truncate_ragged_lines=True'."
     ]
    }
   ],
   "source": [
    "df = pl.read_csv('bolsas_no_brasil_concluidas.csv')"
   ]
  },
  {
   "cell_type": "markdown",
   "id": "97039bd0",
   "metadata": {},
   "source": [
    "Ops. Tivemos um problema. Pra você ver como mesmo ler uma planilinha pode ser difícil quando somos exatos no que pedimos ao computador.\n",
    "\n",
    "O erro não é óbvio nisso, mas o grande problema é que, em geral, arquivos .csv utilizam vírgulas para separar itens, mas o csv fornecido pela fapesp utiliza ponto e vírgula. Vamos então tentar de novo explicitando isso:"
   ]
  },
  {
   "cell_type": "code",
   "execution_count": 3,
   "id": "5479b915",
   "metadata": {},
   "outputs": [],
   "source": [
    "df = pl.read_csv('bolsas_no_brasil_concluidas.csv', separator=';')"
   ]
  },
  {
   "cell_type": "markdown",
   "id": "e2302531",
   "metadata": {},
   "source": [
    "Agora foi!\n",
    "\n",
    "Vamos entender o que fizemos por partes.\n",
    "\n",
    "`df = `: criamos uma variável chamada `df` e atribuímos a esta variável o resultado do que vem depois do `=`. Neste caso, isso significa que iremos salvar em `df` o conteúdo da planilha que iremos ler.\n",
    "Feito isso, para acessar esse conteúdo basta digitarmos o nome da variável, que nomeei como `df` por convenção, mas poderia receber qualquer outro nome, como `dados_bolsas` ou `fapesp_brasil_concluido`. Para entender melhor as limitações dos nomes das variáveis, clique [aqui](https://www.w3schools.com/python/python_variables_names.asp).\n",
    "\n",
    "`pl.read_csv()`: utilizamos a função `read_csv()`da biblioteca `polars`, que apelidamos como `pl`, como vimos na aula anterior. Lembre-se sempre de utilizar os parenteses ao chamar qualquer função!\n",
    "\n",
    "`('bolsas_no_brasil_concluidas.csv', separator=';')`: dentro da função, passamos dois argumentos - chamamos de argumento os valores que estamos \"colocando\" na função - `'bolsas_no_brasil_concluidas.csv'` e `';'`.  \n",
    "O primeiro argumento, `'bolsas_no_brasil_concluidas.csv'` se resume a nomear o arquivo que queremos ler. Este argumento é obrigatório. Sem dizer o que você quer ler, não tem como ler nada. Lembre-se de se atentar para o fato de que o formato do arquivo deve ser incluso em seu nome - neste caso, \".csv\".  \n",
    "Já o argumento `';'` é opcional. Neste caso, acabamos sendo obrigados a colocá-lo, mas, ao ler a esmagadora maioria das planilhas, você não precisará informar nada do tipo. Isso acontece porque, se você não informa qual separador quer utilizar, o polars presume que deve utilizar a vírgula. Se quiser utilizar algo diferente, precisará pedir explicitamente ao polars que faça isso.  \n",
    "Enquanto `';'` é um argumento (algo que estamos colocando dentro da função), `separator=` é um parâmetro. Pense nos parâmetros como caixinhas dentro da função que estão aguardando ser preenchidas. Se você não preenche o parâmetro separator, o polars vai lá e guarda uma vírgula lá, mas, se quiser que outra coisa seja guardada lá, vai precisar passar explicitamente um **argumento** informando o que deve ser utilizado.\n",
    "\n",
    "Basicamente todas as funções do polars tem uma série de parâmetros que podem ou não ser preenchidos com argumentos - caso não sejam preenchidos, o polars vai guardar lá algo pré-definido. Não precisa entender em detalhes cada um, mas, se quiser conferir a lista completa dos parâmetros que podem ser utilizados com `read_csv`, confira a [documentação dessa função](https://docs.pola.rs/api/python/stable/reference/api/polars.read_csv.html).\n",
    "\n",
    "Vamos utilizar bastante essa terminologia - argumentos e parâmetros - então é importante entender direito esses conceitos e tirar eventuais dúvidas antes de prosseguir. Lembre-se: um dos melhores usos de chatbots como o ChatGPT é tirar dúvidas sobre programação."
   ]
  },
  {
   "cell_type": "markdown",
   "id": "00b5cac2",
   "metadata": {},
   "source": [
    "## Escrita da base de dados\n",
    "\n",
    "Antes de entrar na exploração da base de dados em si, vamos terminar de ver tudo o que tem pra ver sobre leitura e escrita de dados.\n",
    "\n",
    "Temos o nosso `df`. Se quisermos salvá-lo como csv, basta utilizar a função `write_csv()` - veja que o padrão de nomes será o mesmo do read, formado por `write_<formato>`. Ao utilizar essa função, passamos como argumento o nome como queremos salvar o arquivo, com a extensão inclusa."
   ]
  },
  {
   "cell_type": "code",
   "execution_count": 4,
   "id": "6838a604",
   "metadata": {},
   "outputs": [],
   "source": [
    "df.write_csv('base_fapesp.csv')"
   ]
  },
  {
   "cell_type": "markdown",
   "id": "c164e86e",
   "metadata": {},
   "source": [
    "Se quisermos salvar em formato do excel, fazemos algo semelhante:"
   ]
  },
  {
   "cell_type": "code",
   "execution_count": 5,
   "id": "ed36875a",
   "metadata": {},
   "outputs": [
    {
     "ename": "ModuleNotFoundError",
     "evalue": "Excel export requires 'xlsxwriter' not found.\nPlease install using the command `pip install xlsxwriter`.",
     "output_type": "error",
     "traceback": [
      "\u001b[31m---------------------------------------------------------------------------\u001b[39m",
      "\u001b[31mModuleNotFoundError\u001b[39m                       Traceback (most recent call last)",
      "\u001b[36mCell\u001b[39m\u001b[36m \u001b[39m\u001b[32mIn[5]\u001b[39m\u001b[32m, line 1\u001b[39m\n\u001b[32m----> \u001b[39m\u001b[32m1\u001b[39m \u001b[43mdf\u001b[49m\u001b[43m.\u001b[49m\u001b[43mwrite_excel\u001b[49m\u001b[43m(\u001b[49m\u001b[33;43m'\u001b[39;49m\u001b[33;43mbase_fapesp.xlsx\u001b[39;49m\u001b[33;43m'\u001b[39;49m\u001b[43m)\u001b[49m\n",
      "\u001b[36mFile \u001b[39m\u001b[32m~/Desktop/dev/curso-polars/venv2/lib/python3.12/site-packages/polars/dataframe/frame.py:3482\u001b[39m, in \u001b[36mDataFrame.write_excel\u001b[39m\u001b[34m(self, workbook, worksheet, position, table_style, table_name, column_formats, dtype_formats, conditional_formats, header_format, column_totals, column_widths, row_totals, row_heights, sparklines, formulas, float_precision, include_header, autofilter, autofit, hidden_columns, hide_gridlines, sheet_zoom, freeze_panes)\u001b[39m\n\u001b[32m   3114\u001b[39m \u001b[38;5;250m\u001b[39m\u001b[33;03m\"\"\"\u001b[39;00m\n\u001b[32m   3115\u001b[39m \u001b[33;03mWrite frame data to a table in an Excel workbook/worksheet.\u001b[39;00m\n\u001b[32m   3116\u001b[39m \n\u001b[32m   (...)\u001b[39m\u001b[32m   3469\u001b[39m \u001b[33;03m...     ws.insert_chart(\"D1\", chart)\u001b[39;00m\n\u001b[32m   3470\u001b[39m \u001b[33;03m\"\"\"\u001b[39;00m  \u001b[38;5;66;03m# noqa: W505\u001b[39;00m\n\u001b[32m   3471\u001b[39m \u001b[38;5;28;01mfrom\u001b[39;00m\u001b[38;5;250m \u001b[39m\u001b[34;01mpolars\u001b[39;00m\u001b[34;01m.\u001b[39;00m\u001b[34;01mio\u001b[39;00m\u001b[34;01m.\u001b[39;00m\u001b[34;01mspreadsheet\u001b[39;00m\u001b[34;01m.\u001b[39;00m\u001b[34;01m_write_utils\u001b[39;00m\u001b[38;5;250m \u001b[39m\u001b[38;5;28;01mimport\u001b[39;00m (\n\u001b[32m   3472\u001b[39m     _unpack_multi_column_dict,\n\u001b[32m   3473\u001b[39m     _xl_apply_conditional_formats,\n\u001b[32m   (...)\u001b[39m\u001b[32m   3479\u001b[39m     _XLFormatCache,\n\u001b[32m   3480\u001b[39m )\n\u001b[32m-> \u001b[39m\u001b[32m3482\u001b[39m xlsxwriter = \u001b[43mimport_optional\u001b[49m\u001b[43m(\u001b[49m\u001b[33;43m\"\u001b[39;49m\u001b[33;43mxlsxwriter\u001b[39;49m\u001b[33;43m\"\u001b[39;49m\u001b[43m,\u001b[49m\u001b[43m \u001b[49m\u001b[43merr_prefix\u001b[49m\u001b[43m=\u001b[49m\u001b[33;43m\"\u001b[39;49m\u001b[33;43mExcel export requires\u001b[39;49m\u001b[33;43m\"\u001b[39;49m\u001b[43m)\u001b[49m\n\u001b[32m   3483\u001b[39m \u001b[38;5;28;01mfrom\u001b[39;00m\u001b[38;5;250m \u001b[39m\u001b[34;01mxlsxwriter\u001b[39;00m\u001b[34;01m.\u001b[39;00m\u001b[34;01mutility\u001b[39;00m\u001b[38;5;250m \u001b[39m\u001b[38;5;28;01mimport\u001b[39;00m xl_cell_to_rowcol\n\u001b[32m   3485\u001b[39m \u001b[38;5;66;03m# setup workbook/worksheet\u001b[39;00m\n",
      "\u001b[36mFile \u001b[39m\u001b[32m~/Desktop/dev/curso-polars/venv2/lib/python3.12/site-packages/polars/dependencies.py:293\u001b[39m, in \u001b[36mimport_optional\u001b[39m\u001b[34m(module_name, err_prefix, err_suffix, min_version, min_err_prefix, install_message)\u001b[39m\n\u001b[32m    288\u001b[39m     suffix = \u001b[33mf\u001b[39m\u001b[33m\"\u001b[39m\u001b[33m \u001b[39m\u001b[38;5;132;01m{\u001b[39;00merr_suffix.strip(\u001b[33m'\u001b[39m\u001b[33m \u001b[39m\u001b[33m'\u001b[39m)\u001b[38;5;132;01m}\u001b[39;00m\u001b[33m\"\u001b[39m \u001b[38;5;28;01mif\u001b[39;00m err_suffix \u001b[38;5;28;01melse\u001b[39;00m \u001b[33m\"\u001b[39m\u001b[33m\"\u001b[39m\n\u001b[32m    289\u001b[39m     err_message = \u001b[33mf\u001b[39m\u001b[33m\"\u001b[39m\u001b[38;5;132;01m{\u001b[39;00mprefix\u001b[38;5;132;01m}\u001b[39;00m\u001b[33m'\u001b[39m\u001b[38;5;132;01m{\u001b[39;00mmodule_name\u001b[38;5;132;01m}\u001b[39;00m\u001b[33m'\u001b[39m\u001b[38;5;132;01m{\u001b[39;00msuffix\u001b[38;5;132;01m}\u001b[39;00m\u001b[33m.\u001b[39m\u001b[38;5;130;01m\\n\u001b[39;00m\u001b[33m\"\u001b[39m + (\n\u001b[32m    290\u001b[39m         install_message\n\u001b[32m    291\u001b[39m         \u001b[38;5;129;01mor\u001b[39;00m \u001b[33mf\u001b[39m\u001b[33m\"\u001b[39m\u001b[33mPlease install using the command `pip install \u001b[39m\u001b[38;5;132;01m{\u001b[39;00mmodule_root\u001b[38;5;132;01m}\u001b[39;00m\u001b[33m`.\u001b[39m\u001b[33m\"\u001b[39m\n\u001b[32m    292\u001b[39m     )\n\u001b[32m--> \u001b[39m\u001b[32m293\u001b[39m     \u001b[38;5;28;01mraise\u001b[39;00m \u001b[38;5;167;01mModuleNotFoundError\u001b[39;00m(err_message) \u001b[38;5;28;01mfrom\u001b[39;00m\u001b[38;5;250m \u001b[39m\u001b[38;5;28;01mNone\u001b[39;00m\n\u001b[32m    295\u001b[39m \u001b[38;5;28;01mif\u001b[39;00m min_version:\n\u001b[32m    296\u001b[39m     min_version = parse_version(min_version)\n",
      "\u001b[31mModuleNotFoundError\u001b[39m: Excel export requires 'xlsxwriter' not found.\nPlease install using the command `pip install xlsxwriter`."
     ]
    }
   ],
   "source": [
    "df.write_excel('base_fapesp.xlsx')"
   ]
  },
  {
   "cell_type": "markdown",
   "id": "72275ab5",
   "metadata": {},
   "source": [
    "No entanto, ao rodar isso, temos um erro. Este erro acontece não porque não existe a função `write_excel`, mas sim porque, para rodar essa função, precisamos instalar algumas bibliotecas adicionais.\n",
    "\n",
    "Para a instalação de polars ser mais rápidas, seus desenvolvedores fizeram com que você não fosse obrigado a instalar coisas que não irá usar. Vamos então instalar o o \"xlsxwriter\" sugerido pela mensagem de erro.\n",
    "\n",
    "Para isso, rodamos agora `!pip install xlsxwriter`."
   ]
  },
  {
   "cell_type": "code",
   "execution_count": 9,
   "id": "82c1759f",
   "metadata": {},
   "outputs": [
    {
     "name": "stdout",
     "output_type": "stream",
     "text": [
      "/bin/bash: line 1: pip: command not found\n"
     ]
    }
   ],
   "source": [
    "!pip install xlsxwriter"
   ]
  },
  {
   "cell_type": "markdown",
   "id": "10aa6717",
   "metadata": {},
   "source": [
    "Feito isso, agora tentamos de novo, agora com sucesso:"
   ]
  },
  {
   "cell_type": "code",
   "execution_count": 8,
   "id": "164aac25",
   "metadata": {},
   "outputs": [
    {
     "data": {
      "text/plain": [
       "<xlsxwriter.workbook.Workbook at 0x783472210e60>"
      ]
     },
     "execution_count": 8,
     "metadata": {},
     "output_type": "execute_result"
    }
   ],
   "source": [
    "df.write_excel('base_fapesp.xlsx')"
   ]
  },
  {
   "cell_type": "markdown",
   "id": "fdbfec33",
   "metadata": {},
   "source": [
    "Como a base de dados é grandinha, pode demorar um pouco.\n",
    "\n",
    "Para ler a planilha salva, vamos inicialmente ter o mesmo problema:"
   ]
  },
  {
   "cell_type": "code",
   "execution_count": 10,
   "id": "b8cf463f",
   "metadata": {},
   "outputs": [
    {
     "ename": "ModuleNotFoundError",
     "evalue": "required package 'fastexcel' not found.\nPlease install using the command `pip install fastexcel`.",
     "output_type": "error",
     "traceback": [
      "\u001b[31m---------------------------------------------------------------------------\u001b[39m",
      "\u001b[31mModuleNotFoundError\u001b[39m                       Traceback (most recent call last)",
      "\u001b[36mCell\u001b[39m\u001b[36m \u001b[39m\u001b[32mIn[10]\u001b[39m\u001b[32m, line 1\u001b[39m\n\u001b[32m----> \u001b[39m\u001b[32m1\u001b[39m df_excel = \u001b[43mpl\u001b[49m\u001b[43m.\u001b[49m\u001b[43mread_excel\u001b[49m\u001b[43m(\u001b[49m\u001b[33;43m'\u001b[39;49m\u001b[33;43mbase_fapesp.xlsx\u001b[39;49m\u001b[33;43m'\u001b[39;49m\u001b[43m)\u001b[49m\n",
      "\u001b[36mFile \u001b[39m\u001b[32m~/Desktop/dev/curso-polars/venv2/lib/python3.12/site-packages/polars/_utils/deprecation.py:119\u001b[39m, in \u001b[36mdeprecate_renamed_parameter.<locals>.decorate.<locals>.wrapper\u001b[39m\u001b[34m(*args, **kwargs)\u001b[39m\n\u001b[32m    114\u001b[39m \u001b[38;5;129m@wraps\u001b[39m(function)\n\u001b[32m    115\u001b[39m \u001b[38;5;28;01mdef\u001b[39;00m\u001b[38;5;250m \u001b[39m\u001b[34mwrapper\u001b[39m(*args: P.args, **kwargs: P.kwargs) -> T:\n\u001b[32m    116\u001b[39m     _rename_keyword_argument(\n\u001b[32m    117\u001b[39m         old_name, new_name, kwargs, function.\u001b[34m__qualname__\u001b[39m, version\n\u001b[32m    118\u001b[39m     )\n\u001b[32m--> \u001b[39m\u001b[32m119\u001b[39m     \u001b[38;5;28;01mreturn\u001b[39;00m \u001b[43mfunction\u001b[49m\u001b[43m(\u001b[49m\u001b[43m*\u001b[49m\u001b[43margs\u001b[49m\u001b[43m,\u001b[49m\u001b[43m \u001b[49m\u001b[43m*\u001b[49m\u001b[43m*\u001b[49m\u001b[43mkwargs\u001b[49m\u001b[43m)\u001b[49m\n",
      "\u001b[36mFile \u001b[39m\u001b[32m~/Desktop/dev/curso-polars/venv2/lib/python3.12/site-packages/polars/_utils/deprecation.py:119\u001b[39m, in \u001b[36mdeprecate_renamed_parameter.<locals>.decorate.<locals>.wrapper\u001b[39m\u001b[34m(*args, **kwargs)\u001b[39m\n\u001b[32m    114\u001b[39m \u001b[38;5;129m@wraps\u001b[39m(function)\n\u001b[32m    115\u001b[39m \u001b[38;5;28;01mdef\u001b[39;00m\u001b[38;5;250m \u001b[39m\u001b[34mwrapper\u001b[39m(*args: P.args, **kwargs: P.kwargs) -> T:\n\u001b[32m    116\u001b[39m     _rename_keyword_argument(\n\u001b[32m    117\u001b[39m         old_name, new_name, kwargs, function.\u001b[34m__qualname__\u001b[39m, version\n\u001b[32m    118\u001b[39m     )\n\u001b[32m--> \u001b[39m\u001b[32m119\u001b[39m     \u001b[38;5;28;01mreturn\u001b[39;00m \u001b[43mfunction\u001b[49m\u001b[43m(\u001b[49m\u001b[43m*\u001b[49m\u001b[43margs\u001b[49m\u001b[43m,\u001b[49m\u001b[43m \u001b[49m\u001b[43m*\u001b[49m\u001b[43m*\u001b[49m\u001b[43mkwargs\u001b[49m\u001b[43m)\u001b[49m\n",
      "\u001b[36mFile \u001b[39m\u001b[32m~/Desktop/dev/curso-polars/venv2/lib/python3.12/site-packages/polars/io/spreadsheet/functions.py:399\u001b[39m, in \u001b[36mread_excel\u001b[39m\u001b[34m(source, sheet_id, sheet_name, table_name, engine, engine_options, read_options, has_header, columns, schema_overrides, infer_schema_length, include_file_paths, drop_empty_rows, drop_empty_cols, raise_if_empty)\u001b[39m\n\u001b[32m    259\u001b[39m \u001b[38;5;250m\u001b[39m\u001b[33;03m\"\"\"\u001b[39;00m\n\u001b[32m    260\u001b[39m \u001b[33;03mRead Excel spreadsheet data into a DataFrame.\u001b[39;00m\n\u001b[32m    261\u001b[39m \n\u001b[32m   (...)\u001b[39m\u001b[32m    395\u001b[39m \u001b[33;03m... )  # doctest: +SKIP\u001b[39;00m\n\u001b[32m    396\u001b[39m \u001b[33;03m\"\"\"\u001b[39;00m\n\u001b[32m    397\u001b[39m sources, read_multiple_workbooks = _sources(source)\n\u001b[32m    398\u001b[39m frames: \u001b[38;5;28mlist\u001b[39m[pl.DataFrame] | \u001b[38;5;28mlist\u001b[39m[\u001b[38;5;28mdict\u001b[39m[\u001b[38;5;28mstr\u001b[39m, pl.DataFrame]] = [  \u001b[38;5;66;03m# type: ignore[assignment]\u001b[39;00m\n\u001b[32m--> \u001b[39m\u001b[32m399\u001b[39m     \u001b[43m_read_spreadsheet\u001b[49m\u001b[43m(\u001b[49m\n\u001b[32m    400\u001b[39m \u001b[43m        \u001b[49m\u001b[43msrc\u001b[49m\u001b[43m,\u001b[49m\n\u001b[32m    401\u001b[39m \u001b[43m        \u001b[49m\u001b[43msheet_id\u001b[49m\u001b[43m=\u001b[49m\u001b[43msheet_id\u001b[49m\u001b[43m,\u001b[49m\n\u001b[32m    402\u001b[39m \u001b[43m        \u001b[49m\u001b[43msheet_name\u001b[49m\u001b[43m=\u001b[49m\u001b[43msheet_name\u001b[49m\u001b[43m,\u001b[49m\n\u001b[32m    403\u001b[39m \u001b[43m        \u001b[49m\u001b[43mtable_name\u001b[49m\u001b[43m=\u001b[49m\u001b[43mtable_name\u001b[49m\u001b[43m,\u001b[49m\n\u001b[32m    404\u001b[39m \u001b[43m        \u001b[49m\u001b[43mengine\u001b[49m\u001b[43m=\u001b[49m\u001b[43mengine\u001b[49m\u001b[43m,\u001b[49m\n\u001b[32m    405\u001b[39m \u001b[43m        \u001b[49m\u001b[43mengine_options\u001b[49m\u001b[43m=\u001b[49m\u001b[43mengine_options\u001b[49m\u001b[43m,\u001b[49m\n\u001b[32m    406\u001b[39m \u001b[43m        \u001b[49m\u001b[43mread_options\u001b[49m\u001b[43m=\u001b[49m\u001b[43mread_options\u001b[49m\u001b[43m,\u001b[49m\n\u001b[32m    407\u001b[39m \u001b[43m        \u001b[49m\u001b[43mschema_overrides\u001b[49m\u001b[43m=\u001b[49m\u001b[43mschema_overrides\u001b[49m\u001b[43m,\u001b[49m\n\u001b[32m    408\u001b[39m \u001b[43m        \u001b[49m\u001b[43minfer_schema_length\u001b[49m\u001b[43m=\u001b[49m\u001b[43minfer_schema_length\u001b[49m\u001b[43m,\u001b[49m\n\u001b[32m    409\u001b[39m \u001b[43m        \u001b[49m\u001b[43minclude_file_paths\u001b[49m\u001b[43m=\u001b[49m\u001b[43minclude_file_paths\u001b[49m\u001b[43m,\u001b[49m\n\u001b[32m    410\u001b[39m \u001b[43m        \u001b[49m\u001b[43mraise_if_empty\u001b[49m\u001b[43m=\u001b[49m\u001b[43mraise_if_empty\u001b[49m\u001b[43m,\u001b[49m\n\u001b[32m    411\u001b[39m \u001b[43m        \u001b[49m\u001b[43mhas_header\u001b[49m\u001b[43m=\u001b[49m\u001b[43mhas_header\u001b[49m\u001b[43m,\u001b[49m\n\u001b[32m    412\u001b[39m \u001b[43m        \u001b[49m\u001b[43mcolumns\u001b[49m\u001b[43m=\u001b[49m\u001b[43mcolumns\u001b[49m\u001b[43m,\u001b[49m\n\u001b[32m    413\u001b[39m \u001b[43m        \u001b[49m\u001b[43mdrop_empty_rows\u001b[49m\u001b[43m=\u001b[49m\u001b[43mdrop_empty_rows\u001b[49m\u001b[43m,\u001b[49m\n\u001b[32m    414\u001b[39m \u001b[43m        \u001b[49m\u001b[43mdrop_empty_cols\u001b[49m\u001b[43m=\u001b[49m\u001b[43mdrop_empty_cols\u001b[49m\u001b[43m,\u001b[49m\n\u001b[32m    415\u001b[39m \u001b[43m    \u001b[49m\u001b[43m)\u001b[49m\n\u001b[32m    416\u001b[39m     \u001b[38;5;28;01mfor\u001b[39;00m src \u001b[38;5;129;01min\u001b[39;00m sources\n\u001b[32m    417\u001b[39m ]\n\u001b[32m    418\u001b[39m \u001b[38;5;28;01mreturn\u001b[39;00m _unpack_read_results(\n\u001b[32m    419\u001b[39m     frames=frames,\n\u001b[32m    420\u001b[39m     read_multiple_workbooks=read_multiple_workbooks,\n\u001b[32m    421\u001b[39m )\n",
      "\u001b[36mFile \u001b[39m\u001b[32m~/Desktop/dev/curso-polars/venv2/lib/python3.12/site-packages/polars/io/spreadsheet/functions.py:671\u001b[39m, in \u001b[36m_read_spreadsheet\u001b[39m\u001b[34m(source, sheet_id, sheet_name, table_name, engine, engine_options, read_options, schema_overrides, infer_schema_length, include_file_paths, columns, has_header, raise_if_empty, drop_empty_rows, drop_empty_cols)\u001b[39m\n\u001b[32m    668\u001b[39m schema_overrides = \u001b[38;5;28mdict\u001b[39m(schema_overrides \u001b[38;5;129;01mor\u001b[39;00m {})\n\u001b[32m    670\u001b[39m \u001b[38;5;66;03m# establish the reading function, parser, and available worksheets\u001b[39;00m\n\u001b[32m--> \u001b[39m\u001b[32m671\u001b[39m reader_fn, parser, worksheets = \u001b[43m_initialise_spreadsheet_parser\u001b[49m\u001b[43m(\u001b[49m\n\u001b[32m    672\u001b[39m \u001b[43m    \u001b[49m\u001b[43mengine\u001b[49m\u001b[43m,\u001b[49m\u001b[43m \u001b[49m\u001b[43msource\u001b[49m\u001b[43m,\u001b[49m\u001b[43m \u001b[49m\u001b[43mengine_options\u001b[49m\n\u001b[32m    673\u001b[39m \u001b[43m\u001b[49m\u001b[43m)\u001b[49m\n\u001b[32m    674\u001b[39m \u001b[38;5;28;01mtry\u001b[39;00m:\n\u001b[32m    675\u001b[39m     \u001b[38;5;66;03m# parse data from the indicated sheet(s)\u001b[39;00m\n\u001b[32m    676\u001b[39m     sheet_names, return_multiple_sheets = _get_sheet_names(\n\u001b[32m    677\u001b[39m         sheet_id, sheet_name, table_name, worksheets\n\u001b[32m    678\u001b[39m     )\n",
      "\u001b[36mFile \u001b[39m\u001b[32m~/Desktop/dev/curso-polars/venv2/lib/python3.12/site-packages/polars/io/spreadsheet/functions.py:855\u001b[39m, in \u001b[36m_initialise_spreadsheet_parser\u001b[39m\u001b[34m(engine, source, engine_options)\u001b[39m\n\u001b[32m    852\u001b[39m     \u001b[38;5;28;01mreturn\u001b[39;00m _read_spreadsheet_openpyxl, parser, sheets\n\u001b[32m    854\u001b[39m \u001b[38;5;28;01melif\u001b[39;00m engine == \u001b[33m\"\u001b[39m\u001b[33mcalamine\u001b[39m\u001b[33m\"\u001b[39m:\n\u001b[32m--> \u001b[39m\u001b[32m855\u001b[39m     fastexcel = \u001b[43mimport_optional\u001b[49m\u001b[43m(\u001b[49m\u001b[33;43m\"\u001b[39;49m\u001b[33;43mfastexcel\u001b[39;49m\u001b[33;43m\"\u001b[39;49m\u001b[43m,\u001b[49m\u001b[43m \u001b[49m\u001b[43mmin_version\u001b[49m\u001b[43m=\u001b[49m\u001b[33;43m\"\u001b[39;49m\u001b[33;43m0.7.0\u001b[39;49m\u001b[33;43m\"\u001b[39;49m\u001b[43m)\u001b[49m\n\u001b[32m    856\u001b[39m     reading_bytesio, reading_bytes = (\n\u001b[32m    857\u001b[39m         \u001b[38;5;28misinstance\u001b[39m(source, BytesIO),\n\u001b[32m    858\u001b[39m         \u001b[38;5;28misinstance\u001b[39m(source, \u001b[38;5;28mbytes\u001b[39m),\n\u001b[32m    859\u001b[39m     )\n\u001b[32m    860\u001b[39m     \u001b[38;5;28;01mif\u001b[39;00m (reading_bytesio \u001b[38;5;129;01mor\u001b[39;00m reading_bytes) \u001b[38;5;129;01mand\u001b[39;00m parse_version(\n\u001b[32m    861\u001b[39m         module_version := fastexcel.__version__\n\u001b[32m    862\u001b[39m     ) < (\u001b[32m0\u001b[39m, \u001b[32m10\u001b[39m):\n",
      "\u001b[36mFile \u001b[39m\u001b[32m~/Desktop/dev/curso-polars/venv2/lib/python3.12/site-packages/polars/dependencies.py:293\u001b[39m, in \u001b[36mimport_optional\u001b[39m\u001b[34m(module_name, err_prefix, err_suffix, min_version, min_err_prefix, install_message)\u001b[39m\n\u001b[32m    288\u001b[39m     suffix = \u001b[33mf\u001b[39m\u001b[33m\"\u001b[39m\u001b[33m \u001b[39m\u001b[38;5;132;01m{\u001b[39;00merr_suffix.strip(\u001b[33m'\u001b[39m\u001b[33m \u001b[39m\u001b[33m'\u001b[39m)\u001b[38;5;132;01m}\u001b[39;00m\u001b[33m\"\u001b[39m \u001b[38;5;28;01mif\u001b[39;00m err_suffix \u001b[38;5;28;01melse\u001b[39;00m \u001b[33m\"\u001b[39m\u001b[33m\"\u001b[39m\n\u001b[32m    289\u001b[39m     err_message = \u001b[33mf\u001b[39m\u001b[33m\"\u001b[39m\u001b[38;5;132;01m{\u001b[39;00mprefix\u001b[38;5;132;01m}\u001b[39;00m\u001b[33m'\u001b[39m\u001b[38;5;132;01m{\u001b[39;00mmodule_name\u001b[38;5;132;01m}\u001b[39;00m\u001b[33m'\u001b[39m\u001b[38;5;132;01m{\u001b[39;00msuffix\u001b[38;5;132;01m}\u001b[39;00m\u001b[33m.\u001b[39m\u001b[38;5;130;01m\\n\u001b[39;00m\u001b[33m\"\u001b[39m + (\n\u001b[32m    290\u001b[39m         install_message\n\u001b[32m    291\u001b[39m         \u001b[38;5;129;01mor\u001b[39;00m \u001b[33mf\u001b[39m\u001b[33m\"\u001b[39m\u001b[33mPlease install using the command `pip install \u001b[39m\u001b[38;5;132;01m{\u001b[39;00mmodule_root\u001b[38;5;132;01m}\u001b[39;00m\u001b[33m`.\u001b[39m\u001b[33m\"\u001b[39m\n\u001b[32m    292\u001b[39m     )\n\u001b[32m--> \u001b[39m\u001b[32m293\u001b[39m     \u001b[38;5;28;01mraise\u001b[39;00m \u001b[38;5;167;01mModuleNotFoundError\u001b[39;00m(err_message) \u001b[38;5;28;01mfrom\u001b[39;00m\u001b[38;5;250m \u001b[39m\u001b[38;5;28;01mNone\u001b[39;00m\n\u001b[32m    295\u001b[39m \u001b[38;5;28;01mif\u001b[39;00m min_version:\n\u001b[32m    296\u001b[39m     min_version = parse_version(min_version)\n",
      "\u001b[31mModuleNotFoundError\u001b[39m: required package 'fastexcel' not found.\nPlease install using the command `pip install fastexcel`."
     ]
    }
   ],
   "source": [
    "df_excel = pl.read_excel('base_fapesp.xlsx')"
   ]
  },
  {
   "cell_type": "markdown",
   "id": "0ffaecd1",
   "metadata": {},
   "source": [
    "Vamos então seguir a sugestão de instalar `fastexcel`:"
   ]
  },
  {
   "cell_type": "code",
   "execution_count": 11,
   "id": "820313d0",
   "metadata": {},
   "outputs": [
    {
     "name": "stdout",
     "output_type": "stream",
     "text": [
      "/bin/bash: line 1: pip: command not found\n"
     ]
    }
   ],
   "source": [
    "!pip install fastexcel"
   ]
  },
  {
   "cell_type": "markdown",
   "id": "4b76772f",
   "metadata": {},
   "source": [
    "E, ao tentar de novo ler o arquivo, irá funcionar:"
   ]
  },
  {
   "cell_type": "code",
   "execution_count": 12,
   "id": "03aa3561",
   "metadata": {},
   "outputs": [
    {
     "name": "stderr",
     "output_type": "stream",
     "text": [
      "Could not determine dtype for column 7, falling back to string\n",
      "Could not determine dtype for column 8, falling back to string\n",
      "Could not determine dtype for column 10, falling back to string\n",
      "Could not determine dtype for column 11, falling back to string\n",
      "Could not determine dtype for column 12, falling back to string\n",
      "Could not determine dtype for column 14, falling back to string\n",
      "Could not determine dtype for column 15, falling back to string\n",
      "Could not determine dtype for column 23, falling back to string\n",
      "Could not determine dtype for column 26, falling back to string\n"
     ]
    }
   ],
   "source": [
    "df_excel = pl.read_excel('base_fapesp.xlsx')"
   ]
  },
  {
   "cell_type": "markdown",
   "id": "fb7a4dd1",
   "metadata": {},
   "source": [
    "Pode ignorar eventuais alertas sobre dtype. Elas são destinadas a usos mais avançados desse tipo de ferramenta.\n",
    "\n",
    "Note como as mensagens de erro muitas vezes são não causas para pânico, mas sim indicações do que precisamos fazer para avançar.\n",
    "\n",
    "Agora que sabemos como ler a planilha, vamos explorá-la!"
   ]
  }
 ],
 "metadata": {
  "kernelspec": {
   "display_name": "venv2",
   "language": "python",
   "name": "python3"
  },
  "language_info": {
   "codemirror_mode": {
    "name": "ipython",
    "version": 3
   },
   "file_extension": ".py",
   "mimetype": "text/x-python",
   "name": "python",
   "nbconvert_exporter": "python",
   "pygments_lexer": "ipython3",
   "version": "3.12.3"
  }
 },
 "nbformat": 4,
 "nbformat_minor": 5
}
