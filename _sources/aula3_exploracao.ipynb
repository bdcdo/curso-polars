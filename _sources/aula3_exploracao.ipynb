{
 "cells": [
  {
   "cell_type": "markdown",
   "id": "7ad94ef0",
   "metadata": {},
   "source": [
    "# 3. Exploração inicial\n",
    "\n",
    "Começamos preparando nosso ambiente:"
   ]
  },
  {
   "cell_type": "code",
   "execution_count": 1,
   "id": "1742af1c",
   "metadata": {},
   "outputs": [],
   "source": [
    "import polars as pl\n",
    "df = pl.read_csv('base_fapesp.csv')"
   ]
  },
  {
   "cell_type": "markdown",
   "id": "f46f1c97",
   "metadata": {},
   "source": [
    "Em um jupyter notebook, para acessar o conteúdo do dataframe basta rodar uma célula com ele:"
   ]
  },
  {
   "cell_type": "code",
   "execution_count": 2,
   "id": "2776c91e",
   "metadata": {},
   "outputs": [
    {
     "data": {
      "text/html": [
       "<div><style>\n",
       ".dataframe > thead > tr,\n",
       ".dataframe > tbody > tr {\n",
       "  text-align: right;\n",
       "  white-space: pre-wrap;\n",
       "}\n",
       "</style>\n",
       "<small>shape: (155_773, 30)</small><table border=\"1\" class=\"dataframe\"><thead><tr><th>N. Processo</th><th>Título (Português)</th><th>Título (Inglês)</th><th>Beneficiário</th><th>Instituição</th><th>Cidade Instituição</th><th>Instituição Parceira</th><th>Empresa</th><th>Município</th><th>Pesquisador Responsável</th><th>Pesquisadores Principais</th><th>Pesquisadores Associados</th><th>Supervisor</th><th>Local de Pesquisa</th><th>Pesquisador Visitante</th><th>Instituição do Pesquisador Visitante</th><th>Modalidade de apoio</th><th>Grande Área do Conhecimento</th><th>Área do Conhecimento</th><th>Subárea do Conhecimento</th><th>Assuntos</th><th>Data de Início</th><th>Data de Término</th><th>Acordo(s)/Convênio(s) de Cooperação com a FAPESP</th><th>Instituições no Exterior</th><th>Pais de Origem</th><th>Pesquisador responsável no exterior</th><th>Resumo (Português)</th><th>Resumo (Inglês)</th><th>Processos Vinculados</th></tr><tr><td>str</td><td>str</td><td>str</td><td>str</td><td>str</td><td>str</td><td>str</td><td>str</td><td>str</td><td>str</td><td>str</td><td>str</td><td>str</td><td>str</td><td>str</td><td>str</td><td>str</td><td>str</td><td>str</td><td>str</td><td>str</td><td>str</td><td>str</td><td>str</td><td>str</td><td>str</td><td>str</td><td>str</td><td>str</td><td>str</td></tr></thead><tbody><tr><td>&quot;24/23715-0&quot;</td><td>&quot;Sensibilização, formação e mon…</td><td>&quot;Sensitization, training and mo…</td><td>&quot;Donina Cibelle de Lemos Rocha&quot;</td><td>&quot;Universidade de São Paulo (USP…</td><td>&quot;São Paulo&quot;</td><td>null</td><td>null</td><td>null</td><td>&quot;Vitor Souza Lima Blotta&quot;</td><td>null</td><td>null</td><td>null</td><td>null</td><td>null</td><td>null</td><td>&quot;Bolsas no Brasil - Programa Ca…</td><td>&quot;Ciências Humanas&quot;</td><td>&quot;Educação&quot;</td><td>&quot;Tópicos Específicos de Educaçã…</td><td>&quot;Educomunicação&quot;</td><td>&quot;2025-04-01&quot;</td><td>&quot;2025-04-30&quot;</td><td>null</td><td>null</td><td>null</td><td>null</td><td>&quot;Trabalho de educação em direit…</td><td>null</td><td>null</td></tr><tr><td>&quot;24/18372-6&quot;</td><td>&quot;Democracia e afetos: construin…</td><td>&quot;Democracy and affections: buil…</td><td>&quot;Yasmin Guerreiro Soares Freita…</td><td>&quot;Universidade de São Paulo (USP…</td><td>&quot;São Paulo&quot;</td><td>null</td><td>null</td><td>null</td><td>&quot;Renato Janine Ribeiro&quot;</td><td>null</td><td>null</td><td>null</td><td>null</td><td>null</td><td>null</td><td>&quot;Bolsas no Brasil - Programa Es…</td><td>&quot;Ciências Humanas&quot;</td><td>&quot;Filosofia&quot;</td><td>null</td><td>&quot;Direito:Democracia:Relações de…</td><td>&quot;2025-03-01&quot;</td><td>&quot;2025-04-06&quot;</td><td>null</td><td>null</td><td>null</td><td>null</td><td>&quot;O projeto tem como objetivo in…</td><td>&quot;The project aims to investigat…</td><td>null</td></tr><tr><td>&quot;24/18375-5&quot;</td><td>&quot;Influência da melanina na sens…</td><td>&quot;Influence of melanin on the se…</td><td>&quot;Isabella Bastos Reis&quot;</td><td>&quot;Universidade de São Paulo (USP…</td><td>&quot;São Carlos&quot;</td><td>null</td><td>null</td><td>null</td><td>&quot;Vanderlei Salvador Bagnato&quot;</td><td>null</td><td>null</td><td>null</td><td>null</td><td>null</td><td>null</td><td>&quot;Bolsas no Brasil - Programa Es…</td><td>&quot;Ciências Biológicas&quot;</td><td>&quot;Biofísica&quot;</td><td>&quot;Biofísica Celular&quot;</td><td>&quot;Células tumorais:Melaninas:Fen…</td><td>&quot;2025-02-24&quot;</td><td>&quot;2025-04-12&quot;</td><td>null</td><td>null</td><td>null</td><td>null</td><td>&quot;A terapia fotodinâmica (TFD) é…</td><td>&quot;Photodynamic therapy (PDT) is …</td><td>null</td></tr><tr><td>&quot;24/18254-3&quot;</td><td>&quot;Efeitos do ácido valproico na …</td><td>&quot;Effects of valproic acid in th…</td><td>&quot;Isadora Gonçalves Almeida&quot;</td><td>&quot;Universidade Federal do Rio de…</td><td>&quot;Rio de Janeiro&quot;</td><td>null</td><td>null</td><td>null</td><td>&quot;Adalberto Ramon Vieyra&quot;</td><td>null</td><td>null</td><td>null</td><td>null</td><td>null</td><td>null</td><td>&quot;Bolsas no Brasil - Programa Es…</td><td>&quot;Ciências Biológicas&quot;</td><td>&quot;Fisiologia&quot;</td><td>&quot;Fisiologia de Órgãos e Sistema…</td><td>&quot;Ácido valproico:Histona desace…</td><td>&quot;2025-02-17&quot;</td><td>&quot;2025-04-04&quot;</td><td>null</td><td>null</td><td>null</td><td>null</td><td>&quot;O processo de isquemia renal s…</td><td>&quot;The process of renal ischemia …</td><td>null</td></tr><tr><td>&quot;24/17879-0&quot;</td><td>&quot;Treinamento em manipulação e c…</td><td>&quot;Training in manipulation and c…</td><td>&quot;Mariana Eberle dos Santos&quot;</td><td>&quot;FIOCRUZ PARANA INSTITUTO CARLO…</td><td>null</td><td>null</td><td>null</td><td>null</td><td>&quot;Marcio Lourenço Rodrigues&quot;</td><td>null</td><td>null</td><td>null</td><td>null</td><td>null</td><td>null</td><td>&quot;Bolsas no Brasil - Programa Es…</td><td>&quot;Ciências Biológicas&quot;</td><td>&quot;Microbiologia&quot;</td><td>&quot;Biologia e Fisiologia dos Micr…</td><td>&quot;Micologia:Cryptococcus:Parede …</td><td>&quot;2025-02-17&quot;</td><td>&quot;2025-04-05&quot;</td><td>null</td><td>null</td><td>null</td><td>null</td><td>&quot;O projeto de iniciação científ…</td><td>&quot;The undergrad project of the s…</td><td>null</td></tr><tr><td>&hellip;</td><td>&hellip;</td><td>&hellip;</td><td>&hellip;</td><td>&hellip;</td><td>&hellip;</td><td>&hellip;</td><td>&hellip;</td><td>&hellip;</td><td>&hellip;</td><td>&hellip;</td><td>&hellip;</td><td>&hellip;</td><td>&hellip;</td><td>&hellip;</td><td>&hellip;</td><td>&hellip;</td><td>&hellip;</td><td>&hellip;</td><td>&hellip;</td><td>&hellip;</td><td>&hellip;</td><td>&hellip;</td><td>&hellip;</td><td>&hellip;</td><td>&hellip;</td><td>&hellip;</td><td>&hellip;</td><td>&hellip;</td><td>&hellip;</td></tr><tr><td>null</td><td>null</td><td>null</td><td>null</td><td>null</td><td>null</td><td>null</td><td>null</td><td>null</td><td>null</td><td>null</td><td>null</td><td>null</td><td>null</td><td>null</td><td>null</td><td>null</td><td>null</td><td>null</td><td>null</td><td>null</td><td>null</td><td>null</td><td>null</td><td>null</td><td>null</td><td>null</td><td>null</td><td>null</td><td>null</td></tr><tr><td>&quot;&gt;&gt;&gt; Biblioteca Virtual da FAPE…</td><td>null</td><td>null</td><td>null</td><td>null</td><td>null</td><td>null</td><td>null</td><td>null</td><td>null</td><td>null</td><td>null</td><td>null</td><td>null</td><td>null</td><td>null</td><td>null</td><td>null</td><td>null</td><td>null</td><td>null</td><td>null</td><td>null</td><td>null</td><td>null</td><td>null</td><td>null</td><td>null</td><td>null</td><td>null</td></tr><tr><td>&quot;Dados atualizados em: 10/May/2…</td><td>null</td><td>null</td><td>null</td><td>null</td><td>null</td><td>null</td><td>null</td><td>null</td><td>null</td><td>null</td><td>null</td><td>null</td><td>null</td><td>null</td><td>null</td><td>null</td><td>null</td><td>null</td><td>null</td><td>null</td><td>null</td><td>null</td><td>null</td><td>null</td><td>null</td><td>null</td><td>null</td><td>null</td><td>null</td></tr><tr><td>&quot;URL: https://bv.fapesp.br/&quot;</td><td>null</td><td>null</td><td>null</td><td>null</td><td>null</td><td>null</td><td>null</td><td>null</td><td>null</td><td>null</td><td>null</td><td>null</td><td>null</td><td>null</td><td>null</td><td>null</td><td>null</td><td>null</td><td>null</td><td>null</td><td>null</td><td>null</td><td>null</td><td>null</td><td>null</td><td>null</td><td>null</td><td>null</td><td>null</td></tr><tr><td>null</td><td>null</td><td>null</td><td>null</td><td>null</td><td>null</td><td>null</td><td>null</td><td>null</td><td>null</td><td>null</td><td>null</td><td>null</td><td>null</td><td>null</td><td>null</td><td>null</td><td>null</td><td>null</td><td>null</td><td>null</td><td>null</td><td>null</td><td>null</td><td>null</td><td>null</td><td>null</td><td>null</td><td>null</td><td>null</td></tr></tbody></table></div>"
      ],
      "text/plain": [
       "shape: (155_773, 30)\n",
       "┌───────────┬───────────┬───────────┬───────────┬───┬───────────┬───────────┬───────────┬──────────┐\n",
       "│ N.        ┆ Título    ┆ Título    ┆ Beneficiá ┆ … ┆ Pesquisad ┆ Resumo    ┆ Resumo    ┆ Processo │\n",
       "│ Processo  ┆ (Portuguê ┆ (Inglês)  ┆ rio       ┆   ┆ or respon ┆ (Portuguê ┆ (Inglês)  ┆ s Vincul │\n",
       "│ ---       ┆ s)        ┆ ---       ┆ ---       ┆   ┆ sável no  ┆ s)        ┆ ---       ┆ ados     │\n",
       "│ str       ┆ ---       ┆ str       ┆ str       ┆   ┆ ext…      ┆ ---       ┆ str       ┆ ---      │\n",
       "│           ┆ str       ┆           ┆           ┆   ┆ ---       ┆ str       ┆           ┆ str      │\n",
       "│           ┆           ┆           ┆           ┆   ┆ str       ┆           ┆           ┆          │\n",
       "╞═══════════╪═══════════╪═══════════╪═══════════╪═══╪═══════════╪═══════════╪═══════════╪══════════╡\n",
       "│ 24/23715- ┆ Sensibili ┆ Sensitiza ┆ Donina    ┆ … ┆ null      ┆ Trabalho  ┆ null      ┆ null     │\n",
       "│ 0         ┆ zação,    ┆ tion,     ┆ Cibelle   ┆   ┆           ┆ de        ┆           ┆          │\n",
       "│           ┆ formação  ┆ training  ┆ de Lemos  ┆   ┆           ┆ educação  ┆           ┆          │\n",
       "│           ┆ e mon…    ┆ and mo…   ┆ Rocha     ┆   ┆           ┆ em        ┆           ┆          │\n",
       "│           ┆           ┆           ┆           ┆   ┆           ┆ direit…   ┆           ┆          │\n",
       "│ 24/18372- ┆ Democraci ┆ Democracy ┆ Yasmin    ┆ … ┆ null      ┆ O projeto ┆ The       ┆ null     │\n",
       "│ 6         ┆ a e       ┆ and affec ┆ Guerreiro ┆   ┆           ┆ tem como  ┆ project   ┆          │\n",
       "│           ┆ afetos:   ┆ tions:    ┆ Soares    ┆   ┆           ┆ objetivo  ┆ aims to   ┆          │\n",
       "│           ┆ construin ┆ buil…     ┆ Freita…   ┆   ┆           ┆ in…       ┆ investiga ┆          │\n",
       "│           ┆ …         ┆           ┆           ┆   ┆           ┆           ┆ t…        ┆          │\n",
       "│ 24/18375- ┆ Influênci ┆ Influence ┆ Isabella  ┆ … ┆ null      ┆ A terapia ┆ Photodyna ┆ null     │\n",
       "│ 5         ┆ a da      ┆ of        ┆ Bastos    ┆   ┆           ┆ fotodinâm ┆ mic       ┆          │\n",
       "│           ┆ melanina  ┆ melanin   ┆ Reis      ┆   ┆           ┆ ica (TFD) ┆ therapy   ┆          │\n",
       "│           ┆ na sens…  ┆ on the    ┆           ┆   ┆           ┆ é…        ┆ (PDT) is  ┆          │\n",
       "│           ┆           ┆ se…       ┆           ┆   ┆           ┆           ┆ …         ┆          │\n",
       "│ 24/18254- ┆ Efeitos   ┆ Effects   ┆ Isadora   ┆ … ┆ null      ┆ O         ┆ The       ┆ null     │\n",
       "│ 3         ┆ do ácido  ┆ of        ┆ Gonçalves ┆   ┆           ┆ processo  ┆ process   ┆          │\n",
       "│           ┆ valproico ┆ valproic  ┆ Almeida   ┆   ┆           ┆ de        ┆ of renal  ┆          │\n",
       "│           ┆ na …      ┆ acid in   ┆           ┆   ┆           ┆ isquemia  ┆ ischemia  ┆          │\n",
       "│           ┆           ┆ th…       ┆           ┆   ┆           ┆ renal s…  ┆ …         ┆          │\n",
       "│ 24/17879- ┆ Treinamen ┆ Training  ┆ Mariana   ┆ … ┆ null      ┆ O projeto ┆ The       ┆ null     │\n",
       "│ 0         ┆ to em man ┆ in manipu ┆ Eberle    ┆   ┆           ┆ de        ┆ undergrad ┆          │\n",
       "│           ┆ ipulação  ┆ lation    ┆ dos       ┆   ┆           ┆ iniciação ┆ project   ┆          │\n",
       "│           ┆ e c…      ┆ and c…    ┆ Santos    ┆   ┆           ┆ científ…  ┆ of the s… ┆          │\n",
       "│ …         ┆ …         ┆ …         ┆ …         ┆ … ┆ …         ┆ …         ┆ …         ┆ …        │\n",
       "│ null      ┆ null      ┆ null      ┆ null      ┆ … ┆ null      ┆ null      ┆ null      ┆ null     │\n",
       "│ >>> Bibli ┆ null      ┆ null      ┆ null      ┆ … ┆ null      ┆ null      ┆ null      ┆ null     │\n",
       "│ oteca     ┆           ┆           ┆           ┆   ┆           ┆           ┆           ┆          │\n",
       "│ Virtual   ┆           ┆           ┆           ┆   ┆           ┆           ┆           ┆          │\n",
       "│ da FAPE…  ┆           ┆           ┆           ┆   ┆           ┆           ┆           ┆          │\n",
       "│ Dados atu ┆ null      ┆ null      ┆ null      ┆ … ┆ null      ┆ null      ┆ null      ┆ null     │\n",
       "│ alizados  ┆           ┆           ┆           ┆   ┆           ┆           ┆           ┆          │\n",
       "│ em:       ┆           ┆           ┆           ┆   ┆           ┆           ┆           ┆          │\n",
       "│ 10/May/2… ┆           ┆           ┆           ┆   ┆           ┆           ┆           ┆          │\n",
       "│ URL: http ┆ null      ┆ null      ┆ null      ┆ … ┆ null      ┆ null      ┆ null      ┆ null     │\n",
       "│ s://bv.fa ┆           ┆           ┆           ┆   ┆           ┆           ┆           ┆          │\n",
       "│ pesp.br/  ┆           ┆           ┆           ┆   ┆           ┆           ┆           ┆          │\n",
       "│ null      ┆ null      ┆ null      ┆ null      ┆ … ┆ null      ┆ null      ┆ null      ┆ null     │\n",
       "└───────────┴───────────┴───────────┴───────────┴───┴───────────┴───────────┴───────────┴──────────┘"
      ]
     },
     "execution_count": 2,
     "metadata": {},
     "output_type": "execute_result"
    }
   ],
   "source": [
    "df"
   ]
  },
  {
   "cell_type": "markdown",
   "id": "44e1d43a",
   "metadata": {},
   "source": [
    "Note que todas as colunas são mostradas, mas nem todas as linhas (você pode scrollar a tabela para a direita).\n",
    "\n",
    "Talvez você perceba que as últimas linhas do dataframe não são realmente dados relevantes. Vamos retirá-los da base de dados na próxima aula.\n",
    "\n",
    "Antes da base de dados em si, há ainda `shape: (155_773, 30)`. O shape de um dataframe corresponde às suas dimensões: neste caso, são 155773 linhas e 30 colunas. Se você quiser acessar essa informação sem ver a planilha inteira, basta rodar `df.shape`:"
   ]
  },
  {
   "cell_type": "code",
   "execution_count": 3,
   "id": "43d3d700",
   "metadata": {},
   "outputs": [
    {
     "data": {
      "text/plain": [
       "(155773, 30)"
      ]
     },
     "execution_count": 3,
     "metadata": {},
     "output_type": "execute_result"
    }
   ],
   "source": [
    "df.shape"
   ]
  },
  {
   "cell_type": "markdown",
   "id": "8a969e14",
   "metadata": {},
   "source": [
    "Outro detalhe importante da visualização acima é a linha logo abaixo dos nomes das colunas. Essa linha identifica o tipo de dados que aquela coluna contém. Todas as colunas estão sendo lidas como texto (string - str). Isso nem sempre é o ideal. No caso das colunas de data, o ideal seria que elas fossem lidas como data mesmo, para permitir mais fácilmente calcular tempo de duração, por exemplo. Vamos trabalhar isso em aulas posteriores.\n",
    "\n",
    "Destaco, por fim, que todas as células vazias são visualizadas como \"null\"."
   ]
  },
  {
   "cell_type": "markdown",
   "id": "17bffa5b",
   "metadata": {},
   "source": [
    "## .head()\n",
    "\n",
    "Uma função comum para fazer essa exploração inicial é a função .head(). Por padrão, ela te mostra as 5 primeiras linhas de um dataframe."
   ]
  },
  {
   "cell_type": "code",
   "execution_count": 4,
   "id": "e43c0141",
   "metadata": {},
   "outputs": [
    {
     "data": {
      "text/html": [
       "<div><style>\n",
       ".dataframe > thead > tr,\n",
       ".dataframe > tbody > tr {\n",
       "  text-align: right;\n",
       "  white-space: pre-wrap;\n",
       "}\n",
       "</style>\n",
       "<small>shape: (5, 30)</small><table border=\"1\" class=\"dataframe\"><thead><tr><th>N. Processo</th><th>Título (Português)</th><th>Título (Inglês)</th><th>Beneficiário</th><th>Instituição</th><th>Cidade Instituição</th><th>Instituição Parceira</th><th>Empresa</th><th>Município</th><th>Pesquisador Responsável</th><th>Pesquisadores Principais</th><th>Pesquisadores Associados</th><th>Supervisor</th><th>Local de Pesquisa</th><th>Pesquisador Visitante</th><th>Instituição do Pesquisador Visitante</th><th>Modalidade de apoio</th><th>Grande Área do Conhecimento</th><th>Área do Conhecimento</th><th>Subárea do Conhecimento</th><th>Assuntos</th><th>Data de Início</th><th>Data de Término</th><th>Acordo(s)/Convênio(s) de Cooperação com a FAPESP</th><th>Instituições no Exterior</th><th>Pais de Origem</th><th>Pesquisador responsável no exterior</th><th>Resumo (Português)</th><th>Resumo (Inglês)</th><th>Processos Vinculados</th></tr><tr><td>str</td><td>str</td><td>str</td><td>str</td><td>str</td><td>str</td><td>str</td><td>str</td><td>str</td><td>str</td><td>str</td><td>str</td><td>str</td><td>str</td><td>str</td><td>str</td><td>str</td><td>str</td><td>str</td><td>str</td><td>str</td><td>str</td><td>str</td><td>str</td><td>str</td><td>str</td><td>str</td><td>str</td><td>str</td><td>str</td></tr></thead><tbody><tr><td>&quot;24/23715-0&quot;</td><td>&quot;Sensibilização, formação e mon…</td><td>&quot;Sensitization, training and mo…</td><td>&quot;Donina Cibelle de Lemos Rocha&quot;</td><td>&quot;Universidade de São Paulo (USP…</td><td>&quot;São Paulo&quot;</td><td>null</td><td>null</td><td>null</td><td>&quot;Vitor Souza Lima Blotta&quot;</td><td>null</td><td>null</td><td>null</td><td>null</td><td>null</td><td>null</td><td>&quot;Bolsas no Brasil - Programa Ca…</td><td>&quot;Ciências Humanas&quot;</td><td>&quot;Educação&quot;</td><td>&quot;Tópicos Específicos de Educaçã…</td><td>&quot;Educomunicação&quot;</td><td>&quot;2025-04-01&quot;</td><td>&quot;2025-04-30&quot;</td><td>null</td><td>null</td><td>null</td><td>null</td><td>&quot;Trabalho de educação em direit…</td><td>null</td><td>null</td></tr><tr><td>&quot;24/18372-6&quot;</td><td>&quot;Democracia e afetos: construin…</td><td>&quot;Democracy and affections: buil…</td><td>&quot;Yasmin Guerreiro Soares Freita…</td><td>&quot;Universidade de São Paulo (USP…</td><td>&quot;São Paulo&quot;</td><td>null</td><td>null</td><td>null</td><td>&quot;Renato Janine Ribeiro&quot;</td><td>null</td><td>null</td><td>null</td><td>null</td><td>null</td><td>null</td><td>&quot;Bolsas no Brasil - Programa Es…</td><td>&quot;Ciências Humanas&quot;</td><td>&quot;Filosofia&quot;</td><td>null</td><td>&quot;Direito:Democracia:Relações de…</td><td>&quot;2025-03-01&quot;</td><td>&quot;2025-04-06&quot;</td><td>null</td><td>null</td><td>null</td><td>null</td><td>&quot;O projeto tem como objetivo in…</td><td>&quot;The project aims to investigat…</td><td>null</td></tr><tr><td>&quot;24/18375-5&quot;</td><td>&quot;Influência da melanina na sens…</td><td>&quot;Influence of melanin on the se…</td><td>&quot;Isabella Bastos Reis&quot;</td><td>&quot;Universidade de São Paulo (USP…</td><td>&quot;São Carlos&quot;</td><td>null</td><td>null</td><td>null</td><td>&quot;Vanderlei Salvador Bagnato&quot;</td><td>null</td><td>null</td><td>null</td><td>null</td><td>null</td><td>null</td><td>&quot;Bolsas no Brasil - Programa Es…</td><td>&quot;Ciências Biológicas&quot;</td><td>&quot;Biofísica&quot;</td><td>&quot;Biofísica Celular&quot;</td><td>&quot;Células tumorais:Melaninas:Fen…</td><td>&quot;2025-02-24&quot;</td><td>&quot;2025-04-12&quot;</td><td>null</td><td>null</td><td>null</td><td>null</td><td>&quot;A terapia fotodinâmica (TFD) é…</td><td>&quot;Photodynamic therapy (PDT) is …</td><td>null</td></tr><tr><td>&quot;24/18254-3&quot;</td><td>&quot;Efeitos do ácido valproico na …</td><td>&quot;Effects of valproic acid in th…</td><td>&quot;Isadora Gonçalves Almeida&quot;</td><td>&quot;Universidade Federal do Rio de…</td><td>&quot;Rio de Janeiro&quot;</td><td>null</td><td>null</td><td>null</td><td>&quot;Adalberto Ramon Vieyra&quot;</td><td>null</td><td>null</td><td>null</td><td>null</td><td>null</td><td>null</td><td>&quot;Bolsas no Brasil - Programa Es…</td><td>&quot;Ciências Biológicas&quot;</td><td>&quot;Fisiologia&quot;</td><td>&quot;Fisiologia de Órgãos e Sistema…</td><td>&quot;Ácido valproico:Histona desace…</td><td>&quot;2025-02-17&quot;</td><td>&quot;2025-04-04&quot;</td><td>null</td><td>null</td><td>null</td><td>null</td><td>&quot;O processo de isquemia renal s…</td><td>&quot;The process of renal ischemia …</td><td>null</td></tr><tr><td>&quot;24/17879-0&quot;</td><td>&quot;Treinamento em manipulação e c…</td><td>&quot;Training in manipulation and c…</td><td>&quot;Mariana Eberle dos Santos&quot;</td><td>&quot;FIOCRUZ PARANA INSTITUTO CARLO…</td><td>null</td><td>null</td><td>null</td><td>null</td><td>&quot;Marcio Lourenço Rodrigues&quot;</td><td>null</td><td>null</td><td>null</td><td>null</td><td>null</td><td>null</td><td>&quot;Bolsas no Brasil - Programa Es…</td><td>&quot;Ciências Biológicas&quot;</td><td>&quot;Microbiologia&quot;</td><td>&quot;Biologia e Fisiologia dos Micr…</td><td>&quot;Micologia:Cryptococcus:Parede …</td><td>&quot;2025-02-17&quot;</td><td>&quot;2025-04-05&quot;</td><td>null</td><td>null</td><td>null</td><td>null</td><td>&quot;O projeto de iniciação científ…</td><td>&quot;The undergrad project of the s…</td><td>null</td></tr></tbody></table></div>"
      ],
      "text/plain": [
       "shape: (5, 30)\n",
       "┌───────────┬───────────┬───────────┬───────────┬───┬───────────┬───────────┬───────────┬──────────┐\n",
       "│ N.        ┆ Título    ┆ Título    ┆ Beneficiá ┆ … ┆ Pesquisad ┆ Resumo    ┆ Resumo    ┆ Processo │\n",
       "│ Processo  ┆ (Portuguê ┆ (Inglês)  ┆ rio       ┆   ┆ or respon ┆ (Portuguê ┆ (Inglês)  ┆ s Vincul │\n",
       "│ ---       ┆ s)        ┆ ---       ┆ ---       ┆   ┆ sável no  ┆ s)        ┆ ---       ┆ ados     │\n",
       "│ str       ┆ ---       ┆ str       ┆ str       ┆   ┆ ext…      ┆ ---       ┆ str       ┆ ---      │\n",
       "│           ┆ str       ┆           ┆           ┆   ┆ ---       ┆ str       ┆           ┆ str      │\n",
       "│           ┆           ┆           ┆           ┆   ┆ str       ┆           ┆           ┆          │\n",
       "╞═══════════╪═══════════╪═══════════╪═══════════╪═══╪═══════════╪═══════════╪═══════════╪══════════╡\n",
       "│ 24/23715- ┆ Sensibili ┆ Sensitiza ┆ Donina    ┆ … ┆ null      ┆ Trabalho  ┆ null      ┆ null     │\n",
       "│ 0         ┆ zação,    ┆ tion,     ┆ Cibelle   ┆   ┆           ┆ de        ┆           ┆          │\n",
       "│           ┆ formação  ┆ training  ┆ de Lemos  ┆   ┆           ┆ educação  ┆           ┆          │\n",
       "│           ┆ e mon…    ┆ and mo…   ┆ Rocha     ┆   ┆           ┆ em        ┆           ┆          │\n",
       "│           ┆           ┆           ┆           ┆   ┆           ┆ direit…   ┆           ┆          │\n",
       "│ 24/18372- ┆ Democraci ┆ Democracy ┆ Yasmin    ┆ … ┆ null      ┆ O projeto ┆ The       ┆ null     │\n",
       "│ 6         ┆ a e       ┆ and affec ┆ Guerreiro ┆   ┆           ┆ tem como  ┆ project   ┆          │\n",
       "│           ┆ afetos:   ┆ tions:    ┆ Soares    ┆   ┆           ┆ objetivo  ┆ aims to   ┆          │\n",
       "│           ┆ construin ┆ buil…     ┆ Freita…   ┆   ┆           ┆ in…       ┆ investiga ┆          │\n",
       "│           ┆ …         ┆           ┆           ┆   ┆           ┆           ┆ t…        ┆          │\n",
       "│ 24/18375- ┆ Influênci ┆ Influence ┆ Isabella  ┆ … ┆ null      ┆ A terapia ┆ Photodyna ┆ null     │\n",
       "│ 5         ┆ a da      ┆ of        ┆ Bastos    ┆   ┆           ┆ fotodinâm ┆ mic       ┆          │\n",
       "│           ┆ melanina  ┆ melanin   ┆ Reis      ┆   ┆           ┆ ica (TFD) ┆ therapy   ┆          │\n",
       "│           ┆ na sens…  ┆ on the    ┆           ┆   ┆           ┆ é…        ┆ (PDT) is  ┆          │\n",
       "│           ┆           ┆ se…       ┆           ┆   ┆           ┆           ┆ …         ┆          │\n",
       "│ 24/18254- ┆ Efeitos   ┆ Effects   ┆ Isadora   ┆ … ┆ null      ┆ O         ┆ The       ┆ null     │\n",
       "│ 3         ┆ do ácido  ┆ of        ┆ Gonçalves ┆   ┆           ┆ processo  ┆ process   ┆          │\n",
       "│           ┆ valproico ┆ valproic  ┆ Almeida   ┆   ┆           ┆ de        ┆ of renal  ┆          │\n",
       "│           ┆ na …      ┆ acid in   ┆           ┆   ┆           ┆ isquemia  ┆ ischemia  ┆          │\n",
       "│           ┆           ┆ th…       ┆           ┆   ┆           ┆ renal s…  ┆ …         ┆          │\n",
       "│ 24/17879- ┆ Treinamen ┆ Training  ┆ Mariana   ┆ … ┆ null      ┆ O projeto ┆ The       ┆ null     │\n",
       "│ 0         ┆ to em man ┆ in manipu ┆ Eberle    ┆   ┆           ┆ de        ┆ undergrad ┆          │\n",
       "│           ┆ ipulação  ┆ lation    ┆ dos       ┆   ┆           ┆ iniciação ┆ project   ┆          │\n",
       "│           ┆ e c…      ┆ and c…    ┆ Santos    ┆   ┆           ┆ científ…  ┆ of the s… ┆          │\n",
       "└───────────┴───────────┴───────────┴───────────┴───┴───────────┴───────────┴───────────┴──────────┘"
      ]
     },
     "execution_count": 4,
     "metadata": {},
     "output_type": "execute_result"
    }
   ],
   "source": [
    "df.head()"
   ]
  },
  {
   "cell_type": "markdown",
   "id": "72e4ad10",
   "metadata": {},
   "source": [
    "Você pode passar outros números como parâmetro, para definir quantas linhas serão mostradas:"
   ]
  },
  {
   "cell_type": "code",
   "execution_count": 5,
   "id": "be830590",
   "metadata": {},
   "outputs": [
    {
     "data": {
      "text/html": [
       "<div><style>\n",
       ".dataframe > thead > tr,\n",
       ".dataframe > tbody > tr {\n",
       "  text-align: right;\n",
       "  white-space: pre-wrap;\n",
       "}\n",
       "</style>\n",
       "<small>shape: (2, 30)</small><table border=\"1\" class=\"dataframe\"><thead><tr><th>N. Processo</th><th>Título (Português)</th><th>Título (Inglês)</th><th>Beneficiário</th><th>Instituição</th><th>Cidade Instituição</th><th>Instituição Parceira</th><th>Empresa</th><th>Município</th><th>Pesquisador Responsável</th><th>Pesquisadores Principais</th><th>Pesquisadores Associados</th><th>Supervisor</th><th>Local de Pesquisa</th><th>Pesquisador Visitante</th><th>Instituição do Pesquisador Visitante</th><th>Modalidade de apoio</th><th>Grande Área do Conhecimento</th><th>Área do Conhecimento</th><th>Subárea do Conhecimento</th><th>Assuntos</th><th>Data de Início</th><th>Data de Término</th><th>Acordo(s)/Convênio(s) de Cooperação com a FAPESP</th><th>Instituições no Exterior</th><th>Pais de Origem</th><th>Pesquisador responsável no exterior</th><th>Resumo (Português)</th><th>Resumo (Inglês)</th><th>Processos Vinculados</th></tr><tr><td>str</td><td>str</td><td>str</td><td>str</td><td>str</td><td>str</td><td>str</td><td>str</td><td>str</td><td>str</td><td>str</td><td>str</td><td>str</td><td>str</td><td>str</td><td>str</td><td>str</td><td>str</td><td>str</td><td>str</td><td>str</td><td>str</td><td>str</td><td>str</td><td>str</td><td>str</td><td>str</td><td>str</td><td>str</td><td>str</td></tr></thead><tbody><tr><td>&quot;24/23715-0&quot;</td><td>&quot;Sensibilização, formação e mon…</td><td>&quot;Sensitization, training and mo…</td><td>&quot;Donina Cibelle de Lemos Rocha&quot;</td><td>&quot;Universidade de São Paulo (USP…</td><td>&quot;São Paulo&quot;</td><td>null</td><td>null</td><td>null</td><td>&quot;Vitor Souza Lima Blotta&quot;</td><td>null</td><td>null</td><td>null</td><td>null</td><td>null</td><td>null</td><td>&quot;Bolsas no Brasil - Programa Ca…</td><td>&quot;Ciências Humanas&quot;</td><td>&quot;Educação&quot;</td><td>&quot;Tópicos Específicos de Educaçã…</td><td>&quot;Educomunicação&quot;</td><td>&quot;2025-04-01&quot;</td><td>&quot;2025-04-30&quot;</td><td>null</td><td>null</td><td>null</td><td>null</td><td>&quot;Trabalho de educação em direit…</td><td>null</td><td>null</td></tr><tr><td>&quot;24/18372-6&quot;</td><td>&quot;Democracia e afetos: construin…</td><td>&quot;Democracy and affections: buil…</td><td>&quot;Yasmin Guerreiro Soares Freita…</td><td>&quot;Universidade de São Paulo (USP…</td><td>&quot;São Paulo&quot;</td><td>null</td><td>null</td><td>null</td><td>&quot;Renato Janine Ribeiro&quot;</td><td>null</td><td>null</td><td>null</td><td>null</td><td>null</td><td>null</td><td>&quot;Bolsas no Brasil - Programa Es…</td><td>&quot;Ciências Humanas&quot;</td><td>&quot;Filosofia&quot;</td><td>null</td><td>&quot;Direito:Democracia:Relações de…</td><td>&quot;2025-03-01&quot;</td><td>&quot;2025-04-06&quot;</td><td>null</td><td>null</td><td>null</td><td>null</td><td>&quot;O projeto tem como objetivo in…</td><td>&quot;The project aims to investigat…</td><td>null</td></tr></tbody></table></div>"
      ],
      "text/plain": [
       "shape: (2, 30)\n",
       "┌───────────┬───────────┬───────────┬───────────┬───┬───────────┬───────────┬───────────┬──────────┐\n",
       "│ N.        ┆ Título    ┆ Título    ┆ Beneficiá ┆ … ┆ Pesquisad ┆ Resumo    ┆ Resumo    ┆ Processo │\n",
       "│ Processo  ┆ (Portuguê ┆ (Inglês)  ┆ rio       ┆   ┆ or respon ┆ (Portuguê ┆ (Inglês)  ┆ s Vincul │\n",
       "│ ---       ┆ s)        ┆ ---       ┆ ---       ┆   ┆ sável no  ┆ s)        ┆ ---       ┆ ados     │\n",
       "│ str       ┆ ---       ┆ str       ┆ str       ┆   ┆ ext…      ┆ ---       ┆ str       ┆ ---      │\n",
       "│           ┆ str       ┆           ┆           ┆   ┆ ---       ┆ str       ┆           ┆ str      │\n",
       "│           ┆           ┆           ┆           ┆   ┆ str       ┆           ┆           ┆          │\n",
       "╞═══════════╪═══════════╪═══════════╪═══════════╪═══╪═══════════╪═══════════╪═══════════╪══════════╡\n",
       "│ 24/23715- ┆ Sensibili ┆ Sensitiza ┆ Donina    ┆ … ┆ null      ┆ Trabalho  ┆ null      ┆ null     │\n",
       "│ 0         ┆ zação,    ┆ tion,     ┆ Cibelle   ┆   ┆           ┆ de        ┆           ┆          │\n",
       "│           ┆ formação  ┆ training  ┆ de Lemos  ┆   ┆           ┆ educação  ┆           ┆          │\n",
       "│           ┆ e mon…    ┆ and mo…   ┆ Rocha     ┆   ┆           ┆ em        ┆           ┆          │\n",
       "│           ┆           ┆           ┆           ┆   ┆           ┆ direit…   ┆           ┆          │\n",
       "│ 24/18372- ┆ Democraci ┆ Democracy ┆ Yasmin    ┆ … ┆ null      ┆ O projeto ┆ The       ┆ null     │\n",
       "│ 6         ┆ a e       ┆ and affec ┆ Guerreiro ┆   ┆           ┆ tem como  ┆ project   ┆          │\n",
       "│           ┆ afetos:   ┆ tions:    ┆ Soares    ┆   ┆           ┆ objetivo  ┆ aims to   ┆          │\n",
       "│           ┆ construin ┆ buil…     ┆ Freita…   ┆   ┆           ┆ in…       ┆ investiga ┆          │\n",
       "│           ┆ …         ┆           ┆           ┆   ┆           ┆           ┆ t…        ┆          │\n",
       "└───────────┴───────────┴───────────┴───────────┴───┴───────────┴───────────┴───────────┴──────────┘"
      ]
     },
     "execution_count": 5,
     "metadata": {},
     "output_type": "execute_result"
    }
   ],
   "source": [
    "df.head(2)"
   ]
  },
  {
   "cell_type": "code",
   "execution_count": 6,
   "id": "b0fc083b",
   "metadata": {},
   "outputs": [
    {
     "data": {
      "text/html": [
       "<div><style>\n",
       ".dataframe > thead > tr,\n",
       ".dataframe > tbody > tr {\n",
       "  text-align: right;\n",
       "  white-space: pre-wrap;\n",
       "}\n",
       "</style>\n",
       "<small>shape: (20, 30)</small><table border=\"1\" class=\"dataframe\"><thead><tr><th>N. Processo</th><th>Título (Português)</th><th>Título (Inglês)</th><th>Beneficiário</th><th>Instituição</th><th>Cidade Instituição</th><th>Instituição Parceira</th><th>Empresa</th><th>Município</th><th>Pesquisador Responsável</th><th>Pesquisadores Principais</th><th>Pesquisadores Associados</th><th>Supervisor</th><th>Local de Pesquisa</th><th>Pesquisador Visitante</th><th>Instituição do Pesquisador Visitante</th><th>Modalidade de apoio</th><th>Grande Área do Conhecimento</th><th>Área do Conhecimento</th><th>Subárea do Conhecimento</th><th>Assuntos</th><th>Data de Início</th><th>Data de Término</th><th>Acordo(s)/Convênio(s) de Cooperação com a FAPESP</th><th>Instituições no Exterior</th><th>Pais de Origem</th><th>Pesquisador responsável no exterior</th><th>Resumo (Português)</th><th>Resumo (Inglês)</th><th>Processos Vinculados</th></tr><tr><td>str</td><td>str</td><td>str</td><td>str</td><td>str</td><td>str</td><td>str</td><td>str</td><td>str</td><td>str</td><td>str</td><td>str</td><td>str</td><td>str</td><td>str</td><td>str</td><td>str</td><td>str</td><td>str</td><td>str</td><td>str</td><td>str</td><td>str</td><td>str</td><td>str</td><td>str</td><td>str</td><td>str</td><td>str</td><td>str</td></tr></thead><tbody><tr><td>&quot;24/23715-0&quot;</td><td>&quot;Sensibilização, formação e mon…</td><td>&quot;Sensitization, training and mo…</td><td>&quot;Donina Cibelle de Lemos Rocha&quot;</td><td>&quot;Universidade de São Paulo (USP…</td><td>&quot;São Paulo&quot;</td><td>null</td><td>null</td><td>null</td><td>&quot;Vitor Souza Lima Blotta&quot;</td><td>null</td><td>null</td><td>null</td><td>null</td><td>null</td><td>null</td><td>&quot;Bolsas no Brasil - Programa Ca…</td><td>&quot;Ciências Humanas&quot;</td><td>&quot;Educação&quot;</td><td>&quot;Tópicos Específicos de Educaçã…</td><td>&quot;Educomunicação&quot;</td><td>&quot;2025-04-01&quot;</td><td>&quot;2025-04-30&quot;</td><td>null</td><td>null</td><td>null</td><td>null</td><td>&quot;Trabalho de educação em direit…</td><td>null</td><td>null</td></tr><tr><td>&quot;24/18372-6&quot;</td><td>&quot;Democracia e afetos: construin…</td><td>&quot;Democracy and affections: buil…</td><td>&quot;Yasmin Guerreiro Soares Freita…</td><td>&quot;Universidade de São Paulo (USP…</td><td>&quot;São Paulo&quot;</td><td>null</td><td>null</td><td>null</td><td>&quot;Renato Janine Ribeiro&quot;</td><td>null</td><td>null</td><td>null</td><td>null</td><td>null</td><td>null</td><td>&quot;Bolsas no Brasil - Programa Es…</td><td>&quot;Ciências Humanas&quot;</td><td>&quot;Filosofia&quot;</td><td>null</td><td>&quot;Direito:Democracia:Relações de…</td><td>&quot;2025-03-01&quot;</td><td>&quot;2025-04-06&quot;</td><td>null</td><td>null</td><td>null</td><td>null</td><td>&quot;O projeto tem como objetivo in…</td><td>&quot;The project aims to investigat…</td><td>null</td></tr><tr><td>&quot;24/18375-5&quot;</td><td>&quot;Influência da melanina na sens…</td><td>&quot;Influence of melanin on the se…</td><td>&quot;Isabella Bastos Reis&quot;</td><td>&quot;Universidade de São Paulo (USP…</td><td>&quot;São Carlos&quot;</td><td>null</td><td>null</td><td>null</td><td>&quot;Vanderlei Salvador Bagnato&quot;</td><td>null</td><td>null</td><td>null</td><td>null</td><td>null</td><td>null</td><td>&quot;Bolsas no Brasil - Programa Es…</td><td>&quot;Ciências Biológicas&quot;</td><td>&quot;Biofísica&quot;</td><td>&quot;Biofísica Celular&quot;</td><td>&quot;Células tumorais:Melaninas:Fen…</td><td>&quot;2025-02-24&quot;</td><td>&quot;2025-04-12&quot;</td><td>null</td><td>null</td><td>null</td><td>null</td><td>&quot;A terapia fotodinâmica (TFD) é…</td><td>&quot;Photodynamic therapy (PDT) is …</td><td>null</td></tr><tr><td>&quot;24/18254-3&quot;</td><td>&quot;Efeitos do ácido valproico na …</td><td>&quot;Effects of valproic acid in th…</td><td>&quot;Isadora Gonçalves Almeida&quot;</td><td>&quot;Universidade Federal do Rio de…</td><td>&quot;Rio de Janeiro&quot;</td><td>null</td><td>null</td><td>null</td><td>&quot;Adalberto Ramon Vieyra&quot;</td><td>null</td><td>null</td><td>null</td><td>null</td><td>null</td><td>null</td><td>&quot;Bolsas no Brasil - Programa Es…</td><td>&quot;Ciências Biológicas&quot;</td><td>&quot;Fisiologia&quot;</td><td>&quot;Fisiologia de Órgãos e Sistema…</td><td>&quot;Ácido valproico:Histona desace…</td><td>&quot;2025-02-17&quot;</td><td>&quot;2025-04-04&quot;</td><td>null</td><td>null</td><td>null</td><td>null</td><td>&quot;O processo de isquemia renal s…</td><td>&quot;The process of renal ischemia …</td><td>null</td></tr><tr><td>&quot;24/17879-0&quot;</td><td>&quot;Treinamento em manipulação e c…</td><td>&quot;Training in manipulation and c…</td><td>&quot;Mariana Eberle dos Santos&quot;</td><td>&quot;FIOCRUZ PARANA INSTITUTO CARLO…</td><td>null</td><td>null</td><td>null</td><td>null</td><td>&quot;Marcio Lourenço Rodrigues&quot;</td><td>null</td><td>null</td><td>null</td><td>null</td><td>null</td><td>null</td><td>&quot;Bolsas no Brasil - Programa Es…</td><td>&quot;Ciências Biológicas&quot;</td><td>&quot;Microbiologia&quot;</td><td>&quot;Biologia e Fisiologia dos Micr…</td><td>&quot;Micologia:Cryptococcus:Parede …</td><td>&quot;2025-02-17&quot;</td><td>&quot;2025-04-05&quot;</td><td>null</td><td>null</td><td>null</td><td>null</td><td>&quot;O projeto de iniciação científ…</td><td>&quot;The undergrad project of the s…</td><td>null</td></tr><tr><td>&hellip;</td><td>&hellip;</td><td>&hellip;</td><td>&hellip;</td><td>&hellip;</td><td>&hellip;</td><td>&hellip;</td><td>&hellip;</td><td>&hellip;</td><td>&hellip;</td><td>&hellip;</td><td>&hellip;</td><td>&hellip;</td><td>&hellip;</td><td>&hellip;</td><td>&hellip;</td><td>&hellip;</td><td>&hellip;</td><td>&hellip;</td><td>&hellip;</td><td>&hellip;</td><td>&hellip;</td><td>&hellip;</td><td>&hellip;</td><td>&hellip;</td><td>&hellip;</td><td>&hellip;</td><td>&hellip;</td><td>&hellip;</td><td>&hellip;</td></tr><tr><td>&quot;24/18414-0&quot;</td><td>&quot;Desenvolvimento de Tecnologias…</td><td>&quot;Development of Technologies fo…</td><td>&quot;Ana Lima Vieira&quot;</td><td>&quot;Universidade Federal de Santa …</td><td>&quot;Florianópolis&quot;</td><td>null</td><td>null</td><td>null</td><td>&quot;Jaime Andres Lozano Cadena&quot;</td><td>null</td><td>null</td><td>null</td><td>null</td><td>null</td><td>null</td><td>&quot;Bolsas no Brasil - Programa Es…</td><td>&quot;Engenharias&quot;</td><td>&quot;Engenharia Mecânica&quot;</td><td>&quot;Engenharia Térmica&quot;</td><td>&quot;Termodinâmica:Hidrogênio&quot;</td><td>&quot;2025-01-27&quot;</td><td>&quot;2025-03-18&quot;</td><td>null</td><td>null</td><td>null</td><td>null</td><td>&quot;A descarbonização da cadeia en…</td><td>&quot;The decarbonization of the ene…</td><td>null</td></tr><tr><td>&quot;24/18162-1&quot;</td><td>&quot;Nanobiotecnologia e Saúde: Viv…</td><td>&quot;Nanobiotechnology and Health: …</td><td>&quot;Enzo Costa Frediani&quot;</td><td>&quot;Universidade de Brasília (UNB)…</td><td>&quot;Brasília&quot;</td><td>null</td><td>null</td><td>null</td><td>&quot;Sônia Nair Báo&quot;</td><td>null</td><td>null</td><td>null</td><td>null</td><td>null</td><td>null</td><td>&quot;Bolsas no Brasil - Programa Es…</td><td>&quot;Ciências Biológicas&quot;</td><td>&quot;Morfologia&quot;</td><td>&quot;Citologia e Biologia Celular&quot;</td><td>&quot;Nanobiotecnologia:Atenção à sa…</td><td>&quot;2025-01-27&quot;</td><td>&quot;2025-03-13&quot;</td><td>null</td><td>null</td><td>null</td><td>null</td><td>&quot;Os projetos em andamento, no l…</td><td>&quot;The ongoing projects in the la…</td><td>null</td></tr><tr><td>&quot;24/18188-0&quot;</td><td>&quot;Estudos avançados da distribui…</td><td>&quot;Advanced studies of elemental …</td><td>&quot;Bruna Vasconcelos Martins&quot;</td><td>&quot;CENTRO CIENCIAS QUIMICAS FARMA…</td><td>null</td><td>null</td><td>null</td><td>null</td><td>&quot;Ethel Antunes Wilhelm&quot;</td><td>null</td><td>null</td><td>null</td><td>null</td><td>null</td><td>null</td><td>&quot;Bolsas no Brasil - Programa Es…</td><td>&quot;Ciências Biológicas&quot;</td><td>&quot;Bioquímica&quot;</td><td>&quot;Enzimologia&quot;</td><td>&quot;Ansiedade:Depressão:Bioquímica&quot;</td><td>&quot;2025-01-27&quot;</td><td>&quot;2025-03-03&quot;</td><td>null</td><td>null</td><td>null</td><td>null</td><td>&quot;As doenças crônicas relacionad…</td><td>&quot;Chronic cancer-related disease…</td><td>null</td></tr><tr><td>&quot;24/18104-1&quot;</td><td>&quot;Participação em trabalho de pe…</td><td>&quot;Participation in research work…</td><td>&quot;Elaine Ferreira dos Santos Fer…</td><td>&quot;Universidade de São Paulo (USP…</td><td>&quot;São Carlos&quot;</td><td>null</td><td>null</td><td>null</td><td>&quot;Yvonne Primerano Mascarenhas&quot;</td><td>null</td><td>null</td><td>null</td><td>null</td><td>null</td><td>null</td><td>&quot;Bolsas no Brasil - Programa Es…</td><td>&quot;Ciências Exatas e da Terra&quot;</td><td>&quot;Química&quot;</td><td>&quot;Química Inorgânica&quot;</td><td>&quot;Cristalografia:Difração por ra…</td><td>&quot;2025-01-27&quot;</td><td>&quot;2025-03-18&quot;</td><td>null</td><td>null</td><td>null</td><td>null</td><td>&quot;O presente plano de atividades…</td><td>&quot;The objective of this activity…</td><td>null</td></tr><tr><td>&quot;24/18307-0&quot;</td><td>&quot;Taxonomia de Polycentropodidae…</td><td>&quot;Polycentropodidae (Insecta: Tr…</td><td>&quot;Marcelo Bovi Munhoz&quot;</td><td>&quot;Ministério da Ciência, Tecnolo…</td><td>&quot;Manaus&quot;</td><td>null</td><td>null</td><td>null</td><td>&quot;Neusa Hamada&quot;</td><td>null</td><td>null</td><td>null</td><td>null</td><td>null</td><td>null</td><td>&quot;Bolsas no Brasil - Programa Es…</td><td>&quot;Ciências Biológicas&quot;</td><td>&quot;Zoologia&quot;</td><td>&quot;Taxonomia dos Grupos Recentes&quot;</td><td>&quot;Inventário:Morfologia&quot;</td><td>&quot;2025-01-27&quot;</td><td>&quot;2025-03-10&quot;</td><td>null</td><td>null</td><td>null</td><td>null</td><td>&quot;Para executar o projeto o bols…</td><td>&quot;The scholarship holder will ca…</td><td>null</td></tr></tbody></table></div>"
      ],
      "text/plain": [
       "shape: (20, 30)\n",
       "┌───────────┬───────────┬───────────┬───────────┬───┬───────────┬───────────┬───────────┬──────────┐\n",
       "│ N.        ┆ Título    ┆ Título    ┆ Beneficiá ┆ … ┆ Pesquisad ┆ Resumo    ┆ Resumo    ┆ Processo │\n",
       "│ Processo  ┆ (Portuguê ┆ (Inglês)  ┆ rio       ┆   ┆ or respon ┆ (Portuguê ┆ (Inglês)  ┆ s Vincul │\n",
       "│ ---       ┆ s)        ┆ ---       ┆ ---       ┆   ┆ sável no  ┆ s)        ┆ ---       ┆ ados     │\n",
       "│ str       ┆ ---       ┆ str       ┆ str       ┆   ┆ ext…      ┆ ---       ┆ str       ┆ ---      │\n",
       "│           ┆ str       ┆           ┆           ┆   ┆ ---       ┆ str       ┆           ┆ str      │\n",
       "│           ┆           ┆           ┆           ┆   ┆ str       ┆           ┆           ┆          │\n",
       "╞═══════════╪═══════════╪═══════════╪═══════════╪═══╪═══════════╪═══════════╪═══════════╪══════════╡\n",
       "│ 24/23715- ┆ Sensibili ┆ Sensitiza ┆ Donina    ┆ … ┆ null      ┆ Trabalho  ┆ null      ┆ null     │\n",
       "│ 0         ┆ zação,    ┆ tion,     ┆ Cibelle   ┆   ┆           ┆ de        ┆           ┆          │\n",
       "│           ┆ formação  ┆ training  ┆ de Lemos  ┆   ┆           ┆ educação  ┆           ┆          │\n",
       "│           ┆ e mon…    ┆ and mo…   ┆ Rocha     ┆   ┆           ┆ em        ┆           ┆          │\n",
       "│           ┆           ┆           ┆           ┆   ┆           ┆ direit…   ┆           ┆          │\n",
       "│ 24/18372- ┆ Democraci ┆ Democracy ┆ Yasmin    ┆ … ┆ null      ┆ O projeto ┆ The       ┆ null     │\n",
       "│ 6         ┆ a e       ┆ and affec ┆ Guerreiro ┆   ┆           ┆ tem como  ┆ project   ┆          │\n",
       "│           ┆ afetos:   ┆ tions:    ┆ Soares    ┆   ┆           ┆ objetivo  ┆ aims to   ┆          │\n",
       "│           ┆ construin ┆ buil…     ┆ Freita…   ┆   ┆           ┆ in…       ┆ investiga ┆          │\n",
       "│           ┆ …         ┆           ┆           ┆   ┆           ┆           ┆ t…        ┆          │\n",
       "│ 24/18375- ┆ Influênci ┆ Influence ┆ Isabella  ┆ … ┆ null      ┆ A terapia ┆ Photodyna ┆ null     │\n",
       "│ 5         ┆ a da      ┆ of        ┆ Bastos    ┆   ┆           ┆ fotodinâm ┆ mic       ┆          │\n",
       "│           ┆ melanina  ┆ melanin   ┆ Reis      ┆   ┆           ┆ ica (TFD) ┆ therapy   ┆          │\n",
       "│           ┆ na sens…  ┆ on the    ┆           ┆   ┆           ┆ é…        ┆ (PDT) is  ┆          │\n",
       "│           ┆           ┆ se…       ┆           ┆   ┆           ┆           ┆ …         ┆          │\n",
       "│ 24/18254- ┆ Efeitos   ┆ Effects   ┆ Isadora   ┆ … ┆ null      ┆ O         ┆ The       ┆ null     │\n",
       "│ 3         ┆ do ácido  ┆ of        ┆ Gonçalves ┆   ┆           ┆ processo  ┆ process   ┆          │\n",
       "│           ┆ valproico ┆ valproic  ┆ Almeida   ┆   ┆           ┆ de        ┆ of renal  ┆          │\n",
       "│           ┆ na …      ┆ acid in   ┆           ┆   ┆           ┆ isquemia  ┆ ischemia  ┆          │\n",
       "│           ┆           ┆ th…       ┆           ┆   ┆           ┆ renal s…  ┆ …         ┆          │\n",
       "│ 24/17879- ┆ Treinamen ┆ Training  ┆ Mariana   ┆ … ┆ null      ┆ O projeto ┆ The       ┆ null     │\n",
       "│ 0         ┆ to em man ┆ in manipu ┆ Eberle    ┆   ┆           ┆ de        ┆ undergrad ┆          │\n",
       "│           ┆ ipulação  ┆ lation    ┆ dos       ┆   ┆           ┆ iniciação ┆ project   ┆          │\n",
       "│           ┆ e c…      ┆ and c…    ┆ Santos    ┆   ┆           ┆ científ…  ┆ of the s… ┆          │\n",
       "│ …         ┆ …         ┆ …         ┆ …         ┆ … ┆ …         ┆ …         ┆ …         ┆ …        │\n",
       "│ 24/18414- ┆ Desenvolv ┆ Developme ┆ Ana Lima  ┆ … ┆ null      ┆ A descarb ┆ The decar ┆ null     │\n",
       "│ 0         ┆ imento de ┆ nt of Tec ┆ Vieira    ┆   ┆           ┆ onização  ┆ bonizatio ┆          │\n",
       "│           ┆ Tecnologi ┆ hnologies ┆           ┆   ┆           ┆ da cadeia ┆ n of the  ┆          │\n",
       "│           ┆ as…       ┆ fo…       ┆           ┆   ┆           ┆ en…       ┆ ene…      ┆          │\n",
       "│ 24/18162- ┆ Nanobiote ┆ Nanobiote ┆ Enzo      ┆ … ┆ null      ┆ Os        ┆ The       ┆ null     │\n",
       "│ 1         ┆ cnologia  ┆ chnology  ┆ Costa     ┆   ┆           ┆ projetos  ┆ ongoing   ┆          │\n",
       "│           ┆ e Saúde:  ┆ and       ┆ Frediani  ┆   ┆           ┆ em andame ┆ projects  ┆          │\n",
       "│           ┆ Viv…      ┆ Health: … ┆           ┆   ┆           ┆ nto, no   ┆ in the    ┆          │\n",
       "│           ┆           ┆           ┆           ┆   ┆           ┆ l…        ┆ la…       ┆          │\n",
       "│ 24/18188- ┆ Estudos   ┆ Advanced  ┆ Bruna Vas ┆ … ┆ null      ┆ As        ┆ Chronic   ┆ null     │\n",
       "│ 0         ┆ avançados ┆ studies   ┆ concelos  ┆   ┆           ┆ doenças   ┆ cancer-re ┆          │\n",
       "│           ┆ da distri ┆ of        ┆ Martins   ┆   ┆           ┆ crônicas  ┆ lated     ┆          │\n",
       "│           ┆ bui…      ┆ elemental ┆           ┆   ┆           ┆ relaciona ┆ disease…  ┆          │\n",
       "│           ┆           ┆ …         ┆           ┆   ┆           ┆ d…        ┆           ┆          │\n",
       "│ 24/18104- ┆ Participa ┆ Participa ┆ Elaine    ┆ … ┆ null      ┆ O         ┆ The       ┆ null     │\n",
       "│ 1         ┆ ção em    ┆ tion in   ┆ Ferreira  ┆   ┆           ┆ presente  ┆ objective ┆          │\n",
       "│           ┆ trabalho  ┆ research  ┆ dos       ┆   ┆           ┆ plano de  ┆ of this   ┆          │\n",
       "│           ┆ de pe…    ┆ work…     ┆ Santos    ┆   ┆           ┆ atividade ┆ activity… ┆          │\n",
       "│           ┆           ┆           ┆ Fer…      ┆   ┆           ┆ s…        ┆           ┆          │\n",
       "│ 24/18307- ┆ Taxonomia ┆ Polycentr ┆ Marcelo   ┆ … ┆ null      ┆ Para      ┆ The schol ┆ null     │\n",
       "│ 0         ┆ de Polyce ┆ opodidae  ┆ Bovi      ┆   ┆           ┆ executar  ┆ arship    ┆          │\n",
       "│           ┆ ntropodid ┆ (Insecta: ┆ Munhoz    ┆   ┆           ┆ o projeto ┆ holder    ┆          │\n",
       "│           ┆ ae…       ┆ Tr…       ┆           ┆   ┆           ┆ o bols…   ┆ will ca…  ┆          │\n",
       "└───────────┴───────────┴───────────┴───────────┴───┴───────────┴───────────┴───────────┴──────────┘"
      ]
     },
     "execution_count": 6,
     "metadata": {},
     "output_type": "execute_result"
    }
   ],
   "source": [
    "df.head(20)"
   ]
  },
  {
   "cell_type": "markdown",
   "id": "d5432c4d",
   "metadata": {},
   "source": [
    "Como ao ver a planilha completa, o .head() pode não impedir que nem todas as linhas sejam mostradas. Para isso, podemos utilizar algumas opções avançadas que não convém apresentar aqui."
   ]
  },
  {
   "cell_type": "markdown",
   "id": "0fed1cd1",
   "metadata": {},
   "source": [
    "## .tail()\n",
    "\n",
    "O contrário de .head(): mostra as últimas linhas."
   ]
  },
  {
   "cell_type": "code",
   "execution_count": 7,
   "id": "1d34af2c",
   "metadata": {},
   "outputs": [
    {
     "data": {
      "text/html": [
       "<div><style>\n",
       ".dataframe > thead > tr,\n",
       ".dataframe > tbody > tr {\n",
       "  text-align: right;\n",
       "  white-space: pre-wrap;\n",
       "}\n",
       "</style>\n",
       "<small>shape: (10, 30)</small><table border=\"1\" class=\"dataframe\"><thead><tr><th>N. Processo</th><th>Título (Português)</th><th>Título (Inglês)</th><th>Beneficiário</th><th>Instituição</th><th>Cidade Instituição</th><th>Instituição Parceira</th><th>Empresa</th><th>Município</th><th>Pesquisador Responsável</th><th>Pesquisadores Principais</th><th>Pesquisadores Associados</th><th>Supervisor</th><th>Local de Pesquisa</th><th>Pesquisador Visitante</th><th>Instituição do Pesquisador Visitante</th><th>Modalidade de apoio</th><th>Grande Área do Conhecimento</th><th>Área do Conhecimento</th><th>Subárea do Conhecimento</th><th>Assuntos</th><th>Data de Início</th><th>Data de Término</th><th>Acordo(s)/Convênio(s) de Cooperação com a FAPESP</th><th>Instituições no Exterior</th><th>Pais de Origem</th><th>Pesquisador responsável no exterior</th><th>Resumo (Português)</th><th>Resumo (Inglês)</th><th>Processos Vinculados</th></tr><tr><td>str</td><td>str</td><td>str</td><td>str</td><td>str</td><td>str</td><td>str</td><td>str</td><td>str</td><td>str</td><td>str</td><td>str</td><td>str</td><td>str</td><td>str</td><td>str</td><td>str</td><td>str</td><td>str</td><td>str</td><td>str</td><td>str</td><td>str</td><td>str</td><td>str</td><td>str</td><td>str</td><td>str</td><td>str</td><td>str</td></tr></thead><tbody><tr><td>&quot;92/00360-9&quot;</td><td>&quot;Ácaros hematófagos em aviários…</td><td>null</td><td>&quot;Andrea Godoy Vicente&quot;</td><td>&quot;Secretaria de Agricultura e Ab…</td><td>&quot;São Paulo&quot;</td><td>null</td><td>null</td><td>null</td><td>&quot;José Henrique Guimarães&quot;</td><td>null</td><td>null</td><td>null</td><td>null</td><td>null</td><td>null</td><td>&quot;Bolsas no Brasil - Iniciação C…</td><td>&quot;Ciências Biológicas&quot;</td><td>&quot;Zoologia&quot;</td><td>null</td><td>&quot;Ácaros:Aviários&quot;</td><td>&quot;1992-03-01&quot;</td><td>&quot;1992-12-31&quot;</td><td>null</td><td>null</td><td>null</td><td>null</td><td>null</td><td>null</td><td>null</td></tr><tr><td>&quot;92/00346-6&quot;</td><td>&quot;Levantamento do estado nutrici…</td><td>null</td><td>&quot;Marsia Antonieta de Souza Guil…</td><td>&quot;Secretaria de Agricultura e Ab…</td><td>&quot;Campinas&quot;</td><td>null</td><td>null</td><td>null</td><td>&quot;Maurilo Monteiro Terra&quot;</td><td>null</td><td>null</td><td>null</td><td>null</td><td>null</td><td>null</td><td>&quot;Bolsas no Brasil - Mestrado&quot;</td><td>&quot;Ciências Agrárias&quot;</td><td>&quot;Agronomia&quot;</td><td>&quot;Fitotecnia&quot;</td><td>&quot;Videiras:Nutrição de plantas:N…</td><td>&quot;1992-03-01&quot;</td><td>&quot;1994-02-28&quot;</td><td>null</td><td>null</td><td>null</td><td>null</td><td>&quot;Está sendo realizado um levant…</td><td>null</td><td>null</td></tr><tr><td>&quot;92/00384-5&quot;</td><td>&quot;Levantamento do estado nutrici…</td><td>null</td><td>&quot;Ivan Ferdinando Gergoletti&quot;</td><td>&quot;Secretaria de Agricultura e Ab…</td><td>&quot;Campinas&quot;</td><td>null</td><td>null</td><td>null</td><td>&quot;Maurilo Monteiro Terra&quot;</td><td>null</td><td>null</td><td>null</td><td>null</td><td>null</td><td>null</td><td>&quot;Bolsas no Brasil - Mestrado&quot;</td><td>&quot;Ciências Agrárias&quot;</td><td>&quot;Agronomia&quot;</td><td>&quot;Fitotecnia&quot;</td><td>&quot;Videiras:Nutrição vegetal&quot;</td><td>&quot;1992-03-01&quot;</td><td>&quot;1993-12-31&quot;</td><td>null</td><td>null</td><td>null</td><td>null</td><td>&quot;Está sendo realizado um levant…</td><td>null</td><td>null</td></tr><tr><td>&quot;92/00222-5&quot;</td><td>&quot;Isolamento de revertentes norm…</td><td>null</td><td>&quot;Katia Maria da Rocha&quot;</td><td>&quot;Universidade de São Paulo (USP…</td><td>&quot;São Paulo&quot;</td><td>null</td><td>null</td><td>null</td><td>&quot;Hugo Aguirre Armelin&quot;</td><td>null</td><td>null</td><td>null</td><td>null</td><td>null</td><td>null</td><td>&quot;Bolsas no Brasil - Doutorado&quot;</td><td>&quot;Ciências Biológicas&quot;</td><td>&quot;Morfologia&quot;</td><td>null</td><td>&quot;Fator de transcrição AP-1:Tran…</td><td>&quot;1992-02-01&quot;</td><td>&quot;1994-08-31&quot;</td><td>null</td><td>null</td><td>null</td><td>null</td><td>&quot;O projeto atual visa analisar …</td><td>null</td><td>null</td></tr><tr><td>null</td><td>null</td><td>null</td><td>null</td><td>null</td><td>null</td><td>null</td><td>null</td><td>null</td><td>null</td><td>null</td><td>null</td><td>null</td><td>null</td><td>null</td><td>null</td><td>null</td><td>null</td><td>null</td><td>null</td><td>null</td><td>null</td><td>null</td><td>null</td><td>null</td><td>null</td><td>null</td><td>null</td><td>null</td><td>null</td></tr><tr><td>null</td><td>null</td><td>null</td><td>null</td><td>null</td><td>null</td><td>null</td><td>null</td><td>null</td><td>null</td><td>null</td><td>null</td><td>null</td><td>null</td><td>null</td><td>null</td><td>null</td><td>null</td><td>null</td><td>null</td><td>null</td><td>null</td><td>null</td><td>null</td><td>null</td><td>null</td><td>null</td><td>null</td><td>null</td><td>null</td></tr><tr><td>&quot;&gt;&gt;&gt; Biblioteca Virtual da FAPE…</td><td>null</td><td>null</td><td>null</td><td>null</td><td>null</td><td>null</td><td>null</td><td>null</td><td>null</td><td>null</td><td>null</td><td>null</td><td>null</td><td>null</td><td>null</td><td>null</td><td>null</td><td>null</td><td>null</td><td>null</td><td>null</td><td>null</td><td>null</td><td>null</td><td>null</td><td>null</td><td>null</td><td>null</td><td>null</td></tr><tr><td>&quot;Dados atualizados em: 10/May/2…</td><td>null</td><td>null</td><td>null</td><td>null</td><td>null</td><td>null</td><td>null</td><td>null</td><td>null</td><td>null</td><td>null</td><td>null</td><td>null</td><td>null</td><td>null</td><td>null</td><td>null</td><td>null</td><td>null</td><td>null</td><td>null</td><td>null</td><td>null</td><td>null</td><td>null</td><td>null</td><td>null</td><td>null</td><td>null</td></tr><tr><td>&quot;URL: https://bv.fapesp.br/&quot;</td><td>null</td><td>null</td><td>null</td><td>null</td><td>null</td><td>null</td><td>null</td><td>null</td><td>null</td><td>null</td><td>null</td><td>null</td><td>null</td><td>null</td><td>null</td><td>null</td><td>null</td><td>null</td><td>null</td><td>null</td><td>null</td><td>null</td><td>null</td><td>null</td><td>null</td><td>null</td><td>null</td><td>null</td><td>null</td></tr><tr><td>null</td><td>null</td><td>null</td><td>null</td><td>null</td><td>null</td><td>null</td><td>null</td><td>null</td><td>null</td><td>null</td><td>null</td><td>null</td><td>null</td><td>null</td><td>null</td><td>null</td><td>null</td><td>null</td><td>null</td><td>null</td><td>null</td><td>null</td><td>null</td><td>null</td><td>null</td><td>null</td><td>null</td><td>null</td><td>null</td></tr></tbody></table></div>"
      ],
      "text/plain": [
       "shape: (10, 30)\n",
       "┌───────────┬───────────┬───────────┬───────────┬───┬───────────┬───────────┬───────────┬──────────┐\n",
       "│ N.        ┆ Título    ┆ Título    ┆ Beneficiá ┆ … ┆ Pesquisad ┆ Resumo    ┆ Resumo    ┆ Processo │\n",
       "│ Processo  ┆ (Portuguê ┆ (Inglês)  ┆ rio       ┆   ┆ or respon ┆ (Portuguê ┆ (Inglês)  ┆ s Vincul │\n",
       "│ ---       ┆ s)        ┆ ---       ┆ ---       ┆   ┆ sável no  ┆ s)        ┆ ---       ┆ ados     │\n",
       "│ str       ┆ ---       ┆ str       ┆ str       ┆   ┆ ext…      ┆ ---       ┆ str       ┆ ---      │\n",
       "│           ┆ str       ┆           ┆           ┆   ┆ ---       ┆ str       ┆           ┆ str      │\n",
       "│           ┆           ┆           ┆           ┆   ┆ str       ┆           ┆           ┆          │\n",
       "╞═══════════╪═══════════╪═══════════╪═══════════╪═══╪═══════════╪═══════════╪═══════════╪══════════╡\n",
       "│ 92/00360- ┆ Ácaros    ┆ null      ┆ Andrea    ┆ … ┆ null      ┆ null      ┆ null      ┆ null     │\n",
       "│ 9         ┆ hematófag ┆           ┆ Godoy     ┆   ┆           ┆           ┆           ┆          │\n",
       "│           ┆ os em     ┆           ┆ Vicente   ┆   ┆           ┆           ┆           ┆          │\n",
       "│           ┆ aviários… ┆           ┆           ┆   ┆           ┆           ┆           ┆          │\n",
       "│ 92/00346- ┆ Levantame ┆ null      ┆ Marsia    ┆ … ┆ null      ┆ Está      ┆ null      ┆ null     │\n",
       "│ 6         ┆ nto do    ┆           ┆ Antonieta ┆   ┆           ┆ sendo     ┆           ┆          │\n",
       "│           ┆ estado    ┆           ┆ de Souza  ┆   ┆           ┆ realizado ┆           ┆          │\n",
       "│           ┆ nutrici…  ┆           ┆ Guil…     ┆   ┆           ┆ um        ┆           ┆          │\n",
       "│           ┆           ┆           ┆           ┆   ┆           ┆ levant…   ┆           ┆          │\n",
       "│ 92/00384- ┆ Levantame ┆ null      ┆ Ivan Ferd ┆ … ┆ null      ┆ Está      ┆ null      ┆ null     │\n",
       "│ 5         ┆ nto do    ┆           ┆ inando    ┆   ┆           ┆ sendo     ┆           ┆          │\n",
       "│           ┆ estado    ┆           ┆ Gergolett ┆   ┆           ┆ realizado ┆           ┆          │\n",
       "│           ┆ nutrici…  ┆           ┆ i         ┆   ┆           ┆ um        ┆           ┆          │\n",
       "│           ┆           ┆           ┆           ┆   ┆           ┆ levant…   ┆           ┆          │\n",
       "│ 92/00222- ┆ Isolament ┆ null      ┆ Katia     ┆ … ┆ null      ┆ O projeto ┆ null      ┆ null     │\n",
       "│ 5         ┆ o de reve ┆           ┆ Maria da  ┆   ┆           ┆ atual     ┆           ┆          │\n",
       "│           ┆ rtentes   ┆           ┆ Rocha     ┆   ┆           ┆ visa      ┆           ┆          │\n",
       "│           ┆ norm…     ┆           ┆           ┆   ┆           ┆ analisar  ┆           ┆          │\n",
       "│           ┆           ┆           ┆           ┆   ┆           ┆ …         ┆           ┆          │\n",
       "│ null      ┆ null      ┆ null      ┆ null      ┆ … ┆ null      ┆ null      ┆ null      ┆ null     │\n",
       "│ null      ┆ null      ┆ null      ┆ null      ┆ … ┆ null      ┆ null      ┆ null      ┆ null     │\n",
       "│ >>> Bibli ┆ null      ┆ null      ┆ null      ┆ … ┆ null      ┆ null      ┆ null      ┆ null     │\n",
       "│ oteca     ┆           ┆           ┆           ┆   ┆           ┆           ┆           ┆          │\n",
       "│ Virtual   ┆           ┆           ┆           ┆   ┆           ┆           ┆           ┆          │\n",
       "│ da FAPE…  ┆           ┆           ┆           ┆   ┆           ┆           ┆           ┆          │\n",
       "│ Dados atu ┆ null      ┆ null      ┆ null      ┆ … ┆ null      ┆ null      ┆ null      ┆ null     │\n",
       "│ alizados  ┆           ┆           ┆           ┆   ┆           ┆           ┆           ┆          │\n",
       "│ em:       ┆           ┆           ┆           ┆   ┆           ┆           ┆           ┆          │\n",
       "│ 10/May/2… ┆           ┆           ┆           ┆   ┆           ┆           ┆           ┆          │\n",
       "│ URL: http ┆ null      ┆ null      ┆ null      ┆ … ┆ null      ┆ null      ┆ null      ┆ null     │\n",
       "│ s://bv.fa ┆           ┆           ┆           ┆   ┆           ┆           ┆           ┆          │\n",
       "│ pesp.br/  ┆           ┆           ┆           ┆   ┆           ┆           ┆           ┆          │\n",
       "│ null      ┆ null      ┆ null      ┆ null      ┆ … ┆ null      ┆ null      ┆ null      ┆ null     │\n",
       "└───────────┴───────────┴───────────┴───────────┴───┴───────────┴───────────┴───────────┴──────────┘"
      ]
     },
     "execution_count": 7,
     "metadata": {},
     "output_type": "execute_result"
    }
   ],
   "source": [
    "df.tail(10)"
   ]
  },
  {
   "cell_type": "markdown",
   "id": "de765a32",
   "metadata": {},
   "source": [
    "## .describe()\n",
    "Traz estatísticas descritivas básicas da base de dados."
   ]
  },
  {
   "cell_type": "code",
   "execution_count": 8,
   "id": "7e6be35e",
   "metadata": {},
   "outputs": [
    {
     "data": {
      "text/html": [
       "<div><style>\n",
       ".dataframe > thead > tr,\n",
       ".dataframe > tbody > tr {\n",
       "  text-align: right;\n",
       "  white-space: pre-wrap;\n",
       "}\n",
       "</style>\n",
       "<small>shape: (9, 31)</small><table border=\"1\" class=\"dataframe\"><thead><tr><th>statistic</th><th>N. Processo</th><th>Título (Português)</th><th>Título (Inglês)</th><th>Beneficiário</th><th>Instituição</th><th>Cidade Instituição</th><th>Instituição Parceira</th><th>Empresa</th><th>Município</th><th>Pesquisador Responsável</th><th>Pesquisadores Principais</th><th>Pesquisadores Associados</th><th>Supervisor</th><th>Local de Pesquisa</th><th>Pesquisador Visitante</th><th>Instituição do Pesquisador Visitante</th><th>Modalidade de apoio</th><th>Grande Área do Conhecimento</th><th>Área do Conhecimento</th><th>Subárea do Conhecimento</th><th>Assuntos</th><th>Data de Início</th><th>Data de Término</th><th>Acordo(s)/Convênio(s) de Cooperação com a FAPESP</th><th>Instituições no Exterior</th><th>Pais de Origem</th><th>Pesquisador responsável no exterior</th><th>Resumo (Português)</th><th>Resumo (Inglês)</th><th>Processos Vinculados</th></tr><tr><td>str</td><td>str</td><td>str</td><td>str</td><td>str</td><td>str</td><td>str</td><td>str</td><td>str</td><td>str</td><td>str</td><td>str</td><td>str</td><td>str</td><td>str</td><td>str</td><td>str</td><td>str</td><td>str</td><td>str</td><td>str</td><td>str</td><td>str</td><td>str</td><td>str</td><td>str</td><td>str</td><td>str</td><td>str</td><td>str</td><td>str</td></tr></thead><tbody><tr><td>&quot;count&quot;</td><td>&quot;155770&quot;</td><td>&quot;155577&quot;</td><td>&quot;82913&quot;</td><td>&quot;155767&quot;</td><td>&quot;150087&quot;</td><td>&quot;150064&quot;</td><td>&quot;6279&quot;</td><td>&quot;0&quot;</td><td>&quot;0&quot;</td><td>&quot;155767&quot;</td><td>&quot;0&quot;</td><td>&quot;0&quot;</td><td>&quot;0&quot;</td><td>&quot;302&quot;</td><td>&quot;0&quot;</td><td>&quot;0&quot;</td><td>&quot;155767&quot;</td><td>&quot;155767&quot;</td><td>&quot;154091&quot;</td><td>&quot;129493&quot;</td><td>&quot;149011&quot;</td><td>&quot;155767&quot;</td><td>&quot;155767&quot;</td><td>&quot;7043&quot;</td><td>&quot;306&quot;</td><td>&quot;1560&quot;</td><td>&quot;5&quot;</td><td>&quot;148730&quot;</td><td>&quot;63012&quot;</td><td>&quot;10619&quot;</td></tr><tr><td>&quot;null_count&quot;</td><td>&quot;3&quot;</td><td>&quot;196&quot;</td><td>&quot;72860&quot;</td><td>&quot;6&quot;</td><td>&quot;5686&quot;</td><td>&quot;5709&quot;</td><td>&quot;149494&quot;</td><td>&quot;155773&quot;</td><td>&quot;155773&quot;</td><td>&quot;6&quot;</td><td>&quot;155773&quot;</td><td>&quot;155773&quot;</td><td>&quot;155773&quot;</td><td>&quot;155471&quot;</td><td>&quot;155773&quot;</td><td>&quot;155773&quot;</td><td>&quot;6&quot;</td><td>&quot;6&quot;</td><td>&quot;1682&quot;</td><td>&quot;26280&quot;</td><td>&quot;6762&quot;</td><td>&quot;6&quot;</td><td>&quot;6&quot;</td><td>&quot;148730&quot;</td><td>&quot;155467&quot;</td><td>&quot;154213&quot;</td><td>&quot;155768&quot;</td><td>&quot;7043&quot;</td><td>&quot;92761&quot;</td><td>&quot;145154&quot;</td></tr><tr><td>&quot;mean&quot;</td><td>null</td><td>null</td><td>null</td><td>null</td><td>null</td><td>null</td><td>null</td><td>null</td><td>null</td><td>null</td><td>null</td><td>null</td><td>null</td><td>null</td><td>null</td><td>null</td><td>null</td><td>null</td><td>null</td><td>null</td><td>null</td><td>null</td><td>null</td><td>null</td><td>null</td><td>null</td><td>null</td><td>null</td><td>null</td><td>null</td></tr><tr><td>&quot;std&quot;</td><td>null</td><td>null</td><td>null</td><td>null</td><td>null</td><td>null</td><td>null</td><td>null</td><td>null</td><td>null</td><td>null</td><td>null</td><td>null</td><td>null</td><td>null</td><td>null</td><td>null</td><td>null</td><td>null</td><td>null</td><td>null</td><td>null</td><td>null</td><td>null</td><td>null</td><td>null</td><td>null</td><td>null</td><td>null</td><td>null</td></tr><tr><td>&quot;min&quot;</td><td>&quot;00/00003-0&quot;</td><td>&quot; Almotacés e a almotaçaria na …</td><td>&quot;\tGray matter alterations in pa…</td><td>&quot;ALLAN DE OLIVEIRA SANTOS&quot;</td><td>&quot;Anhanguera Educacional Partici…</td><td>&quot;Adamantina&quot;</td><td>&quot;3D Bioeng - Startup de Soluçõe…</td><td>null</td><td>null</td><td>&quot;ALINE CRISTINA MARTINS GRATAO&quot;</td><td>null</td><td>null</td><td>null</td><td>&quot;Agenzia Zadig Giornalismo Scie…</td><td>null</td><td>null</td><td>&quot;Bolsas no Brasil - Aperfeiçoam…</td><td>&quot;Ciências Agrárias&quot;</td><td>&quot;Administração&quot;</td><td>&quot;Administração Educacional&quot;</td><td>&quot;4-Aminopiridina:Fototerapia:Co…</td><td>&quot;1992-02-01&quot;</td><td>&quot;1992-07-31&quot;</td><td>&quot;AHRC,UKRI&quot;</td><td>&quot;Agenzia Zadig Giornalismo Scie…</td><td>&quot;Alemanha&quot;</td><td>&quot;Alan R. Katritzky&quot;</td><td>&quot; Apesar de recomendação da Org…</td><td>&quot;\n",
       "Annually, millions of tons of…</td><td>&quot;00/10181-2&quot;</td></tr><tr><td>&quot;25%&quot;</td><td>null</td><td>null</td><td>null</td><td>null</td><td>null</td><td>null</td><td>null</td><td>null</td><td>null</td><td>null</td><td>null</td><td>null</td><td>null</td><td>null</td><td>null</td><td>null</td><td>null</td><td>null</td><td>null</td><td>null</td><td>null</td><td>null</td><td>null</td><td>null</td><td>null</td><td>null</td><td>null</td><td>null</td><td>null</td><td>null</td></tr><tr><td>&quot;50%&quot;</td><td>null</td><td>null</td><td>null</td><td>null</td><td>null</td><td>null</td><td>null</td><td>null</td><td>null</td><td>null</td><td>null</td><td>null</td><td>null</td><td>null</td><td>null</td><td>null</td><td>null</td><td>null</td><td>null</td><td>null</td><td>null</td><td>null</td><td>null</td><td>null</td><td>null</td><td>null</td><td>null</td><td>null</td><td>null</td><td>null</td></tr><tr><td>&quot;75%&quot;</td><td>null</td><td>null</td><td>null</td><td>null</td><td>null</td><td>null</td><td>null</td><td>null</td><td>null</td><td>null</td><td>null</td><td>null</td><td>null</td><td>null</td><td>null</td><td>null</td><td>null</td><td>null</td><td>null</td><td>null</td><td>null</td><td>null</td><td>null</td><td>null</td><td>null</td><td>null</td><td>null</td><td>null</td><td>null</td><td>null</td></tr><tr><td>&quot;max&quot;</td><td>&quot;URL: https://bv.fapesp.br/&quot;</td><td>&quot;Último Teorema de Fermat para …</td><td>&quot;Émile Gaboriau and the &quot;&quot;roman…</td><td>&quot;Úrsula dos Santos Lopez&quot;</td><td>&quot;União das Escolas do Grupo Fai…</td><td>&quot;Votuporanga&quot;</td><td>&quot;Átomo Radioproteção e Seguranç…</td><td>null</td><td>null</td><td>&quot;Ítalo Braga de Castro&quot;</td><td>null</td><td>null</td><td>null</td><td>&quot;World Federation of Science Jo…</td><td>null</td><td>null</td><td>&quot;Bolsas no Brasil - Pós-Doutora…</td><td>&quot;Linguística, Letras e Artes&quot;</td><td>&quot;Zootecnia&quot;</td><td>&quot;Ópera&quot;</td><td>&quot;Útero:Éguas:Citologia:Endometr…</td><td>&quot;2025-04-01&quot;</td><td>&quot;2025-05-03&quot;</td><td>&quot;West Virginia University&quot;</td><td>&quot;World Federation of Science Jo…</td><td>&quot;África do Sul&quot;</td><td>&quot;Rebecca A. Butcher&quot;</td><td>&quot;ß-dicetonas (ex., succinilacet…</td><td>&quot;ANALYSIS OF TERPENOIDS PRODUC…</td><td>&quot;25/04012-0&quot;</td></tr></tbody></table></div>"
      ],
      "text/plain": [
       "shape: (9, 31)\n",
       "┌───────────┬───────────┬───────────┬───────────┬───┬───────────┬───────────┬───────────┬──────────┐\n",
       "│ statistic ┆ N.        ┆ Título    ┆ Título    ┆ … ┆ Pesquisad ┆ Resumo    ┆ Resumo    ┆ Processo │\n",
       "│ ---       ┆ Processo  ┆ (Portuguê ┆ (Inglês)  ┆   ┆ or respon ┆ (Portuguê ┆ (Inglês)  ┆ s Vincul │\n",
       "│ str       ┆ ---       ┆ s)        ┆ ---       ┆   ┆ sável no  ┆ s)        ┆ ---       ┆ ados     │\n",
       "│           ┆ str       ┆ ---       ┆ str       ┆   ┆ ext…      ┆ ---       ┆ str       ┆ ---      │\n",
       "│           ┆           ┆ str       ┆           ┆   ┆ ---       ┆ str       ┆           ┆ str      │\n",
       "│           ┆           ┆           ┆           ┆   ┆ str       ┆           ┆           ┆          │\n",
       "╞═══════════╪═══════════╪═══════════╪═══════════╪═══╪═══════════╪═══════════╪═══════════╪══════════╡\n",
       "│ count     ┆ 155770    ┆ 155577    ┆ 82913     ┆ … ┆ 5         ┆ 148730    ┆ 63012     ┆ 10619    │\n",
       "│ null_coun ┆ 3         ┆ 196       ┆ 72860     ┆ … ┆ 155768    ┆ 7043      ┆ 92761     ┆ 145154   │\n",
       "│ t         ┆           ┆           ┆           ┆   ┆           ┆           ┆           ┆          │\n",
       "│ mean      ┆ null      ┆ null      ┆ null      ┆ … ┆ null      ┆ null      ┆ null      ┆ null     │\n",
       "│ std       ┆ null      ┆ null      ┆ null      ┆ … ┆ null      ┆ null      ┆ null      ┆ null     │\n",
       "│ min       ┆ 00/00003- ┆ Almotacés ┆ \tGray     ┆ … ┆ Alan R.   ┆ Apesar de ┆           ┆ 00/10181 │\n",
       "│           ┆ 0         ┆ e a almot ┆ matter    ┆   ┆ Katritzky ┆ recomenda ┆ Annually, ┆ -2       │\n",
       "│           ┆           ┆ açaria na ┆ alteratio ┆   ┆           ┆ ção da    ┆ millions  ┆          │\n",
       "│           ┆           ┆ …         ┆ ns in pa… ┆   ┆           ┆ Org…      ┆ of tons   ┆          │\n",
       "│           ┆           ┆           ┆           ┆   ┆           ┆           ┆ of…       ┆          │\n",
       "│ 25%       ┆ null      ┆ null      ┆ null      ┆ … ┆ null      ┆ null      ┆ null      ┆ null     │\n",
       "│ 50%       ┆ null      ┆ null      ┆ null      ┆ … ┆ null      ┆ null      ┆ null      ┆ null     │\n",
       "│ 75%       ┆ null      ┆ null      ┆ null      ┆ … ┆ null      ┆ null      ┆ null      ┆ null     │\n",
       "│ max       ┆ URL: http ┆ Último    ┆ Émile     ┆ … ┆ Rebecca   ┆ ß-diceton ┆ ANALYSIS ┆ 25/04012 │\n",
       "│           ┆ s://bv.fa ┆ Teorema   ┆ Gaboriau  ┆   ┆ A.        ┆ as (ex.,  ┆ OF TERPEN ┆ -0       │\n",
       "│           ┆ pesp.br/  ┆ de Fermat ┆ and the   ┆   ┆ Butcher   ┆ succinila ┆ OIDS      ┆          │\n",
       "│           ┆           ┆ para …    ┆ \"\"roman…  ┆   ┆           ┆ cet…      ┆ PRODUC…   ┆          │\n",
       "└───────────┴───────────┴───────────┴───────────┴───┴───────────┴───────────┴───────────┴──────────┘"
      ]
     },
     "execution_count": 8,
     "metadata": {},
     "output_type": "execute_result"
    }
   ],
   "source": [
    "df.describe()"
   ]
  },
  {
   "cell_type": "markdown",
   "id": "942b40c9",
   "metadata": {},
   "source": [
    "Para cada coluna, `.describe()` gera uma série de estatísticas:\n",
    "\n",
    "`count`: contagem de valores não nulos.\n",
    "\n",
    "`null_count`: contagem de valores nulos.\n",
    "\n",
    "`mean`: média.\n",
    "\n",
    "`std`: desvio padrão.\n",
    "\n",
    "`min`: menor valor.\n",
    "\n",
    "`25%`: primeiro quartil.\n",
    "\n",
    "`50%`: mediana.\n",
    "\n",
    "`75%`: terceiro quartil.\n",
    "\n",
    "`max`: maior valor.\n",
    "\n",
    "Por natureza, esses valores são mais relevantes para dados numéricos, mas temos já algumas informações úteis, como o fato de que várias colunas não contém dados não nulos e, por isso, poderão ser excluídas da nossa análise."
   ]
  },
  {
   "cell_type": "markdown",
   "id": "ab26d539",
   "metadata": {},
   "source": [
    "## .columns\n",
    "\n",
    "Para ver o nome de todas as colunas, podemos utilizar .columns - sem parenteses, porque não é uma função."
   ]
  },
  {
   "cell_type": "code",
   "execution_count": 9,
   "id": "4373021b",
   "metadata": {},
   "outputs": [
    {
     "data": {
      "text/plain": [
       "['N. Processo',\n",
       " 'Título (Português)',\n",
       " 'Título (Inglês)',\n",
       " 'Beneficiário',\n",
       " 'Instituição',\n",
       " 'Cidade Instituição',\n",
       " 'Instituição Parceira',\n",
       " 'Empresa',\n",
       " 'Município',\n",
       " 'Pesquisador Responsável',\n",
       " 'Pesquisadores Principais',\n",
       " 'Pesquisadores Associados',\n",
       " 'Supervisor',\n",
       " 'Local de Pesquisa',\n",
       " 'Pesquisador Visitante',\n",
       " 'Instituição do Pesquisador Visitante',\n",
       " 'Modalidade de apoio',\n",
       " 'Grande Área do Conhecimento',\n",
       " 'Área do Conhecimento',\n",
       " 'Subárea do Conhecimento',\n",
       " 'Assuntos',\n",
       " 'Data de Início',\n",
       " 'Data de Término',\n",
       " 'Acordo(s)/Convênio(s) de Cooperação com a FAPESP',\n",
       " 'Instituições no Exterior',\n",
       " 'Pais de Origem',\n",
       " 'Pesquisador responsável no exterior',\n",
       " 'Resumo (Português)',\n",
       " 'Resumo (Inglês)',\n",
       " 'Processos Vinculados']"
      ]
     },
     "execution_count": 9,
     "metadata": {},
     "output_type": "execute_result"
    }
   ],
   "source": [
    "df.columns"
   ]
  },
  {
   "cell_type": "markdown",
   "id": "4a263368",
   "metadata": {},
   "source": [
    "## .value_counts()\n",
    "Vamos retomar isso mais para frente, mas vale já a pena pensar em que colunas podem ser interessantes de se olhar sob um viés mais quantitativo. Podemos contar quanto certas informações aparecem em uma coluna usando `.value_counts()`, como, por exemplo, a coluna sobre \"Grande Área do Conhecimento\":"
   ]
  },
  {
   "cell_type": "code",
   "execution_count": 10,
   "id": "4ef472a6",
   "metadata": {},
   "outputs": [
    {
     "data": {
      "text/html": [
       "<div><style>\n",
       ".dataframe > thead > tr,\n",
       ".dataframe > tbody > tr {\n",
       "  text-align: right;\n",
       "  white-space: pre-wrap;\n",
       "}\n",
       "</style>\n",
       "<small>shape: (10, 2)</small><table border=\"1\" class=\"dataframe\"><thead><tr><th>Grande Área do Conhecimento</th><th>count</th></tr><tr><td>str</td><td>u32</td></tr></thead><tbody><tr><td>&quot;Ciências Exatas e da Terra&quot;</td><td>26081</td></tr><tr><td>&quot;Ciências Sociais Aplicadas&quot;</td><td>7284</td></tr><tr><td>&quot;Ciências Agrárias&quot;</td><td>19452</td></tr><tr><td>&quot;Interdisciplinar&quot;</td><td>1677</td></tr><tr><td>&quot;Ciências da Saúde&quot;</td><td>26943</td></tr><tr><td>null</td><td>6</td></tr><tr><td>&quot;Engenharias&quot;</td><td>17002</td></tr><tr><td>&quot;Ciências Biológicas&quot;</td><td>34201</td></tr><tr><td>&quot;Linguística, Letras e Artes&quot;</td><td>6190</td></tr><tr><td>&quot;Ciências Humanas&quot;</td><td>16937</td></tr></tbody></table></div>"
      ],
      "text/plain": [
       "shape: (10, 2)\n",
       "┌─────────────────────────────┬───────┐\n",
       "│ Grande Área do Conhecimento ┆ count │\n",
       "│ ---                         ┆ ---   │\n",
       "│ str                         ┆ u32   │\n",
       "╞═════════════════════════════╪═══════╡\n",
       "│ Ciências Exatas e da Terra  ┆ 26081 │\n",
       "│ Ciências Sociais Aplicadas  ┆ 7284  │\n",
       "│ Ciências Agrárias           ┆ 19452 │\n",
       "│ Interdisciplinar            ┆ 1677  │\n",
       "│ Ciências da Saúde           ┆ 26943 │\n",
       "│ null                        ┆ 6     │\n",
       "│ Engenharias                 ┆ 17002 │\n",
       "│ Ciências Biológicas         ┆ 34201 │\n",
       "│ Linguística, Letras e Artes ┆ 6190  │\n",
       "│ Ciências Humanas            ┆ 16937 │\n",
       "└─────────────────────────────┴───────┘"
      ]
     },
     "execution_count": 10,
     "metadata": {},
     "output_type": "execute_result"
    }
   ],
   "source": [
    "df['Grande Área do Conhecimento'].value_counts()"
   ]
  },
  {
   "cell_type": "markdown",
   "id": "f70c61ab",
   "metadata": {},
   "source": [
    "Uma coisa chata que eu não sabia do polars é que, pra ganhar velocidade, ele não te retorna automaticamente o resultado de value_counts() do maior para o menor. No entanto, para isso, basta utilizar `sort=True`."
   ]
  },
  {
   "cell_type": "code",
   "execution_count": 11,
   "id": "5ace2ce4",
   "metadata": {},
   "outputs": [
    {
     "data": {
      "text/html": [
       "<div><style>\n",
       ".dataframe > thead > tr,\n",
       ".dataframe > tbody > tr {\n",
       "  text-align: right;\n",
       "  white-space: pre-wrap;\n",
       "}\n",
       "</style>\n",
       "<small>shape: (10, 2)</small><table border=\"1\" class=\"dataframe\"><thead><tr><th>Grande Área do Conhecimento</th><th>count</th></tr><tr><td>str</td><td>u32</td></tr></thead><tbody><tr><td>&quot;Ciências Biológicas&quot;</td><td>34201</td></tr><tr><td>&quot;Ciências da Saúde&quot;</td><td>26943</td></tr><tr><td>&quot;Ciências Exatas e da Terra&quot;</td><td>26081</td></tr><tr><td>&quot;Ciências Agrárias&quot;</td><td>19452</td></tr><tr><td>&quot;Engenharias&quot;</td><td>17002</td></tr><tr><td>&quot;Ciências Humanas&quot;</td><td>16937</td></tr><tr><td>&quot;Ciências Sociais Aplicadas&quot;</td><td>7284</td></tr><tr><td>&quot;Linguística, Letras e Artes&quot;</td><td>6190</td></tr><tr><td>&quot;Interdisciplinar&quot;</td><td>1677</td></tr><tr><td>null</td><td>6</td></tr></tbody></table></div>"
      ],
      "text/plain": [
       "shape: (10, 2)\n",
       "┌─────────────────────────────┬───────┐\n",
       "│ Grande Área do Conhecimento ┆ count │\n",
       "│ ---                         ┆ ---   │\n",
       "│ str                         ┆ u32   │\n",
       "╞═════════════════════════════╪═══════╡\n",
       "│ Ciências Biológicas         ┆ 34201 │\n",
       "│ Ciências da Saúde           ┆ 26943 │\n",
       "│ Ciências Exatas e da Terra  ┆ 26081 │\n",
       "│ Ciências Agrárias           ┆ 19452 │\n",
       "│ Engenharias                 ┆ 17002 │\n",
       "│ Ciências Humanas            ┆ 16937 │\n",
       "│ Ciências Sociais Aplicadas  ┆ 7284  │\n",
       "│ Linguística, Letras e Artes ┆ 6190  │\n",
       "│ Interdisciplinar            ┆ 1677  │\n",
       "│ null                        ┆ 6     │\n",
       "└─────────────────────────────┴───────┘"
      ]
     },
     "execution_count": 11,
     "metadata": {},
     "output_type": "execute_result"
    }
   ],
   "source": [
    "df['Grande Área do Conhecimento'].value_counts(sort=True)"
   ]
  },
  {
   "cell_type": "markdown",
   "id": "19fcb299",
   "metadata": {},
   "source": [
    "Já já iremos utilizar mais o value_counts() para explorar melhor os nossos dados."
   ]
  },
  {
   "cell_type": "markdown",
   "id": "4baedc51",
   "metadata": {},
   "source": [
    "## Pendências\n",
    "\n",
    "Nessa exploração inicial, identificamos algumas tarefas de tratamentos de dados que iremos realizar ao longo das próximas aulas:\n",
    "1. Remover linhas e colunas sem dados.\n",
    "2. Converter colunas de datas para formato de data."
   ]
  }
 ],
 "metadata": {
  "kernelspec": {
   "display_name": ".venv",
   "language": "python",
   "name": "python3"
  },
  "language_info": {
   "codemirror_mode": {
    "name": "ipython",
    "version": 3
   },
   "file_extension": ".py",
   "mimetype": "text/x-python",
   "name": "python",
   "nbconvert_exporter": "python",
   "pygments_lexer": "ipython3",
   "version": "3.12.3"
  }
 },
 "nbformat": 4,
 "nbformat_minor": 5
}
