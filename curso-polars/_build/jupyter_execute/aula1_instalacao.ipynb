{
 "cells": [
  {
   "cell_type": "markdown",
   "id": "4c770e6e",
   "metadata": {},
   "source": [
    "# Aula 1 - Instalação e import\n",
    "\n",
    "Oi, meu amooor!\n",
    "\n",
    "Pra começar a usar polars, surpresa: precisamos ter o polars instalado!!!\n",
    "\n",
    "Para fazer isso, basta rodar `!pip install polars` em uma célula. Isso irá instalar o polars no seu python.\n",
    "\n",
    "Essa parte de instalação as vezes é meio chatinha então, tendo algum problema, pergunta pro ChatoGPT (o original, eu, ou a cópia vendida pela OpenAI)."
   ]
  },
  {
   "cell_type": "code",
   "execution_count": 1,
   "id": "94d84660",
   "metadata": {},
   "outputs": [
    {
     "name": "stdout",
     "output_type": "stream",
     "text": [
      "/bin/bash: line 1: pip: command not found\r\n"
     ]
    }
   ],
   "source": [
    "!pip install polars"
   ]
  },
  {
   "cell_type": "markdown",
   "id": "40011e7e",
   "metadata": {},
   "source": [
    "Aqui eu estou usando uma biblioteca chamada uv pra simular como se eu não tivesse instalado nada antes e, por isso, aparece esse \"Audited 1 package in 0.70ms\". No seu caso, deve aparecer uma mensagem um pouco diferente, mas tá tudo bem."
   ]
  },
  {
   "cell_type": "markdown",
   "id": "fdbc1597",
   "metadata": {},
   "source": [
    "## Importando o polars\n",
    "\n",
    "O que torna programação incrível, entre outras coisas, é o fato de que é muito fácil compartilhar código. Assim, não é necessário que toda pessoa que queira analisar planihas tenha que criar uma biblioteca do zero - ela pode utilizar bibliotecas feitas por outras pessoas.\n",
    "\n",
    "Chamamos de biblioteca conjuntos de funções pré-configuradas.\n",
    "\n",
    "Existem algumas bibliotecas que vem junto com o python, como as bibliotecas `math` e `random`. Para usarmos essas bibliotecas, basta usar a função `import` da seguinte maneira:"
   ]
  },
  {
   "cell_type": "code",
   "execution_count": 2,
   "id": "9298fb40",
   "metadata": {},
   "outputs": [],
   "source": [
    "import math\n",
    "import random"
   ]
  },
  {
   "cell_type": "markdown",
   "id": "360539e3",
   "metadata": {},
   "source": [
    "Seria possível importar tudo de uma vez escrevendo `import math, random`, mas a convenção é importar uma biblioteca por linha para ficar mais organizado.\n",
    "\n",
    "Tendo importado essas bibliotecas, podemos usar suas funções:"
   ]
  },
  {
   "cell_type": "code",
   "execution_count": 3,
   "id": "8ada388a",
   "metadata": {},
   "outputs": [
    {
     "data": {
      "text/plain": [
       "3628800"
      ]
     },
     "execution_count": 3,
     "metadata": {},
     "output_type": "execute_result"
    }
   ],
   "source": [
    "# Fatora o número entre parenteses - nesse caso, 10\n",
    "math.factorial(10)"
   ]
  },
  {
   "cell_type": "code",
   "execution_count": 4,
   "id": "59c555f3",
   "metadata": {},
   "outputs": [
    {
     "data": {
      "text/plain": [
       "396233"
      ]
     },
     "execution_count": 4,
     "metadata": {},
     "output_type": "execute_result"
    }
   ],
   "source": [
    "# Gera um número aleatório entre o primeiro e o segundo número (inclusos) - neste caso, entre 0 e 1 milhão\n",
    "random.randint(0, 1000000)\n",
    "\n",
    "# Rode essa célula várias vezes pra ver como os números vão mudando"
   ]
  },
  {
   "cell_type": "markdown",
   "id": "453ec7b2",
   "metadata": {},
   "source": [
    "Como você pode ver, para usar uma função da biblioteca `math` escrevemos `math.` antes do nome da função. Isso é necessário para indicar ao python que queremos usar a função `factorial` que vem de math. Algo semelhante acontece com `randint`, que deve ser precedido de `randint`.\n",
    "\n",
    "Da maneira como fizemos o import, isso sempre será necessário, mas é possível importar uma função específica e, assim, não será mais necessário sempre escrever o nome da biblioteca. Para fazer isso, vamos mudar um pouco o import:"
   ]
  },
  {
   "cell_type": "code",
   "execution_count": 5,
   "id": "9ba04050",
   "metadata": {},
   "outputs": [],
   "source": [
    "from math import log10 # função para calcular o log de x na base 10"
   ]
  },
  {
   "cell_type": "markdown",
   "id": "bd2e1e80",
   "metadata": {},
   "source": [
    "Ao fazer `from <nome da biblioteca> import <nome da função>`, importamos especificamente aquela função."
   ]
  },
  {
   "cell_type": "code",
   "execution_count": 6,
   "id": "e011293f",
   "metadata": {},
   "outputs": [
    {
     "data": {
      "text/plain": [
       "1.3010299956639813"
      ]
     },
     "execution_count": 6,
     "metadata": {},
     "output_type": "execute_result"
    }
   ],
   "source": [
    "# Como antes importamos a biblioteca inteira, o jeito antigo ainda funciona\n",
    "math.log10(20)"
   ]
  },
  {
   "cell_type": "code",
   "execution_count": 7,
   "id": "2d41f7bb",
   "metadata": {},
   "outputs": [
    {
     "data": {
      "text/plain": [
       "1.3010299956639813"
      ]
     },
     "execution_count": 7,
     "metadata": {},
     "output_type": "execute_result"
    }
   ],
   "source": [
    "# Mas agora temos também como chamar a função sem o \"math.\" antes\n",
    "log10(20)"
   ]
  },
  {
   "cell_type": "code",
   "execution_count": 8,
   "id": "aa44ee04",
   "metadata": {},
   "outputs": [
    {
     "data": {
      "text/plain": [
       "40320"
      ]
     },
     "execution_count": 8,
     "metadata": {},
     "output_type": "execute_result"
    }
   ],
   "source": [
    "# A função de fatorial segue funcionando como antes\n",
    "math.factorial(8)"
   ]
  },
  {
   "cell_type": "code",
   "execution_count": 9,
   "id": "0c8efd47",
   "metadata": {},
   "outputs": [
    {
     "ename": "NameError",
     "evalue": "name 'factorial' is not defined",
     "output_type": "error",
     "traceback": [
      "\u001b[31m---------------------------------------------------------------------------\u001b[39m",
      "\u001b[31mNameError\u001b[39m                                 Traceback (most recent call last)",
      "\u001b[36mCell\u001b[39m\u001b[36m \u001b[39m\u001b[32mIn[9]\u001b[39m\u001b[32m, line 2\u001b[39m\n\u001b[32m      1\u001b[39m \u001b[38;5;66;03m# Mas, como não teve um import específico, sem o \"math.\" antes não funciona\u001b[39;00m\n\u001b[32m----> \u001b[39m\u001b[32m2\u001b[39m \u001b[43mfactorial\u001b[49m(\u001b[32m8\u001b[39m)\n",
      "\u001b[31mNameError\u001b[39m: name 'factorial' is not defined"
     ]
    }
   ],
   "source": [
    "# Mas, como não teve um import específico, sem o \"math.\" antes não funciona\n",
    "factorial(8)"
   ]
  },
  {
   "cell_type": "markdown",
   "id": "45e632cb",
   "metadata": {},
   "source": [
    "Apesar de ser possível sempre importar apenas funções específicas, em geral, é boa prática importar a biblioteca inteira, para ficar claro de onde surgiu determinada função.\n",
    "\n",
    "Você pode estar pensando: mas poxa, Bruno, que preguiça... tem sempre que ficar escrevendo tudão então?\n",
    "\n",
    "Tenho uma ótima notícia pra xuxu: Não!!! Olha que fofo: podemos dar apelidos para as bibliotecas e é assim que se convencionou importar o polars.\n",
    "\n",
    "Vejamos:"
   ]
  },
  {
   "cell_type": "code",
   "execution_count": 17,
   "id": "4daea894",
   "metadata": {},
   "outputs": [],
   "source": [
    "import polars as pl"
   ]
  },
  {
   "cell_type": "markdown",
   "id": "0b97f636",
   "metadata": {},
   "source": [
    "Ao acrescentar um `as <apelido>` em vez de escrevermos o nome inteiro da biblioteca antes de usar uma função dela, podemos escrever apenas o apelido. Ou seja, em vez de `polars.` antes de cada função, ficaria `pl.`. Vida longa aos preguiçosos!!!"
   ]
  },
  {
   "cell_type": "markdown",
   "id": "6eee82d2",
   "metadata": {},
   "source": [
    "### Conclusão\n",
    "\n",
    "Falei do import em mais detalhes por dois motivos:\n",
    "1. Se for ler código de outras pessoas, pode ver diferentes imports, então achei que seria legal aprofundar um pouco mais nesse ponto.\n",
    "2. Um erro bastante comum ao começar a utilizar essas bibliotecas é esquecer de colocar o nome de onde vem a função antes de utilizá-la. Espero que, com esse detalhamento maior, seja mais fácil de lembrar que ele tem sempre que estar lá e não esquecer nunca dos muitos `pl.` que vamos ter que escrever"
   ]
  }
 ],
 "metadata": {
  "kernelspec": {
   "display_name": ".venv",
   "language": "python",
   "name": "python3"
  },
  "language_info": {
   "codemirror_mode": {
    "name": "ipython",
    "version": 3
   },
   "file_extension": ".py",
   "mimetype": "text/x-python",
   "name": "python",
   "nbconvert_exporter": "python",
   "pygments_lexer": "ipython3",
   "version": "3.12.3"
  }
 },
 "nbformat": 4,
 "nbformat_minor": 5
}